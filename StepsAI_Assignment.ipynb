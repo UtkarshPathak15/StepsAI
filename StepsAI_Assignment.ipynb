{
  "cells": [
    {
      "cell_type": "code",
      "execution_count": 2,
      "metadata": {
        "colab": {
          "base_uri": "https://localhost:8080/"
        },
        "id": "yDsUYRwxRhsE",
        "outputId": "2f918c41-cad4-4a31-dbd6-fddb21c6437c"
      },
      "outputs": [
        {
          "output_type": "stream",
          "name": "stdout",
          "text": [
            "Collecting bs4\n",
            "  Downloading bs4-0.0.2-py2.py3-none-any.whl (1.2 kB)\n",
            "Requirement already satisfied: beautifulsoup4 in /usr/local/lib/python3.10/dist-packages (from bs4) (4.12.3)\n",
            "Requirement already satisfied: soupsieve>1.2 in /usr/local/lib/python3.10/dist-packages (from beautifulsoup4->bs4) (2.5)\n",
            "Installing collected packages: bs4\n",
            "Successfully installed bs4-0.0.2\n"
          ]
        }
      ],
      "source": [
        "!pip install bs4"
      ]
    },
    {
      "cell_type": "code",
      "execution_count": 1,
      "metadata": {
        "colab": {
          "base_uri": "https://localhost:8080/"
        },
        "id": "tLYDuKGrRmbG",
        "outputId": "39387ba3-29ce-4208-8436-58640b27650d"
      },
      "outputs": [
        {
          "output_type": "stream",
          "name": "stdout",
          "text": [
            "Collecting milvus\n",
            "  Downloading milvus-2.3.5-py3-none-manylinux2014_x86_64.whl (57.7 MB)\n",
            "\u001b[2K     \u001b[90m━━━━━━━━━━━━━━━━━━━━━━━━━━━━━━━━━━━━━━━━\u001b[0m \u001b[32m57.7/57.7 MB\u001b[0m \u001b[31m14.9 MB/s\u001b[0m eta \u001b[36m0:00:00\u001b[0m\n",
            "\u001b[?25hCollecting pymilvus\n",
            "  Downloading pymilvus-2.4.4-py3-none-any.whl (196 kB)\n",
            "\u001b[2K     \u001b[90m━━━━━━━━━━━━━━━━━━━━━━━━━━━━━━━━━━━━━━━━\u001b[0m \u001b[32m196.0/196.0 kB\u001b[0m \u001b[31m22.7 MB/s\u001b[0m eta \u001b[36m0:00:00\u001b[0m\n",
            "\u001b[?25hRequirement already satisfied: setuptools>=67 in /usr/local/lib/python3.10/dist-packages (from pymilvus) (67.7.2)\n",
            "Collecting grpcio<=1.63.0,>=1.49.1 (from pymilvus)\n",
            "  Downloading grpcio-1.63.0-cp310-cp310-manylinux_2_17_x86_64.manylinux2014_x86_64.whl (5.6 MB)\n",
            "\u001b[2K     \u001b[90m━━━━━━━━━━━━━━━━━━━━━━━━━━━━━━━━━━━━━━━━\u001b[0m \u001b[32m5.6/5.6 MB\u001b[0m \u001b[31m43.2 MB/s\u001b[0m eta \u001b[36m0:00:00\u001b[0m\n",
            "\u001b[?25hRequirement already satisfied: protobuf>=3.20.0 in /usr/local/lib/python3.10/dist-packages (from pymilvus) (3.20.3)\n",
            "Collecting environs<=9.5.0 (from pymilvus)\n",
            "  Downloading environs-9.5.0-py2.py3-none-any.whl (12 kB)\n",
            "Collecting ujson>=2.0.0 (from pymilvus)\n",
            "  Downloading ujson-5.10.0-cp310-cp310-manylinux_2_17_x86_64.manylinux2014_x86_64.whl (53 kB)\n",
            "\u001b[2K     \u001b[90m━━━━━━━━━━━━━━━━━━━━━━━━━━━━━━━━━━━━━━━━\u001b[0m \u001b[32m53.6/53.6 kB\u001b[0m \u001b[31m5.3 MB/s\u001b[0m eta \u001b[36m0:00:00\u001b[0m\n",
            "\u001b[?25hRequirement already satisfied: pandas>=1.2.4 in /usr/local/lib/python3.10/dist-packages (from pymilvus) (2.0.3)\n",
            "Collecting milvus-lite<2.5.0,>=2.4.0 (from pymilvus)\n",
            "  Downloading milvus_lite-2.4.8-py3-none-manylinux2014_x86_64.whl (49.4 MB)\n",
            "\u001b[2K     \u001b[90m━━━━━━━━━━━━━━━━━━━━━━━━━━━━━━━━━━━━━━━━\u001b[0m \u001b[32m49.4/49.4 MB\u001b[0m \u001b[31m9.5 MB/s\u001b[0m eta \u001b[36m0:00:00\u001b[0m\n",
            "\u001b[?25hCollecting marshmallow>=3.0.0 (from environs<=9.5.0->pymilvus)\n",
            "  Downloading marshmallow-3.21.3-py3-none-any.whl (49 kB)\n",
            "\u001b[2K     \u001b[90m━━━━━━━━━━━━━━━━━━━━━━━━━━━━━━━━━━━━━━━━\u001b[0m \u001b[32m49.2/49.2 kB\u001b[0m \u001b[31m5.7 MB/s\u001b[0m eta \u001b[36m0:00:00\u001b[0m\n",
            "\u001b[?25hCollecting python-dotenv (from environs<=9.5.0->pymilvus)\n",
            "  Downloading python_dotenv-1.0.1-py3-none-any.whl (19 kB)\n",
            "Requirement already satisfied: tqdm in /usr/local/lib/python3.10/dist-packages (from milvus-lite<2.5.0,>=2.4.0->pymilvus) (4.66.4)\n",
            "Requirement already satisfied: python-dateutil>=2.8.2 in /usr/local/lib/python3.10/dist-packages (from pandas>=1.2.4->pymilvus) (2.8.2)\n",
            "Requirement already satisfied: pytz>=2020.1 in /usr/local/lib/python3.10/dist-packages (from pandas>=1.2.4->pymilvus) (2023.4)\n",
            "Requirement already satisfied: tzdata>=2022.1 in /usr/local/lib/python3.10/dist-packages (from pandas>=1.2.4->pymilvus) (2024.1)\n",
            "Requirement already satisfied: numpy>=1.21.0 in /usr/local/lib/python3.10/dist-packages (from pandas>=1.2.4->pymilvus) (1.25.2)\n",
            "Requirement already satisfied: packaging>=17.0 in /usr/local/lib/python3.10/dist-packages (from marshmallow>=3.0.0->environs<=9.5.0->pymilvus) (24.1)\n",
            "Requirement already satisfied: six>=1.5 in /usr/local/lib/python3.10/dist-packages (from python-dateutil>=2.8.2->pandas>=1.2.4->pymilvus) (1.16.0)\n",
            "Installing collected packages: ujson, python-dotenv, milvus-lite, milvus, marshmallow, grpcio, environs, pymilvus\n",
            "  Attempting uninstall: grpcio\n",
            "    Found existing installation: grpcio 1.64.1\n",
            "    Uninstalling grpcio-1.64.1:\n",
            "      Successfully uninstalled grpcio-1.64.1\n",
            "Successfully installed environs-9.5.0 grpcio-1.63.0 marshmallow-3.21.3 milvus-2.3.5 milvus-lite-2.4.8 pymilvus-2.4.4 python-dotenv-1.0.1 ujson-5.10.0\n"
          ]
        }
      ],
      "source": [
        "!pip install milvus pymilvus"
      ]
    },
    {
      "cell_type": "code",
      "execution_count": 3,
      "metadata": {
        "colab": {
          "base_uri": "https://localhost:8080/"
        },
        "id": "mwJ_9a4HRkRw",
        "outputId": "ae284987-3316-4ee0-9e5e-e3eb01000e28"
      },
      "outputs": [
        {
          "output_type": "stream",
          "name": "stdout",
          "text": [
            "Collecting sentence_transformers\n",
            "  Downloading sentence_transformers-3.0.1-py3-none-any.whl (227 kB)\n",
            "\u001b[?25l     \u001b[90m━━━━━━━━━━━━━━━━━━━━━━━━━━━━━━━━━━━━━━━━\u001b[0m \u001b[32m0.0/227.1 kB\u001b[0m \u001b[31m?\u001b[0m eta \u001b[36m-:--:--\u001b[0m\r\u001b[2K     \u001b[91m━━━━━━━━━━━━━━━━━━━━━━━━━━━━━━━━━━\u001b[0m\u001b[90m╺\u001b[0m\u001b[90m━━━━━\u001b[0m \u001b[32m194.6/227.1 kB\u001b[0m \u001b[31m5.6 MB/s\u001b[0m eta \u001b[36m0:00:01\u001b[0m\r\u001b[2K     \u001b[90m━━━━━━━━━━━━━━━━━━━━━━━━━━━━━━━━━━━━━━━━\u001b[0m \u001b[32m227.1/227.1 kB\u001b[0m \u001b[31m5.0 MB/s\u001b[0m eta \u001b[36m0:00:00\u001b[0m\n",
            "\u001b[?25hRequirement already satisfied: transformers<5.0.0,>=4.34.0 in /usr/local/lib/python3.10/dist-packages (from sentence_transformers) (4.42.4)\n",
            "Requirement already satisfied: tqdm in /usr/local/lib/python3.10/dist-packages (from sentence_transformers) (4.66.4)\n",
            "Requirement already satisfied: torch>=1.11.0 in /usr/local/lib/python3.10/dist-packages (from sentence_transformers) (2.3.1+cu121)\n",
            "Requirement already satisfied: numpy in /usr/local/lib/python3.10/dist-packages (from sentence_transformers) (1.25.2)\n",
            "Requirement already satisfied: scikit-learn in /usr/local/lib/python3.10/dist-packages (from sentence_transformers) (1.2.2)\n",
            "Requirement already satisfied: scipy in /usr/local/lib/python3.10/dist-packages (from sentence_transformers) (1.11.4)\n",
            "Requirement already satisfied: huggingface-hub>=0.15.1 in /usr/local/lib/python3.10/dist-packages (from sentence_transformers) (0.23.5)\n",
            "Requirement already satisfied: Pillow in /usr/local/lib/python3.10/dist-packages (from sentence_transformers) (9.4.0)\n",
            "Requirement already satisfied: filelock in /usr/local/lib/python3.10/dist-packages (from huggingface-hub>=0.15.1->sentence_transformers) (3.15.4)\n",
            "Requirement already satisfied: fsspec>=2023.5.0 in /usr/local/lib/python3.10/dist-packages (from huggingface-hub>=0.15.1->sentence_transformers) (2023.6.0)\n",
            "Requirement already satisfied: packaging>=20.9 in /usr/local/lib/python3.10/dist-packages (from huggingface-hub>=0.15.1->sentence_transformers) (24.1)\n",
            "Requirement already satisfied: pyyaml>=5.1 in /usr/local/lib/python3.10/dist-packages (from huggingface-hub>=0.15.1->sentence_transformers) (6.0.1)\n",
            "Requirement already satisfied: requests in /usr/local/lib/python3.10/dist-packages (from huggingface-hub>=0.15.1->sentence_transformers) (2.31.0)\n",
            "Requirement already satisfied: typing-extensions>=3.7.4.3 in /usr/local/lib/python3.10/dist-packages (from huggingface-hub>=0.15.1->sentence_transformers) (4.12.2)\n",
            "Requirement already satisfied: sympy in /usr/local/lib/python3.10/dist-packages (from torch>=1.11.0->sentence_transformers) (1.13.0)\n",
            "Requirement already satisfied: networkx in /usr/local/lib/python3.10/dist-packages (from torch>=1.11.0->sentence_transformers) (3.3)\n",
            "Requirement already satisfied: jinja2 in /usr/local/lib/python3.10/dist-packages (from torch>=1.11.0->sentence_transformers) (3.1.4)\n",
            "Collecting nvidia-cuda-nvrtc-cu12==12.1.105 (from torch>=1.11.0->sentence_transformers)\n",
            "  Using cached nvidia_cuda_nvrtc_cu12-12.1.105-py3-none-manylinux1_x86_64.whl (23.7 MB)\n",
            "Collecting nvidia-cuda-runtime-cu12==12.1.105 (from torch>=1.11.0->sentence_transformers)\n",
            "  Using cached nvidia_cuda_runtime_cu12-12.1.105-py3-none-manylinux1_x86_64.whl (823 kB)\n",
            "Collecting nvidia-cuda-cupti-cu12==12.1.105 (from torch>=1.11.0->sentence_transformers)\n",
            "  Using cached nvidia_cuda_cupti_cu12-12.1.105-py3-none-manylinux1_x86_64.whl (14.1 MB)\n",
            "Collecting nvidia-cudnn-cu12==8.9.2.26 (from torch>=1.11.0->sentence_transformers)\n",
            "  Using cached nvidia_cudnn_cu12-8.9.2.26-py3-none-manylinux1_x86_64.whl (731.7 MB)\n",
            "Collecting nvidia-cublas-cu12==12.1.3.1 (from torch>=1.11.0->sentence_transformers)\n",
            "  Using cached nvidia_cublas_cu12-12.1.3.1-py3-none-manylinux1_x86_64.whl (410.6 MB)\n",
            "Collecting nvidia-cufft-cu12==11.0.2.54 (from torch>=1.11.0->sentence_transformers)\n",
            "  Using cached nvidia_cufft_cu12-11.0.2.54-py3-none-manylinux1_x86_64.whl (121.6 MB)\n",
            "Collecting nvidia-curand-cu12==10.3.2.106 (from torch>=1.11.0->sentence_transformers)\n",
            "  Using cached nvidia_curand_cu12-10.3.2.106-py3-none-manylinux1_x86_64.whl (56.5 MB)\n",
            "Collecting nvidia-cusolver-cu12==11.4.5.107 (from torch>=1.11.0->sentence_transformers)\n",
            "  Using cached nvidia_cusolver_cu12-11.4.5.107-py3-none-manylinux1_x86_64.whl (124.2 MB)\n",
            "Collecting nvidia-cusparse-cu12==12.1.0.106 (from torch>=1.11.0->sentence_transformers)\n",
            "  Using cached nvidia_cusparse_cu12-12.1.0.106-py3-none-manylinux1_x86_64.whl (196.0 MB)\n",
            "Collecting nvidia-nccl-cu12==2.20.5 (from torch>=1.11.0->sentence_transformers)\n",
            "  Using cached nvidia_nccl_cu12-2.20.5-py3-none-manylinux2014_x86_64.whl (176.2 MB)\n",
            "Collecting nvidia-nvtx-cu12==12.1.105 (from torch>=1.11.0->sentence_transformers)\n",
            "  Using cached nvidia_nvtx_cu12-12.1.105-py3-none-manylinux1_x86_64.whl (99 kB)\n",
            "Requirement already satisfied: triton==2.3.1 in /usr/local/lib/python3.10/dist-packages (from torch>=1.11.0->sentence_transformers) (2.3.1)\n",
            "Collecting nvidia-nvjitlink-cu12 (from nvidia-cusolver-cu12==11.4.5.107->torch>=1.11.0->sentence_transformers)\n",
            "  Downloading nvidia_nvjitlink_cu12-12.5.82-py3-none-manylinux2014_x86_64.whl (21.3 MB)\n",
            "\u001b[2K     \u001b[90m━━━━━━━━━━━━━━━━━━━━━━━━━━━━━━━━━━━━━━━━\u001b[0m \u001b[32m21.3/21.3 MB\u001b[0m \u001b[31m51.5 MB/s\u001b[0m eta \u001b[36m0:00:00\u001b[0m\n",
            "\u001b[?25hRequirement already satisfied: regex!=2019.12.17 in /usr/local/lib/python3.10/dist-packages (from transformers<5.0.0,>=4.34.0->sentence_transformers) (2024.5.15)\n",
            "Requirement already satisfied: safetensors>=0.4.1 in /usr/local/lib/python3.10/dist-packages (from transformers<5.0.0,>=4.34.0->sentence_transformers) (0.4.3)\n",
            "Requirement already satisfied: tokenizers<0.20,>=0.19 in /usr/local/lib/python3.10/dist-packages (from transformers<5.0.0,>=4.34.0->sentence_transformers) (0.19.1)\n",
            "Requirement already satisfied: joblib>=1.1.1 in /usr/local/lib/python3.10/dist-packages (from scikit-learn->sentence_transformers) (1.4.2)\n",
            "Requirement already satisfied: threadpoolctl>=2.0.0 in /usr/local/lib/python3.10/dist-packages (from scikit-learn->sentence_transformers) (3.5.0)\n",
            "Requirement already satisfied: MarkupSafe>=2.0 in /usr/local/lib/python3.10/dist-packages (from jinja2->torch>=1.11.0->sentence_transformers) (2.1.5)\n",
            "Requirement already satisfied: charset-normalizer<4,>=2 in /usr/local/lib/python3.10/dist-packages (from requests->huggingface-hub>=0.15.1->sentence_transformers) (3.3.2)\n",
            "Requirement already satisfied: idna<4,>=2.5 in /usr/local/lib/python3.10/dist-packages (from requests->huggingface-hub>=0.15.1->sentence_transformers) (3.7)\n",
            "Requirement already satisfied: urllib3<3,>=1.21.1 in /usr/local/lib/python3.10/dist-packages (from requests->huggingface-hub>=0.15.1->sentence_transformers) (2.0.7)\n",
            "Requirement already satisfied: certifi>=2017.4.17 in /usr/local/lib/python3.10/dist-packages (from requests->huggingface-hub>=0.15.1->sentence_transformers) (2024.7.4)\n",
            "Requirement already satisfied: mpmath<1.4,>=1.1.0 in /usr/local/lib/python3.10/dist-packages (from sympy->torch>=1.11.0->sentence_transformers) (1.3.0)\n",
            "Installing collected packages: nvidia-nvtx-cu12, nvidia-nvjitlink-cu12, nvidia-nccl-cu12, nvidia-curand-cu12, nvidia-cufft-cu12, nvidia-cuda-runtime-cu12, nvidia-cuda-nvrtc-cu12, nvidia-cuda-cupti-cu12, nvidia-cublas-cu12, nvidia-cusparse-cu12, nvidia-cudnn-cu12, nvidia-cusolver-cu12, sentence_transformers\n",
            "Successfully installed nvidia-cublas-cu12-12.1.3.1 nvidia-cuda-cupti-cu12-12.1.105 nvidia-cuda-nvrtc-cu12-12.1.105 nvidia-cuda-runtime-cu12-12.1.105 nvidia-cudnn-cu12-8.9.2.26 nvidia-cufft-cu12-11.0.2.54 nvidia-curand-cu12-10.3.2.106 nvidia-cusolver-cu12-11.4.5.107 nvidia-cusparse-cu12-12.1.0.106 nvidia-nccl-cu12-2.20.5 nvidia-nvjitlink-cu12-12.5.82 nvidia-nvtx-cu12-12.1.105 sentence_transformers-3.0.1\n"
          ]
        }
      ],
      "source": [
        "!pip install sentence_transformers"
      ]
    },
    {
      "cell_type": "code",
      "execution_count": 4,
      "metadata": {
        "colab": {
          "base_uri": "https://localhost:8080/"
        },
        "id": "5_AJZTZDXh7i",
        "outputId": "81426960-e6b2-4c0b-d212-ac74a0bb3577"
      },
      "outputs": [
        {
          "output_type": "stream",
          "name": "stdout",
          "text": [
            "Collecting rank_bm25\n",
            "  Downloading rank_bm25-0.2.2-py3-none-any.whl (8.6 kB)\n",
            "Requirement already satisfied: numpy in /usr/local/lib/python3.10/dist-packages (from rank_bm25) (1.25.2)\n",
            "Installing collected packages: rank_bm25\n",
            "Successfully installed rank_bm25-0.2.2\n"
          ]
        }
      ],
      "source": [
        "!pip install rank_bm25"
      ]
    },
    {
      "cell_type": "markdown",
      "source": [
        "Importing the necessary libraries"
      ],
      "metadata": {
        "id": "9Y1dDdfVzn-U"
      }
    },
    {
      "cell_type": "code",
      "execution_count": 117,
      "metadata": {
        "colab": {
          "base_uri": "https://localhost:8080/"
        },
        "id": "_Ei1umhDPZUX",
        "outputId": "275025a6-7269-4be3-f5af-1082d8df65c6"
      },
      "outputs": [
        {
          "output_type": "stream",
          "name": "stderr",
          "text": [
            "[nltk_data] Downloading package punkt to /root/nltk_data...\n",
            "[nltk_data]   Package punkt is already up-to-date!\n",
            "[nltk_data] Downloading package stopwords to /root/nltk_data...\n",
            "[nltk_data]   Package stopwords is already up-to-date!\n"
          ]
        }
      ],
      "source": [
        "import re\n",
        "import numpy as np\n",
        "import nltk\n",
        "nltk.download('punkt')\n",
        "nltk.download('stopwords')\n",
        "from nltk.stem import PorterStemmer\n",
        "from nltk.tokenize import word_tokenize\n",
        "from nltk.corpus import stopwords\n",
        "import string\n",
        "from sentence_transformers import SentenceTransformer, util\n",
        "import torch\n",
        "from pymilvus import connections, Collection, FieldSchema, CollectionSchema, DataType, utility\n",
        "from milvus import default_server\n",
        "from rank_bm25 import BM25Okapi\n",
        "import requests\n",
        "from bs4 import BeautifulSoup\n",
        "from urllib.parse import urljoin, urldefrag\n",
        "from collections import deque\n",
        "import json\n",
        "import socket\n",
        "from transformers import BertForQuestionAnswering\n",
        "from transformers import BertTokenizer"
      ]
    },
    {
      "cell_type": "markdown",
      "source": [
        "This function extracts main content from HTML using BeautifulSoup based on specific tags"
      ],
      "metadata": {
        "id": "szgGGxf0zxB-"
      }
    },
    {
      "cell_type": "code",
      "execution_count": null,
      "metadata": {
        "id": "kkHHg-3gta0l"
      },
      "outputs": [],
      "source": [
        "def extract_main_content(soup):\n",
        "\n",
        "  main_content = soup.find('div', itemprop='articleBody')\n",
        "  if not main_content:\n",
        "    main_content = soup.find('article', id='contents')\n",
        "    if not main_content:\n",
        "      return \"\"\n",
        "\n",
        "  for tag in main_content.find_all(['h1', 'h2', 'h3']):\n",
        "    tag.decompose()\n",
        "\n",
        "  return main_content.get_text(separator='\\n', strip=True)"
      ]
    },
    {
      "cell_type": "markdown",
      "source": [
        "This function performs web crawling starting from a given URL up to a maximum depth."
      ],
      "metadata": {
        "id": "pDPW_Mzxz5z8"
      }
    },
    {
      "cell_type": "code",
      "execution_count": null,
      "metadata": {
        "id": "7OTPWlA1NytL"
      },
      "outputs": [],
      "source": [
        "def crawl(start_url, max_depth=5):\n",
        "  visited = set()\n",
        "  queue = deque([(start_url, 1)])\n",
        "  all_data = []\n",
        "\n",
        "  while queue:\n",
        "    url, depth = queue.popleft()\n",
        "    if depth > max_depth or url in visited:\n",
        "      continue\n",
        "    visited.add(url)\n",
        "\n",
        "    response = requests.get(url)\n",
        "    soup = BeautifulSoup(response.content, 'lxml')\n",
        "    page_text = extract_main_content(soup)\n",
        "\n",
        "    page_data = {\n",
        "      'url': url,\n",
        "      'depth': depth,\n",
        "      'text': page_text\n",
        "    }\n",
        "\n",
        "    all_data.append(page_data)\n",
        "\n",
        "    links = soup.find_all('a', href=True)\n",
        "    for link in links:\n",
        "      sub_url = urljoin(url, link['href'])\n",
        "      main_url, _ = urldefrag(sub_url)\n",
        "      if main_url.startswith('https://docs.nvidia.com/cuda/') and main_url not in visited:\n",
        "        queue.append((main_url, depth + 1))\n",
        "\n",
        "  return all_data\n"
      ]
    },
    {
      "cell_type": "code",
      "execution_count": null,
      "metadata": {
        "id": "1YQjW_NljiQl"
      },
      "outputs": [],
      "source": [
        "url = 'https://docs.nvidia.com/cuda/'\n",
        "data = crawl(url, max_depth=5)"
      ]
    },
    {
      "cell_type": "code",
      "execution_count": null,
      "metadata": {
        "id": "SNVWDDJbR38Y"
      },
      "outputs": [],
      "source": [
        "with open('crawled_data.json', 'w', encoding='utf-8') as f:\n",
        "  json.dump(data, f, ensure_ascii=False, indent=4)"
      ]
    },
    {
      "cell_type": "code",
      "execution_count": 8,
      "metadata": {
        "id": "fDwTnKtKpFsU"
      },
      "outputs": [],
      "source": [
        "with open('crawled_data.json', 'r', encoding='utf-8') as f:\n",
        "  data = json.load(f)"
      ]
    },
    {
      "cell_type": "code",
      "execution_count": 9,
      "metadata": {
        "colab": {
          "base_uri": "https://localhost:8080/"
        },
        "id": "3YyC-2AXooJl",
        "outputId": "0b93e52d-2275-401c-eae2-c68ecd16dc9f"
      },
      "outputs": [
        {
          "output_type": "stream",
          "name": "stdout",
          "text": [
            "https://docs.nvidia.com/cuda/cuda-c-programming-guide/index.html\n",
            "2\n",
            "CUDA C++ Programming Guide\n",
            "The programming guide to the CUDA model and interface.\n",
            "Changes from Version 12.4\n",
            "Added section\n",
            "Asynchronous Data Copies using Tensor Memory Access (TMA)\n",
            ".\n",
            "Added\n",
            "Unified Memory Programming\n",
            "guide supporting Grace Hopper with Address Translation Service (ATS) and Heterogeneous Memory Management (HMM ) on x86.\n",
            "The Graphics Processing Unit (GPU)\n",
            "1\n",
            "provides much higher instruction throughput and memory bandwidth than the CPU within a similar price and power envelope. Many applications leverage these higher capabilities to run faster on the GPU than on the CPU (see\n",
            "GPU Applications\n",
            "). Other computing devices, like FPGAs, are also very energy efficient, but offer much less programming flexibility than GPUs.\n",
            "This difference in capabilities between the GPU and the CPU exists because they are designed with different goals in mind. While the CPU is designed to excel at executing a sequence of operations, called a\n",
            "thread\n",
            ", as fast as possible and can execute a few tens of these threads in parallel, the GPU is designed to excel at executing thousands of them in parallel (amortizing the slower single-thread performance to achieve greater throughput).\n",
            "The GPU is specialized for highly parallel computations and therefore designed such that more transistors are devoted to data processing rather than data caching and flow control. The schematic\n",
            "Figure 1\n",
            "shows an example distribution of chip resources for a CPU versus a GPU.\n",
            "Figure 1\n",
            "The GPU Devotes More Transistors to Data Processing\n",
            "\n",
            "Devoting more transistors to data processing, for example, floating-point computations, is beneficial for highly parallel computations; the GPU can hide memory access latencies with computation, instead of relying on large data caches and complex flow control to avoid long memory access latencies, both of which are expensive in terms of transistors.\n",
            "In general, an application has a mix of parallel parts and sequential parts, so systems are designed with a mix of GPUs and CPUs \n"
          ]
        }
      ],
      "source": [
        "print(data[7]['url'])\n",
        "print(data[7]['depth'])\n",
        "print(data[7]['text'][:2000])"
      ]
    },
    {
      "cell_type": "code",
      "execution_count": 10,
      "metadata": {
        "colab": {
          "base_uri": "https://localhost:8080/"
        },
        "id": "Eo0AHIH6jqTO",
        "outputId": "d583ea9f-9cfa-42a2-a189-8cfe9433724b"
      },
      "outputs": [
        {
          "output_type": "stream",
          "name": "stdout",
          "text": [
            "https://docs.nvidia.com/cuda/cuda-c-best-practices-guide/index.html\n",
            "\n"
          ]
        }
      ],
      "source": [
        "c=0\n",
        "text1 = \"\"\n",
        "for i in range(len(data)):\n",
        "  if(data[i]['url'].startswith(\"https://docs.nvidia.com/cuda/cuda-c-best-practices-guide/\")):\n",
        "    if(c==0):\n",
        "      print(data[i]['url'])\n",
        "      print()\n",
        "      text1 = data[i]['text']\n",
        "      break\n",
        "    c+=1"
      ]
    },
    {
      "cell_type": "code",
      "execution_count": 11,
      "metadata": {
        "colab": {
          "base_uri": "https://localhost:8080/",
          "height": 122
        },
        "id": "V3tJCOmhF7CK",
        "outputId": "365ffeb9-5140-4807-dbc3-54646e285715"
      },
      "outputs": [
        {
          "output_type": "execute_result",
          "data": {
            "text/plain": [
              "'CUDA C++ Best Practices Guide\\nThe programming guide to using the CUDA Toolkit to obtain the best performance from NVIDIA GPUs.\\nThis Best Practices Guide is a manual to help developers obtain the best performance from NVIDIA\\n®\\nCUDA\\n®\\nGPUs. It presents established parallelization and optimization techniques and explains coding metaphors and idioms that can greatly simplify programming for CUDA-capable GPU architectures.\\nWhile the contents can be used as a reference manual, you should be aware that some topics are revisited in different contexts as various programming and configuration topics are explored. As a result, it is recommended that first-time readers proceed through the guide sequentially. This approach will greatly improve your understanding of effective programming practices and enable you to better use the guide for reference later.\\nThe discussions in this guide all use the C++ programming language, so you should be comfortable reading C++ code.\\nThis guide refers to and relies on several other documents that you should have at your disposal for reference, all of which are available at no cost from the CUDA website\\nhttps://docs.nvidia.com/cuda/\\n. The following documents are especially important resources:\\nCUDA Installation Guide\\nCUDA C++ Programming Guide\\nCUDA Toolkit Reference Manual\\nIn particular, the optimization section of this guide assumes that you have already successfully downloaded and installed the CUDA Toolkit (if not, please refer to the relevant CUDA Installation Guide for your platform) and that you have a basic familiarity with the CUDA C++ programming language and environment (if not, please refer to the CUDA C++ Programming Guide).\\nThis guide introduces the\\nAssess, Parallelize, Optimize, Deploy(APOD)\\ndesign cycle for applications with the goal of helping application developers to rapidly identify the portions of their code that would most readily benefit from GPU acceleration, rapidly realize that benefit, and begin leveraging the resulting speedups in production as early as possible.\\nAPOD is a cyclical process: initial speedups can be achieved, tested, and deployed with only minimal initial investment of time, at which point the cycle can begin again by identifying further optimization opportunities, seeing additional speedups, and then deploying the even faster versions of the application into production.\\nFor an existing project, the first step is to assess the application to locate the parts of the code that are responsible for the bulk of the execution time. Armed with this knowledge, the developer can evaluate these bottlenecks for parallelization and start to investigate GPU acceleration.\\nBy understanding the end-user’s requirements and constraints and by applying Amdahl’s and Gustafson’s laws, the developer can determine the upper bound of performance improvement from acceleration of the identified portions of the application.\\nHaving identified the hotspots and having done the basic exercises to set goals and expectations, the developer needs to parallelize the code. Depending on the original code, this can be as simple as calling into an existing GPU-optimized library such as\\ncuBLAS\\n,\\ncuFFT\\n, or\\nThrust\\n, or it could be as simple as adding a few preprocessor directives as hints to a parallelizing compiler.\\nOn the other hand, some applications’ designs will require some amount of refactoring to expose their inherent parallelism. As even CPU architectures will require exposing parallelism in order to improve or simply maintain the performance of sequential applications, the CUDA family of parallel programming languages (CUDA C++, CUDA Fortran, etc.) aims to make the expression of this parallelism as simple as possible, while simultaneously enabling operation on CUDA-capable GPUs designed for maximum parallel throughput.\\nAfter each round of application parallelization is complete, the developer can move to optimizing the implementation to improve performance. Since there are many possible optimizations that can be considered, having a good understanding of the needs of the application can help to make the process as smooth as possible. However, as with APOD as a whole, program optimization is an iterative process (identify an opportunity for optimization, apply and test the optimization, verify the speedup achieved, and repeat), meaning that it is not necessary for a programmer to spend large amounts of time memorizing the bulk of all possible optimization strategies prior to seeing good speedups. Instead, strategies can be applied incrementally as they are learned.\\nOptimizations can be applied at various levels, from overlapping data transfers with computation all the way down to fine-tuning floating-point operation sequences. The available profiling tools are invaluable for guiding this process, as they can help suggest a next-best course of action for the developer’s optimization efforts and provide references into the relevant portions of the optimization section of this guide.\\nHaving completed the GPU acceleration of one or more components of the application it is possible to compare the outcome with the original expectation. Recall that the initial\\nassess\\nstep allowed the developer to determine an upper bound for the potential speedup attainable by accelerating given hotspots.\\nBefore tackling other hotspots to improve the total speedup, the developer should consider taking the partially parallelized implementation and carry it through to production. This is important for a number of reasons; for example, it allows the user to profit from their investment as early as possible (the speedup may be partial but is still valuable), and it minimizes risk for the developer and the user by providing an evolutionary rather than revolutionary set of changes to the application.\\nThroughout this guide, specific recommendations are made regarding the design and implementation of CUDA C++ code. These recommendations are categorized by priority, which is a blend of the effect of the recommendation and its scope. Actions that present substantial improvements for most CUDA applications have the highest priority, while small optimizations that affect only very specific situations are given a lower priority.\\nBefore implementing lower priority recommendations, it is good practice to make sure all higher priority recommendations that are relevant have already been applied. This approach will tend to provide the best results for the time invested and will avoid the trap of premature optimization.\\nThe criteria of benefit and scope for establishing priority will vary depending on the nature of the program. In this guide, they represent a typical case. Your code might reflect different priority factors. Regardless of this possibility, it is good practice to verify that no higher-priority recommendations have been overlooked before undertaking lower-priority items.\\nNote\\nCode samples throughout the guide omit error checking for conciseness. Production code should, however, systematically check the error code returned by each API call and check for failures in kernel launches by calling\\ncudaGetLastError()\\n.\\nFrom supercomputers to mobile phones, modern processors increasingly rely on parallelism to provide performance. The core computational unit, which includes control, arithmetic, registers and typically some cache, is replicated some number of times and connected to memory via a network. As a result, all modern processors require parallel code in order to achieve good utilization of their computational power.\\nWhile processors are evolving to expose more fine-grained parallelism to the programmer, many existing applications have evolved either as serial codes or as coarse-grained parallel codes (for example, where the data is decomposed into regions processed in parallel, with sub-regions shared using MPI). In order to profit from any modern processor architecture, GPUs included, the first steps are to assess the application to identify the hotspots, determine whether they can be parallelized, and understand the relevant workloads both now and in the future.\\nCUDA programming involves running code on two different platforms concurrently: a\\nhost\\nsystem with one or more CPUs and one or more CUDA-enabled NVIDIA GPU\\ndevices\\n.\\nWhile NVIDIA GPUs are frequently associated with graphics, they are also powerful arithmetic engines capable of running thousands of lightweight threads in parallel. This capability makes them well suited to computations that can leverage parallel execution.\\nHowever, the device is based on a distinctly different design from the host system, and it’s important to understand those differences and how they determine the performance of CUDA applications in order to use CUDA effectively.\\nThe primary differences are in threading model and in separate physical memories:\\nThreading resources\\nExecution pipelines on host systems can support a limited number of concurrent threads. For example, servers that have two 32 core processors can run only 64 threads concurrently (or small multiple of that if the CPUs support simultaneous multithreading). By comparison, the\\nsmallest\\nexecutable unit of parallelism on a CUDA device comprises 32 threads (termed a\\nwarp\\nof threads). Modern NVIDIA GPUs can support up to 2048 active threads concurrently per multiprocessor (see Features and Specifications of the CUDA C++ Programming Guide) On GPUs with 80 multiprocessors, this leads to more than 160,000 concurrently active threads.\\nThreads\\nThreads on a CPU are generally heavyweight entities. The operating system must swap threads on and off CPU execution channels to provide multithreading capability. Context switches (when two threads are swapped) are therefore slow and expensive. By comparison, threads on GPUs are extremely lightweight. In a typical system, thousands of threads are queued up for work (in warps of 32 threads each). If the GPU must wait on one warp of threads, it simply begins executing work on another. Because separate registers are allocated to all active threads, no swapping of registers or other state need occur when switching among GPU threads. Resources stay allocated to each thread until it completes its execution. In short, CPU cores are designed to\\nminimize latency\\nfor a small number of threads at a time each, whereas GPUs are designed to handle a large number of concurrent, lightweight threads in order to\\nmaximize throughput\\n.\\nRAM\\nThe host system and the device each have their own distinct attached physical memories\\n1\\n. As the host and device memories are separated, items in the host memory must occasionally be communicated between device memory and host memory as described in\\nWhat Runs on a CUDA-Enabled Device?\\n.\\nThese are the primary hardware differences between CPU hosts and GPU devices with respect to parallel programming. Other differences are discussed as they arise elsewhere in this document. Applications composed with these differences in mind can treat the host and device together as a cohesive heterogeneous system wherein each processing unit is leveraged to do the kind of work it does best: sequential work on the host and parallel work on the device.\\nThe following issues should be considered when determining what parts of an application to run on the device:\\nThe device is ideally suited for computations that can be run on numerous data elements simultaneously in parallel. This typically involves arithmetic on large data sets (such as matrices) where the same operation can be performed across thousands, if not millions, of elements at the same time. This is a requirement for good performance on CUDA: the software must use a large number (generally thousands or tens of thousands) of concurrent threads. The support for running numerous threads in parallel derives from CUDA’s use of a lightweight threading model described above.\\nTo use CUDA, data values must be transferred from the host to the device. These transfers are costly in terms of performance and should be minimized. (See\\nData Transfer Between Host and Device\\n.) This cost has several ramifications:\\nThe complexity of operations should justify the cost of moving data to and from the device. Code that transfers data for brief use by a small number of threads will see little or no performance benefit. The ideal scenario is one in which many threads perform a substantial amount of work.\\nFor example, transferring two matrices to the device to perform a matrix addition and then transferring the results back to the host will not realize much performance benefit. The issue here is the number of operations performed per data element transferred. For the preceding procedure, assuming matrices of size NxN, there are N\\n2\\noperations (additions) and 3N\\n2\\nelements transferred, so the ratio of operations to elements transferred is 1:3 or O(1). Performance benefits can be more readily achieved when this ratio is higher. For example, a matrix multiplication of the same matrices requires N\\n3\\noperations (multiply-add), so the ratio of operations to elements transferred is O(N), in which case the larger the matrix the greater the performance benefit. The types of operations are an additional factor, as additions have different complexity profiles than, for example, trigonometric functions. It is important to include the overhead of transferring data to and from the device in determining whether operations should be performed on the host or on the device.\\nData should be kept on the device as long as possible. Because transfers should be minimized, programs that run multiple kernels on the same data should favor leaving the data on the device between kernel calls, rather than transferring intermediate results to the host and then sending them back to the device for subsequent calculations. So, in the previous example, had the two matrices to be added already been on the device as a result of some previous calculation, or if the results of the addition would be used in some subsequent calculation, the matrix addition should be performed locally on the device. This approach should be used even if one of the steps in a sequence of calculations could be performed faster on the host. Even a relatively slow kernel may be advantageous if it avoids one or more transfers between host and device memory.\\nData Transfer Between Host and Device\\nprovides further details, including the measurements of bandwidth between the host and the device versus within the device proper.\\nFor best performance, there should be some coherence in memory access by adjacent threads running on the device. Certain memory access patterns enable the hardware to coalesce groups of reads or writes of multiple data items into one operation. Data that cannot be laid out so as to enable\\ncoalescing\\n, or that doesn’t have enough locality to use the L1 or texture caches effectively, will tend to see lesser speedups when used in computations on GPUs. A noteworthy exception to this are completely random memory access patterns. In general, they should be avoided, because compared to peak capabilities any architecture processes these memory access patterns at a low efficiency. However, compared to cache based architectures, like CPUs, latency hiding architectures, like GPUs, tend to cope better with completely random memory access patterns.\\n1\\nOn Systems on a Chip with integrated GPUs, such as NVIDIA® Tegra®, host and device memory are physically the same, but there is still a logical distinction between host and device memory. See the\\nApplication Note on CUDA for Tegra\\nfor details.\\nMany codes accomplish a significant portion of the work with a relatively small amount of code. Using a profiler, the developer can identify such hotspots and start to compile a list of candidates for parallelization.\\nThere are many possible approaches to profiling the code, but in all cases the objective is the same: to identify the function or functions in which the application is spending most of its execution time.\\nNote\\nHigh Priority:\\nTo maximize developer productivity, profile the application to determine hotspots and bottlenecks.\\nThe most important consideration with any profiling activity is to ensure that the workload is realistic - i.e., that information gained from the test and decisions based upon that information are relevant to real data. Using unrealistic workloads can lead to sub-optimal results and wasted effort both by causing developers to optimize for unrealistic problem sizes and by causing developers to concentrate on the wrong functions.\\nThere are a number of tools that can be used to generate the profile. The following example is based on\\ngprof\\n, which is an open-source profiler for Linux platforms from the GNU Binutils collection.\\n$ gcc -O2 -g -pg myprog.c\\n$ gprof ./a.out > profile.txt\\nEach sample counts as 0.01 seconds.\\n  %   cumulative   self              self     total\\n time   seconds   seconds    calls  ms/call  ms/call  name\\n 33.34      0.02     0.02     7208     0.00     0.00  genTimeStep\\n 16.67      0.03     0.01      240     0.04     0.12  calcStats\\n 16.67      0.04     0.01        8     1.25     1.25  calcSummaryData\\n 16.67      0.05     0.01        7     1.43     1.43  write\\n 16.67      0.06     0.01                             mcount\\n  0.00      0.06     0.00      236     0.00     0.00  tzset\\n  0.00      0.06     0.00      192     0.00     0.00  tolower\\n  0.00      0.06     0.00       47     0.00     0.00  strlen\\n  0.00      0.06     0.00       45     0.00     0.00  strchr\\n  0.00      0.06     0.00        1     0.00    50.00  main\\n  0.00      0.06     0.00        1     0.00     0.00  memcpy\\n  0.00      0.06     0.00        1     0.00    10.11  print\\n  0.00      0.06     0.00        1     0.00     0.00  profil\\n  0.00      0.06     0.00        1     0.00    50.00  report\\nIn the example above, we can clearly see that the function\\ngenTimeStep()\\ntakes one-third of the total running time of the application. This should be our first candidate function for parallelization.\\nUnderstanding Scaling\\ndiscusses the potential benefit we might expect from such parallelization.\\nIt is worth noting that several of the other functions in the above example also take up a significant portion of the overall running time, such as\\ncalcStats()\\nand\\ncalcSummaryData()\\n. Parallelizing these functions as well should increase our speedup potential. However, since APOD is a cyclical process, we might opt to parallelize these functions in a subsequent APOD pass, thereby limiting the scope of our work in any given pass to a smaller set of incremental changes.\\nThe amount of performance benefit an application will realize by running on CUDA depends entirely on the extent to which it can be parallelized. Code that cannot be sufficiently parallelized should run on the host, unless doing so would result in excessive transfers between the host and the device.\\nNote\\nHigh Priority:\\nTo get the maximum benefit from CUDA, focus first on finding ways to parallelize sequential code.\\nBy understanding how applications can scale it is possible to set expectations and plan an incremental parallelization strategy.\\nStrong Scaling and Amdahl’s Law\\ndescribes strong scaling, which allows us to set an upper bound for the speedup with a fixed problem size.\\nWeak Scaling and Gustafson’s Law\\ndescribes weak scaling, where the speedup is attained by growing the problem size. In many applications, a combination of strong and weak scaling is desirable.\\n3.1.3.1.\\nStrong Scaling and Amdahl’s Law\\n\\uf0c1\\nStrong scaling is a measure of how, for a fixed overall problem size, the time to solution decreases as more processors are added to a system. An application that exhibits linear strong scaling has a speedup equal to the number of processors used.\\nStrong scaling is usually equated with Amdahl’s Law, which specifies the maximum speedup that can be expected by parallelizing portions of a serial program. Essentially, it states that the maximum speedup\\nS\\nof a program is:\\n\\\\(S = \\\\frac{1}{(1 - P) + \\\\frac{P}{N}}\\\\)\\nHere\\nP\\nis the fraction of the total serial execution time taken by the portion of code that can be parallelized and\\nN\\nis the number of processors over which the parallel portion of the code runs.\\nThe larger\\nN\\nis(that is, the greater the number of processors), the smaller the\\nP/N\\nfraction. It can be simpler to view\\nN\\nas a very large number, which essentially transforms the equation into\\n\\\\(S = 1/(1 - P)\\\\)\\n. Now, if 3/4 of the running time of a sequential program is parallelized, the maximum speedup over serial code is 1 / (1 - 3/4) = 4.\\nIn reality, most applications do not exhibit perfectly linear strong scaling, even if they do exhibit some degree of strong scaling. For most purposes, the key point is that the larger the parallelizable portion\\nP\\nis, the greater the potential speedup. Conversely, if\\nP\\nis a small number (meaning that the application is not substantially parallelizable), increasing the number of processors\\nN\\ndoes little to improve performance. Therefore, to get the largest speedup for a fixed problem size, it is worthwhile to spend effort on increasing\\nP\\n, maximizing the amount of code that can be parallelized.\\n3.1.3.2.\\nWeak Scaling and Gustafson’s Law\\n\\uf0c1\\nWeak scaling is a measure of how the time to solution changes as more processors are added to a system with a fixed problem size\\nper processor\\n; i.e., where the overall problem size increases as the number of processors is increased.\\nWeak scaling is often equated with Gustafson’s Law, which states that in practice, the problem size scales with the number of processors. Because of this, the maximum speedup\\nS\\nof a program is:\\n\\\\(S = N + (1 - P)(1 - N)\\\\)\\nHere\\nP\\nis the fraction of the total serial execution time taken by the portion of code that can be parallelized and\\nN\\nis the number of processors over which the parallel portion of the code runs.\\nAnother way of looking at Gustafson’s Law is that it is not the problem size that remains constant as we scale up the system but rather the execution time. Note that Gustafson’s Law assumes that the ratio of serial to parallel execution remains constant, reflecting additional cost in setting up and handling the larger problem.\\n3.1.3.3.\\nApplying Strong and Weak Scaling\\n\\uf0c1\\nUnderstanding which type of scaling is most applicable to an application is an important part of estimating speedup. For some applications the problem size will remain constant and hence only strong scaling is applicable. An example would be modeling how two molecules interact with each other, where the molecule sizes are fixed.\\nFor other applications, the problem size will grow to fill the available processors. Examples include modeling fluids or structures as meshes or grids and some Monte Carlo simulations, where increasing the problem size provides increased accuracy.\\nHaving understood the application profile, the developer should understand how the problem size would change if the computational performance changes and then apply either Amdahl’s or Gustafson’s Law to determine an upper bound for the speedup.\\nHaving identified the hotspots and having done the basic exercises to set goals and expectations, the developer needs to parallelize the code. Depending on the original code, this can be as simple as calling into an existing GPU-optimized library such as\\ncuBLAS\\n,\\ncuFFT\\n, or\\nThrust\\n, or it could be as simple as adding a few preprocessor directives as hints to a parallelizing compiler.\\nOn the other hand, some applications’ designs will require some amount of refactoring to expose their inherent parallelism. As even CPU architectures require exposing this parallelism in order to improve or simply maintain the performance of sequential applications, the CUDA family of parallel programming languages (CUDA C++, CUDA Fortran, etc.) aims to make the expression of this parallelism as simple as possible, while simultaneously enabling operation on CUDA-capable GPUs designed for maximum parallel throughput.\\nThere are several key strategies for parallelizing sequential code. While the details of how to apply these strategies to a particular application is a complex and problem-specific topic, the general themes listed here apply regardless of whether we are parallelizing code to run on for multicore CPUs or for use on CUDA GPUs.\\nThe most straightforward approach to parallelizing an application is to leverage existing libraries that take advantage of parallel architectures on our behalf. The CUDA Toolkit includes a number of such libraries that have been fine-tuned for NVIDIA CUDA GPUs, such as\\ncuBLAS\\n,\\ncuFFT\\n, and so on.\\nThe key here is that libraries are most useful when they match well with the needs of the application. Applications already using other BLAS libraries can often quite easily switch to\\ncuBLAS\\n, for example, whereas applications that do little to no linear algebra will have little use for\\ncuBLAS\\n. The same goes for other CUDA Toolkit libraries:\\ncuFFT\\nhas an interface similar to that of\\nFFTW\\n, etc.\\nAlso of note is the Thrust library, which is a parallel C++ template library similar to the C++ Standard Template Library. Thrust provides a rich collection of data parallel primitives such as scan, sort, and reduce, which can be composed together to implement complex algorithms with concise, readable source code. By describing your computation in terms of these high-level abstractions you provide Thrust with the freedom to select the most efficient implementation automatically. As a result, Thrust can be utilized in rapid prototyping of CUDA applications, where programmer productivity matters most, as well as in production, where robustness and absolute performance are crucial.\\nAnother common approach to parallelization of sequential codes is to make use of parallelizing compilers. Often this means the use of directives-based approaches, where the programmer uses a pragma or other similar notation to provide hints to the compiler about where parallelism can be found without needing to modify or adapt the underlying code itself. By exposing parallelism to the compiler, directives allow the compiler to do the detailed work of mapping the computation onto the parallel architecture.\\nThe OpenACC standard provides a set of compiler directives to specify loops and regions of code in standard C, C++ and Fortran that should be offloaded from a host CPU to an attached accelerator such as a CUDA GPU. The details of managing the accelerator device are handled implicitly by an OpenACC-enabled compiler and runtime.\\nSee\\nhttp://www.openacc.org/\\nfor details.\\nFor applications that need additional functionality or performance beyond what existing parallel libraries or parallelizing compilers can provide, parallel programming languages such as CUDA C++ that integrate seamlessly with existing sequential code are essential.\\nOnce we have located a hotspot in our application’s profile assessment and determined that custom code is the best approach, we can use CUDA C++ to expose the parallelism in that portion of our code as a CUDA kernel. We can then launch this kernel onto the GPU and retrieve the results without requiring major rewrites to the rest of our application.\\nThis approach is most straightforward when the majority of the total running time of our application is spent in a few relatively isolated portions of the code. More difficult to parallelize are applications with a very flat profile - i.e., applications where the time spent is spread out relatively evenly across a wide portion of the code base. For the latter variety of application, some degree of code refactoring to expose the inherent parallelism in the application might be necessary, but keep in mind that this refactoring work will tend to benefit all future architectures, CPU and GPU alike, so it is well worth the effort should it become necessary.\\nObtaining the right answer is clearly the principal goal of all computation. On parallel systems, it is possible to run into difficulties not typically found in traditional serial-oriented programming. These include threading issues, unexpected values due to the way floating-point values are computed, and challenges arising from differences in the way CPU and GPU processors operate. This chapter examines issues that can affect the correctness of returned data and points to appropriate solutions.\\nA key aspect of correctness verification for modifications to any existing program is to establish some mechanism whereby previous known-good reference outputs from representative inputs can be compared to new results. After each change is made, ensure that the results match using whatever criteria apply to the particular algorithm. Some will expect bitwise identical results, which is not always possible, especially where floating-point arithmetic is concerned; see\\nNumerical Accuracy and Precision\\nregarding numerical accuracy. For other algorithms, implementations may be considered correct if they match the reference within some small epsilon.\\nNote that the process used for validating numerical results can easily be extended to validate performance results as well. We want to ensure that each change we make is correct\\nand\\nthat it improves performance (and by how much). Checking these things frequently as an integral part of our cyclical APOD process will help ensure that we achieve the desired results as rapidly as possible.\\nA useful counterpart to the reference comparisons described above is to structure the code itself in such a way that is readily verifiable at the unit level. For example, we can write our CUDA kernels as a collection of many short\\n__device__\\nfunctions rather than one large monolithic\\n__global__\\nfunction; each device function can be tested independently before hooking them all together.\\nFor example, many kernels have complex addressing logic for accessing memory in addition to their actual computation. If we validate our addressing logic separately prior to introducing the bulk of the computation, then this will simplify any later debugging efforts. (Note that the CUDA compiler considers any device code that does not contribute to a write to global memory as dead code subject to elimination, so we must at least write\\nsomething\\nout to global memory as a result of our addressing logic in order to successfully apply this strategy.)\\nGoing a step further, if most functions are defined as\\n__host__\\n__device__\\nrather than just\\n__device__\\nfunctions, then these functions can be tested on both the CPU and the GPU, thereby increasing our confidence that the function is correct and that there will not be any unexpected differences in the results. If there\\nare\\ndifferences, then those differences will be seen early and can be understood in the context of a simple function.\\nAs a useful side effect, this strategy will allow us a means to reduce code duplication should we wish to include both CPU and GPU execution paths in our application: if the bulk of the work of our CUDA kernels is done in\\n__host__\\n__device__\\nfunctions, we can easily call those functions from both the host code\\nand\\nthe device code without duplication.\\nCUDA-GDB is a port of the GNU Debugger that runs on Linux and Mac; see:\\nhttps://developer.nvidia.com/cuda-gdb\\n.\\nThe NVIDIA Nsight Visual Studio Edition for Microsoft Windows 7, Windows HPC Server 2008, Windows 8.1, and Windows 10 is available as a free plugin for Microsoft Visual Studio; see:\\nhttps://developer.nvidia.com/nsight-visual-studio-edition\\n.\\nSeveral third-party debuggers support CUDA debugging as well; see:\\nhttps://developer.nvidia.com/debugging-solutions\\nfor more details.\\nIncorrect or unexpected results arise principally from issues of floating-point accuracy due to the way floating-point values are computed and stored. The following sections explain the principal items of interest. Other peculiarities of floating-point arithmetic are presented in Features and Technical Specifications of the CUDA C++ Programming Guide as well as in a whitepaper and accompanying webinar on floating-point precision and performance available from\\nhttps://developer.nvidia.com/content/precision-performance-floating-point-and-ieee-754-compliance-nvidia-gpus\\n.\\nDevices of\\ncompute capability\\n1.3 and higher provide native support for double-precision floating-point values (that is, values 64 bits wide). Results obtained using double-precision arithmetic will frequently differ from the same operation performed via single-precision arithmetic due to the greater precision of the former and due to rounding issues. Therefore, it is important to be sure to compare values of like precision and to express the results within a certain tolerance rather than expecting them to be exact.\\nEach floating-point arithmetic operation involves a certain amount of rounding. Consequently, the order in which arithmetic operations are performed is important. If A, B, and C are floating-point values, (A+B)+C is not guaranteed to equal A+(B+C) as it is in symbolic math. When you parallelize computations, you potentially change the order of operations and therefore the parallel results might not match sequential results. This limitation is not specific to CUDA, but an inherent part of parallel computation on floating-point values.\\nAll CUDA compute devices follow the IEEE 754 standard for binary floating-point representation, with some small exceptions. These exceptions, which are detailed in Features and Technical Specifications of the CUDA C++ Programming Guide, can lead to results that differ from IEEE 754 values computed on the host system.\\nOne of the key differences is the fused multiply-add (FMA) instruction, which combines multiply-add operations into a single instruction execution. Its result will often differ slightly from results obtained by doing the two operations separately.\\nx86 processors can use an 80-bit\\ndouble extended precision\\nmath when performing floating-point calculations. The results of these calculations can frequently differ from pure 64-bit operations performed on the CUDA device. To get a closer match between values, set the x86 host processor to use regular double or single precision (64 bits and 32 bits, respectively). This is done with the\\nFLDCW\\nx86 assembly instruction or the equivalent operating system API.\\nAfter each round of application parallelization is complete, the developer can move to optimizing the implementation to improve performance. Since there are many possible optimizations that can be considered, having a good understanding of the needs of the application can help to make the process as smooth as possible. However, as with APOD as a whole, program optimization is an iterative process (identify an opportunity for optimization, apply and test the optimization, verify the speedup achieved, and repeat), meaning that it is not necessary for a programmer to spend large amounts of time memorizing the bulk of all possible optimization strategies prior to seeing good speedups. Instead, strategies can be applied incrementally as they are learned.\\nOptimizations can be applied at various levels, from overlapping data transfers with computation all the way down to fine-tuning floating-point operation sequences. The available profiling tools are invaluable for guiding this process, as they can help suggest a next-best course of action for the developer’s optimization efforts and provide references into the relevant portions of the optimization section of this guide.\\nWhen attempting to optimize CUDA code, it pays to know how to measure performance accurately and to understand the role that bandwidth plays in performance measurement. This chapter discusses how to correctly measure performance using CPU timers and CUDA events. It then explores how bandwidth affects performance metrics and how to mitigate some of the challenges it poses.\\nCUDA calls and kernel executions can be timed using either CPU or GPU timers. This section examines the functionality, advantages, and pitfalls of both approaches.\\nAny CPU timer can be used to measure the elapsed time of a CUDA call or kernel execution. The details of various CPU timing approaches are outside the scope of this document, but developers should always be aware of the resolution their timing calls provide.\\nWhen using CPU timers, it is critical to remember that many CUDA API functions are asynchronous; that is, they return control back to the calling CPU thread prior to completing their work. All kernel launches are asynchronous, as are memory-copy functions with the\\nAsync\\nsuffix on their names. Therefore, to accurately measure the elapsed time for a particular call or sequence of CUDA calls, it is necessary to synchronize the CPU thread with the GPU by calling\\ncudaDeviceSynchronize()\\nimmediately before starting and stopping the CPU timer.\\ncudaDeviceSynchronize()\\nblocks the calling CPU thread until all CUDA calls previously issued by the thread are completed.\\nAlthough it is also possible to synchronize the CPU thread with a particular stream or event on the GPU, these synchronization functions are not suitable for timing code in streams other than the default stream.\\ncudaStreamSynchronize()\\nblocks the CPU thread until all CUDA calls previously issued into the given stream have completed.\\ncudaEventSynchronize()\\nblocks until a given event in a particular stream has been recorded by the GPU. Because the driver may interleave execution of CUDA calls from other non-default streams, calls in other streams may be included in the timing.\\nBecause the default stream, stream 0, exhibits serializing behavior for work on the device (an operation in the default stream can begin only after all preceding calls in any stream have completed; and no subsequent operation in any stream can begin until it finishes), these functions can be used reliably for timing in the default stream.\\nBe aware that CPU-to-GPU synchronization points such as those mentioned in this section imply a stall in the GPU’s processing pipeline and should thus be used sparingly to minimize their performance impact.\\nThe CUDA event API provides calls that create and destroy events, record events (including a timestamp), and convert timestamp differences into a floating-point value in milliseconds.\\nHow to time code using CUDA events\\nillustrates their use.\\nHow to time code using CUDA events\\ncudaEvent_t\\nstart\\n,\\nstop\\n;\\nfloat\\ntime\\n;\\ncudaEventCreate\\n(\\n&\\nstart\\n);\\ncudaEventCreate\\n(\\n&\\nstop\\n);\\ncudaEventRecord\\n(\\nstart\\n,\\n0\\n);\\nkernel\\n<<<\\ngrid\\n,\\nthreads\\n>>>\\n(\\nd_odata\\n,\\nd_idata\\n,\\nsize_x\\n,\\nsize_y\\n,\\nNUM_REPS\\n);\\ncudaEventRecord\\n(\\nstop\\n,\\n0\\n);\\ncudaEventSynchronize\\n(\\nstop\\n);\\ncudaEventElapsedTime\\n(\\n&\\ntime\\n,\\nstart\\n,\\nstop\\n);\\ncudaEventDestroy\\n(\\nstart\\n);\\ncudaEventDestroy\\n(\\nstop\\n);\\nHere\\ncudaEventRecord()\\nis used to place the\\nstart\\nand\\nstop\\nevents into the default stream, stream 0. The device will record a timestamp for the event when it reaches that event in the stream. The\\ncudaEventElapsedTime()\\nfunction returns the time elapsed between the recording of the\\nstart\\nand\\nstop\\nevents. This value is expressed in milliseconds and has a resolution of approximately half a microsecond. Like the other calls in this listing, their specific operation, parameters, and return values are described in the\\nCUDA Toolkit Reference Manual\\n. Note that the timings are measured on the GPU clock, so the timing resolution is operating-system-independent.\\nBandwidth - the rate at which data can be transferred - is one of the most important gating factors for performance. Almost all changes to code should be made in the context of how they affect bandwidth. As described in\\nMemory Optimizations\\nof this guide, bandwidth can be dramatically affected by the choice of memory in which data is stored, how the data is laid out and the order in which it is accessed, as well as other factors.\\nTo measure performance accurately, it is useful to calculate theoretical and effective bandwidth. When the latter is much lower than the former, design or implementation details are likely to reduce bandwidth, and it should be the primary goal of subsequent optimization efforts to increase it.\\nNote\\nHigh Priority:\\nUse the effective bandwidth of your computation as a metric when measuring performance and optimization benefits.\\nTheoretical bandwidth can be calculated using hardware specifications available in the product literature. For example, the NVIDIA Tesla V100 uses HBM2 (double data rate) RAM with a memory clock rate of 877 MHz and a 4096-bit-wide memory interface.\\nUsing these data items, the peak theoretical memory bandwidth of the NVIDIA Tesla V100 is 898 GB/s:\\n\\\\(\\\\left. \\\\left( 0.877 \\\\times 10^{9} \\\\right. \\\\times (4096/8) \\\\times 2 \\\\right) \\\\div 10^{9} = 898\\\\text{GB/s}\\\\)\\nIn this calculation, the memory clock rate is converted in to Hz, multiplied by the interface width (divided by 8, to convert bits to bytes) and multiplied by 2 due to the double data rate. Finally, this product is divided by 10\\n9\\nto convert the result to GB/s.\\nNote\\nSome calculations use 1024\\n3\\ninstead of 10\\n9\\nfor the final calculation. In such a case, the bandwidth would be 836.4 GiB/s. It is important to use the same divisor when calculating theoretical and effective bandwidth so that the comparison is valid.\\nNote\\nOn GPUs with GDDR memory with ECC enabled the available DRAM is reduced by 6.25% to allow for the storage of ECC bits. Fetching ECC bits for each memory transaction also reduced the effective bandwidth by approximately 20% compared to the same GPU with ECC disabled, though the exact impact of ECC on bandwidth can be higher and depends on the memory access pattern. HBM2 memories, on the other hand, provide dedicated ECC resources, allowing overhead-free ECC protection.\\n2\\nEffective bandwidth is calculated by timing specific program activities and by knowing how data is accessed by the program. To do so, use this equation:\\n\\\\(\\\\text{Effective\\\\ bandwidth} = \\\\left( {\\\\left( B_{r} + B_{w} \\\\right) \\\\div 10^{9}} \\\\right) \\\\div \\\\text{time}\\\\)\\nHere, the effective bandwidth is in units of GB/s, B\\nr\\nis the number of bytes read per kernel, B\\nw\\nis the number of bytes written per kernel, and time is given in seconds.\\nFor example, to compute the effective bandwidth of a 2048 x 2048 matrix copy, the following formula could be used:\\n\\\\(\\\\text{Effective\\\\ bandwidth} = \\\\left( {\\\\left( 2048^{2} \\\\times 4 \\\\times 2 \\\\right) \\\\div 10^{9}} \\\\right) \\\\div \\\\text{time}\\\\)\\nThe number of elements is multiplied by the size of each element (4 bytes for a float), multiplied by 2 (because of the read\\nand\\nwrite), divided by 10\\n9\\n(or 1,024\\n3\\n) to obtain GB of memory transferred. This number is divided by the time in seconds to obtain GB/s.\\nFor devices with\\ncompute capability\\nof 2.0 or greater, the Visual Profiler can be used to collect several different memory throughput measures. The following throughput metrics can be displayed in the Details or Detail Graphs view:\\nRequested Global Load Throughput\\nRequested Global Store Throughput\\nGlobal Load Throughput\\nGlobal Store Throughput\\nDRAM Read Throughput\\nDRAM Write Throughput\\nThe Requested Global Load Throughput and Requested Global Store Throughput values indicate the global memory throughput requested by the kernel and therefore correspond to the effective bandwidth obtained by the calculation shown under\\nEffective Bandwidth Calculation\\n.\\nBecause the minimum memory transaction size is larger than most word sizes, the actual memory throughput required for a kernel can include the transfer of data not used by the kernel. For global memory accesses, this actual throughput is reported by the Global Load Throughput and Global Store Throughput values.\\nIt’s important to note that both numbers are useful. The actual memory throughput shows how close the code is to the hardware limit, and a comparison of the effective or requested bandwidth to the actual bandwidth presents a good estimate of how much bandwidth is wasted by suboptimal coalescing of memory accesses (see\\nCoalesced Access to Global Memory\\n). For global memory accesses, this comparison of requested memory bandwidth to actual memory bandwidth is reported by the Global Memory Load Efficiency and Global Memory Store Efficiency metrics.\\n2\\nAs an exception, scattered writes to HBM2 see some overhead from ECC but much less than the overhead with similar access patterns on ECC-protected GDDR5 memory.\\nMemory optimizations are the most important area for performance. The goal is to maximize the use of the hardware by maximizing bandwidth. Bandwidth is best served by using as much fast memory and as little slow-access memory as possible. This chapter discusses the various kinds of memory on the host and device and how best to set up data items to use the memory effectively.\\nThe peak theoretical bandwidth between the device memory and the GPU is much higher (898 GB/s on the NVIDIA Tesla V100, for example) than the peak theoretical bandwidth between host memory and device memory (16 GB/s on the PCIe x16 Gen3). Hence, for best overall application performance, it is important to minimize data transfer between the host and the device, even if that means running kernels on the GPU that do not demonstrate any speedup compared with running them on the host CPU.\\nNote\\nHigh Priority:\\nMinimize data transfer between the host and the device, even if it means running some kernels on the device that do not show performance gains when compared with running them on the host CPU.\\nIntermediate data structures should be created in device memory, operated on by the device, and destroyed without ever being mapped by the host or copied to host memory.\\nAlso, because of the overhead associated with each transfer, batching many small transfers into one larger transfer performs significantly better than making each transfer separately, even if doing so requires packing non-contiguous regions of memory into a contiguous buffer and then unpacking after the transfer.\\nFinally, higher bandwidth between the host and the device is achieved when using\\npage-locked\\n(or\\npinned\\n) memory, as discussed in the CUDA C++ Programming Guide and the\\nPinned Memory\\nsection of this document.\\nPage-locked or pinned memory transfers attain the highest bandwidth between the host and the device. On PCIe x16 Gen3 cards, for example, pinned memory can attain roughly 12 GB/s transfer rates.\\nPinned memory is allocated using the\\ncudaHostAlloc()\\nfunctions in the Runtime API. The\\nbandwidthTest\\nCUDA Sample shows how to use these functions as well as how to measure memory transfer performance.\\nFor regions of system memory that have already been pre-allocated,\\ncudaHostRegister()\\ncan be used to pin the memory on-the-fly without the need to allocate a separate buffer and copy the data into it.\\nPinned memory should not be overused. Excessive use can reduce overall system performance because pinned memory is a scarce resource, but how much is too much is difficult to know in advance. Furthermore, the pinning of system memory is a heavyweight operation compared to most normal system memory allocations, so as with all optimizations, test the application and the systems it runs on for optimal performance parameters.\\nData transfers between the host and the device using\\ncudaMemcpy()\\nare blocking transfers; that is, control is returned to the host thread only after the data transfer is complete. The\\ncudaMemcpyAsync()\\nfunction is a non-blocking variant of\\ncudaMemcpy()\\nin which control is returned immediately to the host thread. In contrast with\\ncudaMemcpy()\\n, the asynchronous transfer version\\nrequires\\npinned host memory (see\\nPinned Memory\\n), and it contains an additional argument, a stream ID. A\\nstream\\nis simply a sequence of operations that are performed in order on the device. Operations in different streams can be interleaved and in some cases overlapped - a property that can be used to hide data transfers between the host and the device.\\nAsynchronous transfers enable overlap of data transfers with computation in two different ways. On all CUDA-enabled devices, it is possible to overlap host computation with asynchronous data transfers and with device computations. For example,\\nOverlapping computation and data transfers\\ndemonstrates how host computation in the routine\\ncpuFunction()\\nis performed while data is transferred to the device and a kernel using the device is executed.\\nOverlapping computation and data transfers\\ncudaMemcpyAsync\\n(\\na_d\\n,\\na_h\\n,\\nsize\\n,\\ncudaMemcpyHostToDevice\\n,\\n0\\n);\\nkernel\\n<<<\\ngrid\\n,\\nblock\\n>>>\\n(\\na_d\\n);\\ncpuFunction\\n();\\nThe last argument to the\\ncudaMemcpyAsync()\\nfunction is the stream ID, which in this case uses the default stream, stream 0. The kernel also uses the default stream, and it will not begin execution until the memory copy completes; therefore, no explicit synchronization is needed. Because the memory copy and the kernel both return control to the host immediately, the host function\\ncpuFunction()\\noverlaps their execution.\\nIn\\nOverlapping computation and data transfers\\n, the memory copy and kernel execution occur sequentially. On devices that are capable of concurrent copy and compute, it is possible to overlap kernel execution on the device with data transfers between the host and the device. Whether a device has this capability is indicated by the\\nasyncEngineCount\\nfield of the\\ncudaDeviceProp\\nstructure (or listed in the output of the\\ndeviceQuery\\nCUDA Sample). On devices that have this capability, the overlap once again requires pinned host memory, and, in addition, the data transfer and kernel must use different, non-default streams (streams with non-zero stream IDs). Non-default streams are required for this overlap because memory copy, memory set functions, and kernel calls that use the default stream begin only after all preceding calls on the device (in any stream) have completed, and no operation on the device (in any stream) commences until they are finished.\\nConcurrent copy and execute\\nillustrates the basic technique.\\nConcurrent copy and execute\\ncudaStreamCreate\\n(\\n&\\nstream1\\n);\\ncudaStreamCreate\\n(\\n&\\nstream2\\n);\\ncudaMemcpyAsync\\n(\\na_d\\n,\\na_h\\n,\\nsize\\n,\\ncudaMemcpyHostToDevice\\n,\\nstream1\\n);\\nkernel\\n<<<\\ngrid\\n,\\nblock\\n,\\n0\\n,\\nstream2\\n>>>\\n(\\notherData_d\\n);\\nIn this code, two streams are created and used in the data transfer and kernel executions as specified in the last arguments of the\\ncudaMemcpyAsync\\ncall and the kernel’s execution configuration.\\nConcurrent copy and execute\\ndemonstrates how to overlap kernel execution with asynchronous data transfer. This technique could be used when the data dependency is such that the data can be broken into chunks and transferred in multiple stages, launching multiple kernels to operate on each chunk as it arrives.\\nSequential copy and execute\\nand\\nStaged concurrent copy and execute\\ndemonstrate this. They produce equivalent results. The first segment shows the reference sequential implementation, which transfers and operates on an array of\\nN\\nfloats (where\\nN\\nis assumed to be evenly divisible by nThreads).\\nSequential copy and execute\\ncudaMemcpy\\n(\\na_d\\n,\\na_h\\n,\\nN\\n*\\nsizeof\\n(\\nfloat\\n),\\ndir\\n);\\nkernel\\n<<<\\nN\\n/\\nnThreads\\n,\\nnThreads\\n>>>\\n(\\na_d\\n);\\nStaged concurrent copy and execute\\nshows how the transfer and kernel execution can be broken up into nStreams stages. This approach permits some overlapping of the data transfer and execution.\\nStaged concurrent copy and execute\\nsize\\n=\\nN\\n*\\nsizeof\\n(\\nfloat\\n)\\n/\\nnStreams\\n;\\nfor\\n(\\ni\\n=\\n0\\n;\\ni\\n<\\nnStreams\\n;\\ni\\n++\\n)\\n{\\noffset\\n=\\ni\\n*\\nN\\n/\\nnStreams\\n;\\ncudaMemcpyAsync\\n(\\na_d\\n+\\noffset\\n,\\na_h\\n+\\noffset\\n,\\nsize\\n,\\ndir\\n,\\nstream\\n[\\ni\\n]);\\nkernel\\n<<<\\nN\\n/\\n(\\nnThreads\\n*\\nnStreams\\n),\\nnThreads\\n,\\n0\\n,\\nstream\\n[\\ni\\n]\\n>>>\\n(\\na_d\\n+\\noffset\\n);\\n}\\n(In\\nStaged concurrent copy and execute\\n, it is assumed that\\nN\\nis evenly divisible by\\nnThreads*nStreams\\n.) Because execution within a stream occurs sequentially, none of the kernels will launch until the data transfers in their respective streams complete. Current GPUs can simultaneously process asynchronous data transfers and execute kernels. GPUs with a single copy engine can perform one asynchronous data transfer and execute kernels whereas GPUs with two copy engines can simultaneously perform one asynchronous data transfer from the host to the device, one asynchronous data transfer from the device to the host, and execute kernels. The number of copy engines on a GPU is given by the\\nasyncEngineCount\\nfield of the\\ncudaDeviceProp\\nstructure, which is also listed in the output of the\\ndeviceQuery\\nCUDA Sample. (It should be mentioned that it is not possible to overlap a blocking transfer with an asynchronous transfer, because the blocking transfer occurs in the default stream, so it will not begin until all previous CUDA calls complete. It will not allow any other CUDA call to begin until it has completed.) A diagram depicting the timeline of execution for the two code segments is shown in\\nFigure 1\\n, and\\nnStreams\\nis equal to 4 for\\nStaged concurrent copy and execute\\nin the bottom half of the figure.\\nTimeline comparison for copy and kernel execution\\n\\uf0c1\\nTop\\nSequential\\nBottom\\nConcurrent\\nFor this example, it is assumed that the data transfer and kernel execution times are comparable. In such cases, and when the execution time (\\ntE\\n) exceeds the transfer time (\\ntT\\n), a rough estimate for the overall time is\\ntE + tT/nStreams\\nfor the staged version versus\\ntE + tT\\nfor the sequential version. If the transfer time exceeds the execution time, a rough estimate for the overall time is\\ntT + tE/nStreams\\n.\\nZero copy\\nis a feature that was added in version 2.2 of the CUDA Toolkit. It enables GPU threads to directly access host memory. For this purpose, it requires mapped pinned (non-pageable) memory. On integrated GPUs (i.e., GPUs with the integrated field of the CUDA device properties structure set to 1), mapped pinned memory is always a performance gain because it avoids superfluous copies as integrated GPU and CPU memory are physically the same. On discrete GPUs, mapped pinned memory is advantageous only in certain cases. Because the data is not cached on the GPU, mapped pinned memory should be read or written only once, and the global loads and stores that read and write the memory should be coalesced. Zero copy can be used in place of streams because kernel-originated data transfers automatically overlap kernel execution without the overhead of setting up and determining the optimal number of streams.\\nNote\\nLow Priority:\\nUse zero-copy operations on integrated GPUs for CUDA Toolkit version 2.2 and later.\\nThe host code in\\nZero-copy host code\\nshows how zero copy is typically set up.\\nZero-copy host code\\nfloat\\n*\\na_h\\n,\\n*\\na_map\\n;\\n...\\ncudaGetDeviceProperties\\n(\\n&\\nprop\\n,\\n0\\n);\\nif\\n(\\n!\\nprop\\n.\\ncanMapHostMemory\\n)\\nexit\\n(\\n0\\n);\\ncudaSetDeviceFlags\\n(\\ncudaDeviceMapHost\\n);\\ncudaHostAlloc\\n(\\n&\\na_h\\n,\\nnBytes\\n,\\ncudaHostAllocMapped\\n);\\ncudaHostGetDevicePointer\\n(\\n&\\na_map\\n,\\na_h\\n,\\n0\\n);\\nkernel\\n<<<\\ngridSize\\n,\\nblockSize\\n>>>\\n(\\na_map\\n);\\nIn this code, the\\ncanMapHostMemory\\nfield of the structure returned by\\ncudaGetDeviceProperties()\\nis used to check that the device supports mapping host memory to the device’s address space. Page-locked memory mapping is enabled by calling\\ncudaSetDeviceFlags()\\nwith\\ncudaDeviceMapHost\\n. Note that\\ncudaSetDeviceFlags()\\nmust be called prior to setting a device or making a CUDA call that requires state (that is, essentially, before a context is created). Page-locked mapped host memory is allocated using\\ncudaHostAlloc()\\n, and the pointer to the mapped device address space is obtained via the function\\ncudaHostGetDevicePointer()\\n. In the code in\\nZero-copy host code\\n,\\nkernel()\\ncan reference the mapped pinned host memory using the pointer\\na_map\\nin exactly the same was as it would if a_map referred to a location in device memory.\\nNote\\nMapped pinned host memory allows you to overlap CPU-GPU memory transfers with computation while avoiding the use of CUDA streams. But since any repeated access to such memory areas causes repeated CPU-GPU transfers, consider creating a second area in device memory to manually cache the previously read host memory data.\\nDevices of\\ncompute capability\\n2.0 and later support a special addressing mode called\\nUnified Virtual Addressing\\n(UVA) on 64-bit Linux and Windows. With UVA, the host memory and the device memories of all installed supported devices share a single virtual address space.\\nPrior to UVA, an application had to keep track of which pointers referred to device memory (and for which device) and which referred to host memory as a separate bit of metadata (or as hard-coded information in the program) for each pointer. Using UVA, on the other hand, the physical memory space to which a pointer points can be determined simply by inspecting the value of the pointer using\\ncudaPointerGetAttributes()\\n.\\nUnder UVA, pinned host memory allocated with\\ncudaHostAlloc()\\nwill have identical host and device pointers, so it is not necessary to call\\ncudaHostGetDevicePointer()\\nfor such allocations. Host memory allocations pinned after-the-fact via\\ncudaHostRegister()\\n, however, will continue to have different device pointers than their host pointers, so\\ncudaHostGetDevicePointer()\\nremains necessary in that case.\\nUVA is also a necessary precondition for enabling peer-to-peer (P2P) transfer of data directly across the PCIe bus or NVLink for supported GPUs in supported configurations, bypassing host memory.\\nSee the CUDA C++ Programming Guide for further explanations and software requirements for UVA and P2P.\\nCUDA devices use several memory spaces, which have different characteristics that reflect their distinct usages in CUDA applications. These memory spaces include global, local, shared, texture, and registers, as shown in\\nFigure 2\\n.\\nMemory spaces on a CUDA device\\n\\uf0c1\\nOf these different memory spaces, global memory is the most plentiful; see Features and Technical Specifications of the CUDA C++ Programming Guide for the amounts of memory available in each memory space at each\\ncompute capability\\nlevel. Global, local, and texture memory have the greatest access latency, followed by constant memory, shared memory, and the register file.\\nThe various principal traits of the memory types are shown in\\nTable 1\\n.\\nTable 1. Salient Features of Device Memory\\n\\uf0c1\\nMemory\\nLocation on/off chip\\nCached\\nAccess\\nScope\\nLifetime\\nRegister\\nOn\\nn/a\\nR/W\\n1 thread\\nThread\\nLocal\\nOff\\nYes††\\nR/W\\n1 thread\\nThread\\nShared\\nOn\\nn/a\\nR/W\\nAll threads in block\\nBlock\\nGlobal\\nOff\\n†\\nR/W\\nAll threads + host\\nHost allocation\\nConstant\\nOff\\nYes\\nR\\nAll threads + host\\nHost allocation\\nTexture\\nOff\\nYes\\nR\\nAll threads + host\\nHost allocation\\n†\\nCached in L1 and L2 by default on devices of compute capability 6.0 and 7.x; cached only in L2 by default on devices of lower compute capabilities, though some allow opt-in to caching in L1 as well via compilation flags.\\n††\\nCached in L1 and L2 by default except on devices of compute capability 5.x; devices of compute capability 5.x cache locals only in L2.\\nIn the case of texture access, if a texture reference is bound to a linear array in global memory, then the device code can write to the underlying array. Texture references that are bound to CUDA arrays can be written to via surface-write operations by binding a surface to the same underlying CUDA array storage). Reading from a texture while writing to its underlying global memory array in the same kernel launch should be avoided because the texture caches are read-only and are not invalidated when the associated global memory is modified.\\nA very important performance consideration in programming for CUDA-capable GPU architectures is the coalescing of global memory accesses. Global memory loads and stores by threads of a warp are coalesced by the device into as few as possible transactions.\\nNote\\nHigh Priority:\\nEnsure global memory accesses are coalesced whenever possible.\\nThe access requirements for coalescing depend on the compute capability of the device and are documented in the CUDA C++ Programming Guide.\\nFor devices of compute capability 6.0 or higher, the requirements can be summarized quite easily: the concurrent accesses of the threads of a warp will coalesce into a number of transactions equal to the number of 32-byte transactions necessary to service all of the threads of the warp.\\nFor certain devices of compute capability 5.2, L1-caching of accesses to global memory can be optionally enabled. If L1-caching is enabled on these devices, the number of required transactions is equal to the number of required 128-byte aligned segments.\\nNote\\nOn devices of compute capability 6.0 or higher, L1-caching is the default, however the data access unit is 32-byte regardless of whether global loads are cached in L1 or not.\\nOn devices with GDDR memory, accessing memory in a coalesced way is even more important when ECC is turned on. Scattered accesses increase ECC memory transfer overhead, especially when writing data to global memory.\\nCoalescing concepts are illustrated in the following simple examples. These examples assume compute capability 6.0 or higher and that accesses are for 4-byte words, unless otherwise noted.\\n9.2.1.1.\\nA Simple Access Pattern\\n\\uf0c1\\nThe first and simplest case of coalescing can be achieved by any CUDA-enabled device of compute capability 6.0 or higher: the\\nk\\n-th thread accesses the\\nk\\n-th word in a 32-byte aligned array. Not all threads need to participate.\\nFor example, if the threads of a warp access adjacent 4-byte words (e.g., adjacent\\nfloat\\nvalues), four coalesced 32-byte transactions will service that memory access. Such a pattern is shown in\\nFigure 3\\n.\\nCoalesced access\\n\\uf0c1\\nThis access pattern results in four 32-byte transactions, indicated by the red rectangles.\\nIf from any of the four 32-byte segments only a subset of the words are requested (e.g. if several threads had accessed the same word or if some threads did not participate in the access), the full segment is fetched anyway. Furthermore, if accesses by the threads of the warp had been permuted within or accross the four segments, still only four 32-byte transactions would have been performed by a device with\\ncompute capability\\n6.0 or higher.\\n9.2.1.2.\\nA Sequential but Misaligned Access Pattern\\n\\uf0c1\\nIf sequential threads in a warp access memory that is sequential but not aligned with a 32-byte segment, five 32-byte segments will be requested, as shown in\\nFigure 4\\n.\\nMisaligned sequential addresses that fall within five 32-byte segments\\n\\uf0c1\\nMemory allocated through the CUDA Runtime API, such as via\\ncudaMalloc()\\n, is guaranteed to be aligned to at least 256 bytes. Therefore, choosing sensible thread block sizes, such as multiples of the warp size (i.e., 32 on current GPUs), facilitates memory accesses by warps that are properly aligned. (Consider what would happen to the memory addresses accessed by the second, third, and subsequent thread blocks if the thread block size was not a multiple of warp size, for example.)\\n9.2.1.3.\\nEffects of Misaligned Accesses\\n\\uf0c1\\nIt is easy and informative to explore the ramifications of misaligned accesses using a simple copy kernel, such as the one in\\nA copy kernel that illustrates misaligned accesses\\n.\\nA copy kernel that illustrates misaligned accesses\\n__global__\\nvoid\\noffsetCopy\\n(\\nfloat\\n*\\nodata\\n,\\nfloat\\n*\\nidata\\n,\\nint\\noffset\\n)\\n{\\nint\\nxid\\n=\\nblockIdx\\n.\\nx\\n*\\nblockDim\\n.\\nx\\n+\\nthreadIdx\\n.\\nx\\n+\\noffset\\n;\\nodata\\n[\\nxid\\n]\\n=\\nidata\\n[\\nxid\\n];\\n}\\nIn\\nA copy kernel that illustrates misaligned accesses\\n, data is copied from the input array\\nidata\\nto the output array, both of which exist in global memory. The kernel is executed within a loop in host code that varies the parameter\\noffset\\nfrom 0 to 32. (e.g.\\nFigure 4\\ncorresponds to this misalignments) The effective bandwidth for the copy with various offsets on an NVIDIA Tesla V100 (\\ncompute capability\\n7.0) is shown in\\nFigure 5\\n.\\nPerformance of offsetCopy kernel\\n\\uf0c1\\nFor the NVIDIA Tesla V100, global memory accesses with no offset or with offsets that are multiples of 8 words result in four 32-byte transactions. The achieved bandwidth is approximately 790 GB/s. Otherwise, five 32-byte segments are loaded per warp, and we would expect approximately 4/5\\nth\\nof the memory throughput achieved with no offsets.\\nIn this particular example, the offset memory throughput achieved is, however, approximately 9/10\\nth\\n, because adjacent warps reuse the cache lines their neighbors fetched. So while the impact is still evident it is not as large as we might have expected. It would have been more so if adjacent warps had not exhibited such a high degree of reuse of the over-fetched cache lines.\\n9.2.1.4.\\nStrided Accesses\\n\\uf0c1\\nAs seen above, in the case of misaligned sequential accesses, caches help to alleviate the performance impact. It may be different with non-unit-strided accesses, however, and this is a pattern that occurs frequently when dealing with multidimensional data or matrices. For this reason, ensuring that as much as possible of the data in each cache line fetched is actually used is an important part of performance optimization of memory accesses on these devices.\\nTo illustrate the effect of strided access on effective bandwidth, see the kernel\\nstrideCopy()\\nin\\nA kernel to illustrate non-unit stride data copy\\n, which copies data with a stride of stride elements between threads from\\nidata\\nto\\nodata\\n.\\nA kernel to illustrate non-unit stride data copy\\n__global__\\nvoid\\nstrideCopy\\n(\\nfloat\\n*\\nodata\\n,\\nfloat\\n*\\nidata\\n,\\nint\\nstride\\n)\\n{\\nint\\nxid\\n=\\n(\\nblockIdx\\n.\\nx\\n*\\nblockDim\\n.\\nx\\n+\\nthreadIdx\\n.\\nx\\n)\\n*\\nstride\\n;\\nodata\\n[\\nxid\\n]\\n=\\nidata\\n[\\nxid\\n];\\n}\\nFigure 6\\nillustrates such a situation; in this case, threads within a warp access words in memory with a stride of 2. This action leads to a load of eight L2 cache segments per warp on the Tesla V100 (compute capability 7.0).\\nAdjacent threads accessing memory with a stride of 2\\n\\uf0c1\\nA stride of 2 results in a 50% of load/store efficiency since half the elements in the transaction are not used and represent wasted bandwidth. As the stride increases, the effective bandwidth decreases until the point where 32 32-byte segments are loaded for the 32 threads in a warp, as indicated in\\nFigure 7\\n.\\nPerformance of strideCopy kernel\\n\\uf0c1\\nAs illustrated in\\nFigure 7\\n, non-unit-stride global memory accesses should be avoided whenever possible. One method for doing so utilizes shared memory, which is discussed in the next section.\\nStarting with CUDA 11.0, devices of compute capability 8.0 and above have the capability to influence persistence of data in the L2 cache. Because L2 cache is on-chip, it potentially provides higher bandwidth and lower latency accesses to global memory.\\nFor more details refer to the L2 Access Management section in the\\nCUDA C++ Programming Guide\\n.\\n9.2.2.1.\\nL2 Cache Access Window\\n\\uf0c1\\nWhen a CUDA kernel accesses a data region in the global memory repeatedly, such data accesses can be considered to be\\npersisting\\n. On the other hand, if the data is only accessed once, such data accesses can be considered to be\\nstreaming\\n. A portion of the L2 cache can be set aside for persistent accesses to a data region in global memory. If this set-aside portion is not used by persistent accesses, then streaming or normal data accesses can use it.\\nThe L2 cache set-aside size for persisting accesses may be adjusted, within limits:\\ncudaGetDeviceProperties\\n(\\n&\\nprop\\n,\\ndevice_id\\n);\\ncudaDeviceSetLimit\\n(\\ncudaLimitPersistingL2CacheSize\\n,\\nprop\\n.\\npersistingL2CacheMaxSize\\n);\\n/* Set aside max possible size of L2 cache for persisting accesses */\\nMapping of user data to L2 set-aside portion can be controlled using an access policy window on a CUDA stream or CUDA graph kernel node. The example below shows how to use the access policy window on a CUDA stream.\\ncudaStreamAttrValue\\nstream_attribute\\n;\\n// Stream level attributes data structure\\nstream_attribute\\n.\\naccessPolicyWindow\\n.\\nbase_ptr\\n=\\nreinterpret_cast\\n<\\nvoid\\n*>\\n(\\nptr\\n);\\n// Global Memory data pointer\\nstream_attribute\\n.\\naccessPolicyWindow\\n.\\nnum_bytes\\n=\\nnum_bytes\\n;\\n// Number of bytes for persisting accesses.\\n// (Must be less than cudaDeviceProp::accessPolicyMaxWindowSize)\\nstream_attribute\\n.\\naccessPolicyWindow\\n.\\nhitRatio\\n=\\n1.0\\n;\\n// Hint for L2 cache hit ratio for persisting accesses in the num_bytes region\\nstream_attribute\\n.\\naccessPolicyWindow\\n.\\nhitProp\\n=\\ncudaAccessPropertyPersisting\\n;\\n// Type of access property on cache hit\\nstream_attribute\\n.\\naccessPolicyWindow\\n.\\nmissProp\\n=\\ncudaAccessPropertyStreaming\\n;\\n// Type of access property on cache miss.\\n//Set the attributes to a CUDA stream of type cudaStream_t\\ncudaStreamSetAttribute\\n(\\nstream\\n,\\ncudaStreamAttributeAccessPolicyWindow\\n,\\n&\\nstream_attribute\\n);\\nThe access policy window requires a value for\\nhitRatio\\nand\\nnum_bytes\\n. Depending on the value of the\\nnum_bytes\\nparameter and the size of L2 cache, one may need to tune the value of\\nhitRatio\\nto avoid thrashing of L2 cache lines.\\n9.2.2.2.\\nTuning the Access Window Hit-Ratio\\n\\uf0c1\\nThe\\nhitRatio\\nparameter can be used to specify the fraction of accesses that receive the\\nhitProp\\nproperty. For example, if the\\nhitRatio\\nvalue is 0.6, 60% of the memory accesses in the global memory region [ptr..ptr+num_bytes) have the persisting property and 40% of the memory accesses have the streaming property. To understand the effect of\\nhitRatio\\nand\\nnum_bytes\\n, we use a sliding window micro benchmark.\\nThis microbenchmark uses a 1024 MB region in GPU global memory. First, we set aside 30 MB of the L2 cache for persisting accesses using\\ncudaDeviceSetLimit()\\n, as discussed above. Then, as shown in the figure below, we specify that the accesses to the first\\nfreqSize\\n*\\nsizeof(int)\\nbytes of the memory region are persistent. This data will thus use the L2 set-aside portion. In our experiment, we vary the size of this persistent data region from 10 MB to 60 MB to model various scenarios where data fits in or exceeds the available L2 set-aside portion of 30 MB. Note that the NVIDIA Tesla A100 GPU has 40 MB of total L2 cache capacity. Accesses to the remaining data of the memory region (i.e., streaming data) are considered normal or streaming accesses and will thus use the remaining 10 MB of the non set-aside L2 portion (unless part of the L2 set-aside portion is unused).\\nMapping Persistent data accesses to set-aside L2 in sliding window experiment\\n\\uf0c1\\nConsider the following kernel code and access window parameters, as the implementation of the sliding window experiment.\\n__global__\\nvoid\\nkernel\\n(\\nint\\n*\\ndata_persistent\\n,\\nint\\n*\\ndata_streaming\\n,\\nint\\ndataSize\\n,\\nint\\nfreqSize\\n)\\n{\\nint\\ntid\\n=\\nblockIdx\\n.\\nx\\n*\\nblockDim\\n.\\nx\\n+\\nthreadIdx\\n.\\nx\\n;\\n/*Each CUDA thread accesses one element in the persistent data section\\nand one element in the streaming data section.\\nBecause the size of the persistent memory region (freqSize * sizeof(int) bytes) is much\\nsmaller than the size of the streaming memory region (dataSize * sizeof(int) bytes), data\\nin the persistent region is accessed more frequently*/\\ndata_persistent\\n[\\ntid\\n%\\nfreqSize\\n]\\n=\\n2\\n*\\ndata_persistent\\n[\\ntid\\n%\\nfreqSize\\n];\\ndata_streaming\\n[\\ntid\\n%\\ndataSize\\n]\\n=\\n2\\n*\\ndata_streaming\\n[\\ntid\\n%\\ndataSize\\n];\\n}\\nstream_attribute\\n.\\naccessPolicyWindow\\n.\\nbase_ptr\\n=\\nreinterpret_cast\\n<\\nvoid\\n*>\\n(\\ndata_persistent\\n);\\nstream_attribute\\n.\\naccessPolicyWindow\\n.\\nnum_bytes\\n=\\nfreqSize\\n*\\nsizeof\\n(\\nint\\n);\\n//Number of bytes for persisting accesses in range 10-60 MB\\nstream_attribute\\n.\\naccessPolicyWindow\\n.\\nhitRatio\\n=\\n1.0\\n;\\n//Hint for cache hit ratio. Fixed value 1.0\\nThe performance of the above kernel is shown in the chart below. When the persistent data region fits well into the 30 MB set-aside portion of the L2 cache, a performance increase of as much as 50% is observed. However, once the size of this persistent data region exceeds the size of the L2 set-aside cache portion, approximately 10% performance drop is observed due to thrashing of L2 cache lines.\\nThe performance of the sliding-window benchmark with fixed hit-ratio of 1.0\\n\\uf0c1\\nIn order to optimize the performance, when the size of the persistent data is more than the size of the set-aside L2 cache portion, we tune the\\nnum_bytes\\nand\\nhitRatio\\nparameters in the access window as below.\\nstream_attribute\\n.\\naccessPolicyWindow\\n.\\nbase_ptr\\n=\\nreinterpret_cast\\n<\\nvoid\\n*>\\n(\\ndata_persistent\\n);\\nstream_attribute\\n.\\naccessPolicyWindow\\n.\\nnum_bytes\\n=\\n20\\n*\\n1024\\n*\\n1024\\n;\\n//20 MB\\nstream_attribute\\n.\\naccessPolicyWindow\\n.\\nhitRatio\\n=\\n(\\n20\\n*\\n1024\\n*\\n1024\\n)\\n/\\n((\\nfloat\\n)\\nfreqSize\\n*\\nsizeof\\n(\\nint\\n));\\n//Such that up to 20MB of data is resident.\\nWe fix the\\nnum_bytes\\nin the access window to 20 MB and tune the\\nhitRatio\\nsuch that a random 20 MB of the total persistent data is resident in the L2 set-aside cache portion. The remaining portion of this persistent data will be accessed using the streaming property. This helps in reducing cache thrashing. The results are shown in the chart below, where we see good performance regardless of whether the persistent data fits in the L2 set-aside or not.\\nThe performance of the sliding-window benchmark with tuned hit-ratio\\n\\uf0c1\\nBecause it is on-chip, shared memory has much higher bandwidth and lower latency than local and global memory - provided there are no bank conflicts between the threads, as detailed in the following section.\\n9.2.3.1.\\nShared Memory and Memory Banks\\n\\uf0c1\\nTo achieve high memory bandwidth for concurrent accesses, shared memory is divided into equally sized memory modules (\\nbanks\\n) that can be accessed simultaneously. Therefore, any memory load or store of\\nn\\naddresses that spans\\nn\\ndistinct memory banks can be serviced simultaneously, yielding an effective bandwidth that is\\nn\\ntimes as high as the bandwidth of a single bank.\\nHowever, if multiple addresses of a memory request map to the same memory bank, the accesses are serialized. The hardware splits a memory request that has bank conflicts into as many separate conflict-free requests as necessary, decreasing the effective bandwidth by a factor equal to the number of separate memory requests. The one exception here is when multiple threads in a warp address the same shared memory location, resulting in a broadcast. In this case, multiple broadcasts from different banks are coalesced into a single multicast from the requested shared memory locations to the threads.\\nTo minimize bank conflicts, it is important to understand how memory addresses map to memory banks and how to optimally schedule memory requests.\\nOn devices of compute capability 5.x or newer, each bank has a bandwidth of 32 bits every clock cycle, and successive 32-bit words are assigned to successive banks. The warp size is 32 threads and the number of banks is also 32, so bank conflicts can occur between any threads in the warp. See Compute Capability 5.x in the CUDA C++ Programming Guide for further details.\\n9.2.3.2.\\nShared Memory in Matrix Multiplication (C=AB)\\n\\uf0c1\\nShared memory enables cooperation between threads in a block. When multiple threads in a block use the same data from global memory, shared memory can be used to access the data from global memory only once. Shared memory can also be used to avoid uncoalesced memory accesses by loading and storing data in a coalesced pattern from global memory and then reordering it in shared memory. Aside from memory bank conflicts, there is no penalty for non-sequential or unaligned accesses by a warp in shared memory.\\nThe use of shared memory is illustrated via the simple example of a matrix multiplication C = AB for the case with A of dimension Mxw, B of dimension wxN, and C of dimension MxN. To keep the kernels simple, M and N are multiples of 32, since the warp size (w) is 32 for current devices.\\nA natural decomposition of the problem is to use a block and tile size of wxw threads. Therefore, in terms of wxw tiles, A is a column matrix, B is a row matrix, and C is their outer product; see\\nFigure 11\\n. A grid of N/w by M/w blocks is launched, where each thread block calculates the elements of a different tile in C from a single tile of A and a single tile of B.\\nBlock-column matrix multiplied by block-row matrix. Block-column matrix (A) multiplied by block-row matrix (B) with resulting product matrix (C).\\n\\uf0c1\\nTo do this, the\\nsimpleMultiply\\nkernel (\\nUnoptimized matrix multiplication\\n) calculates the output elements of a tile of matrix C.\\nUnoptimized matrix multiplication\\n__global__\\nvoid\\nsimpleMultiply\\n(\\nfloat\\n*\\na\\n,\\nfloat\\n*\\nb\\n,\\nfloat\\n*\\nc\\n,\\nint\\nN\\n)\\n{\\nint\\nrow\\n=\\nblockIdx\\n.\\ny\\n*\\nblockDim\\n.\\ny\\n+\\nthreadIdx\\n.\\ny\\n;\\nint\\ncol\\n=\\nblockIdx\\n.\\nx\\n*\\nblockDim\\n.\\nx\\n+\\nthreadIdx\\n.\\nx\\n;\\nfloat\\nsum\\n=\\n0.0f\\n;\\nfor\\n(\\nint\\ni\\n=\\n0\\n;\\ni\\n<\\nTILE_DIM\\n;\\ni\\n++\\n)\\n{\\nsum\\n+=\\na\\n[\\nrow\\n*\\nTILE_DIM\\n+\\ni\\n]\\n*\\nb\\n[\\ni\\n*\\nN\\n+\\ncol\\n];\\n}\\nc\\n[\\nrow\\n*\\nN\\n+\\ncol\\n]\\n=\\nsum\\n;\\n}\\nIn\\nUnoptimized matrix multiplication\\n,\\na\\n,\\nb\\n, and\\nc\\nare pointers to global memory for the matrices A, B, and C, respectively;\\nblockDim.x\\n,\\nblockDim.y\\n, and\\nTILE_DIM\\nare all equal to w. Each thread in the wxw-thread block calculates one element in a tile of C.\\nrow\\nand\\ncol\\nare the row and column of the element in C being calculated by a particular thread. The\\nfor\\nloop over\\ni\\nmultiplies a row of A by a column of B, which is then written to C.\\nThe effective bandwidth of this kernel is 119.9 GB/s on an NVIDIA Tesla V100. To analyze performance, it is necessary to consider how warps access global memory in the\\nfor\\nloop. Each warp of threads calculates one row of a tile of C, which depends on a single row of A and an entire tile of B as illustrated in\\nFigure 12\\n.\\nComputing a row of a tile. Computing a row of a tile in C using one row of A and an entire tile of B.\\n\\uf0c1\\nFor each iteration\\ni\\nof the\\nfor\\nloop, the threads in a warp read a row of the B tile, which is a sequential and coalesced access for all compute capabilities.\\nHowever, for each iteration\\ni\\n, all threads in a warp read the same value from global memory for matrix A, as the index\\nrow*TILE_DIM+i\\nis constant within a warp. Even though such an access requires only 1 transaction on devices of compute capability 2.0 or higher, there is wasted bandwidth in the transaction, because only one 4-byte word out of 8 words in a 32-byte cache segment is used. We can reuse this cache line in subsequent iterations of the loop, and we would eventually utilize all 8 words; however, when many warps execute on the same multiprocessor simultaneously, as is generally the case, the cache line may easily be evicted from the cache between iterations\\ni\\nand\\ni+1\\n.\\nThe performance on a device of any compute capability can be improved by reading a tile of A into shared memory as shown in\\nUsing shared memory to improve the global memory load efficiency in matrix multiplication\\n.\\nUsing shared memory to improve the global memory load efficiency in matrix multiplication\\n__global__\\nvoid\\ncoalescedMultiply\\n(\\nfloat\\n*\\na\\n,\\nfloat\\n*\\nb\\n,\\nfloat\\n*\\nc\\n,\\nint\\nN\\n)\\n{\\n__shared__\\nfloat\\naTile\\n[\\nTILE_DIM\\n][\\nTILE_DIM\\n];\\nint\\nrow\\n=\\nblockIdx\\n.\\ny\\n*\\nblockDim\\n.\\ny\\n+\\nthreadIdx\\n.\\ny\\n;\\nint\\ncol\\n=\\nblockIdx\\n.\\nx\\n*\\nblockDim\\n.\\nx\\n+\\nthreadIdx\\n.\\nx\\n;\\nfloat\\nsum\\n=\\n0.0f\\n;\\naTile\\n[\\nthreadIdx\\n.\\ny\\n][\\nthreadIdx\\n.\\nx\\n]\\n=\\na\\n[\\nrow\\n*\\nTILE_DIM\\n+\\nthreadIdx\\n.\\nx\\n];\\n__syncwarp\\n();\\nfor\\n(\\nint\\ni\\n=\\n0\\n;\\ni\\n<\\nTILE_DIM\\n;\\ni\\n++\\n)\\n{\\nsum\\n+=\\naTile\\n[\\nthreadIdx\\n.\\ny\\n][\\ni\\n]\\n*\\nb\\n[\\ni\\n*\\nN\\n+\\ncol\\n];\\n}\\nc\\n[\\nrow\\n*\\nN\\n+\\ncol\\n]\\n=\\nsum\\n;\\n}\\nIn\\nUsing shared memory to improve the global memory load efficiency in matrix multiplication\\n, each element in a tile of A is read from global memory only once, in a fully coalesced fashion (with no wasted bandwidth), to shared memory. Within each iteration of the\\nfor\\nloop, a value in shared memory is broadcast to all threads in a warp. Instead of a\\n__syncthreads()\\nsynchronization barrier call, a\\n__syncwarp()\\nis sufficient after reading the tile of A into shared memory because only threads within the warp that write the data into shared memory read this data. This kernel has an effective bandwidth of 144.4 GB/s on an NVIDIA Tesla V100. This illustrates the use of the shared memory as a\\nuser-managed cache\\nwhen the hardware L1 cache eviction policy does not match up well with the needs of the application or when L1 cache is not used for reads from global memory.\\nA further improvement can be made to how\\nUsing shared memory to improve the global memory load efficiency in matrix multiplication\\ndeals with matrix B. In calculating each of the rows of a tile of matrix C, the entire tile of B is read. The repeated reading of the B tile can be eliminated by reading it into shared memory once (\\nImprovement by reading additional data into shared memory\\n).\\nImprovement by reading additional data into shared memory\\n__global__\\nvoid\\nsharedABMultiply\\n(\\nfloat\\n*\\na\\n,\\nfloat\\n*\\nb\\n,\\nfloat\\n*\\nc\\n,\\nint\\nN\\n)\\n{\\n__shared__\\nfloat\\naTile\\n[\\nTILE_DIM\\n][\\nTILE_DIM\\n],\\nbTile\\n[\\nTILE_DIM\\n][\\nTILE_DIM\\n];\\nint\\nrow\\n=\\nblockIdx\\n.\\ny\\n*\\nblockDim\\n.\\ny\\n+\\nthreadIdx\\n.\\ny\\n;\\nint\\ncol\\n=\\nblockIdx\\n.\\nx\\n*\\nblockDim\\n.\\nx\\n+\\nthreadIdx\\n.\\nx\\n;\\nfloat\\nsum\\n=\\n0.0f\\n;\\naTile\\n[\\nthreadIdx\\n.\\ny\\n][\\nthreadIdx\\n.\\nx\\n]\\n=\\na\\n[\\nrow\\n*\\nTILE_DIM\\n+\\nthreadIdx\\n.\\nx\\n];\\nbTile\\n[\\nthreadIdx\\n.\\ny\\n][\\nthreadIdx\\n.\\nx\\n]\\n=\\nb\\n[\\nthreadIdx\\n.\\ny\\n*\\nN\\n+\\ncol\\n];\\n__syncthreads\\n();\\nfor\\n(\\nint\\ni\\n=\\n0\\n;\\ni\\n<\\nTILE_DIM\\n;\\ni\\n++\\n)\\n{\\nsum\\n+=\\naTile\\n[\\nthreadIdx\\n.\\ny\\n][\\ni\\n]\\n*\\nbTile\\n[\\ni\\n][\\nthreadIdx\\n.\\nx\\n];\\n}\\nc\\n[\\nrow\\n*\\nN\\n+\\ncol\\n]\\n=\\nsum\\n;\\n}\\nNote that in\\nImprovement by reading additional data into shared memory\\n, a\\n__syncthreads()\\ncall is required after reading the B tile because a warp reads data from shared memory that were written to shared memory by different warps. The effective bandwidth of this routine is 195.5 GB/s on an NVIDIA Tesla V100. Note that the performance improvement is not due to improved coalescing in either case, but to avoiding redundant transfers from global memory.\\nThe results of the various optimizations are summarized in\\nTable 2\\n.\\nTable 2. Performance Improvements Optimizing C = AB Matrix Multiply\\n:class table-no-stripes\\n\\uf0c1\\nOptimization\\nNVIDIA Tesla V100\\nNo optimization\\n119.9 GB/s\\nCoalesced using shared memory to store a tile of A\\n144.4 GB/s\\nUsing shared memory to eliminate redundant reads of a tile of B\\n195.5 GB/s\\nNote\\nMedium Priority:\\nUse shared memory to avoid redundant transfers from global memory.\\n9.2.3.3.\\nShared Memory in Matrix Multiplication (C=AAT)\\n\\uf0c1\\nA variant of the previous matrix multiplication can be used to illustrate how strided accesses to global memory, as well as shared memory bank conflicts, are handled. This variant simply uses the transpose of A in place of B, so C = AA\\nT\\n.\\nA simple implementation for C = AA\\nT\\nis shown in\\nUnoptimized handling of strided accesses to global memory\\nUnoptimized handling of strided accesses to global memory\\n__global__\\nvoid\\nsimpleMultiply\\n(\\nfloat\\n*\\na\\n,\\nfloat\\n*\\nc\\n,\\nint\\nM\\n)\\n{\\nint\\nrow\\n=\\nblockIdx\\n.\\ny\\n*\\nblockDim\\n.\\ny\\n+\\nthreadIdx\\n.\\ny\\n;\\nint\\ncol\\n=\\nblockIdx\\n.\\nx\\n*\\nblockDim\\n.\\nx\\n+\\nthreadIdx\\n.\\nx\\n;\\nfloat\\nsum\\n=\\n0.0f\\n;\\nfor\\n(\\nint\\ni\\n=\\n0\\n;\\ni\\n<\\nTILE_DIM\\n;\\ni\\n++\\n)\\n{\\nsum\\n+=\\na\\n[\\nrow\\n*\\nTILE_DIM\\n+\\ni\\n]\\n*\\na\\n[\\ncol\\n*\\nTILE_DIM\\n+\\ni\\n];\\n}\\nc\\n[\\nrow\\n*\\nM\\n+\\ncol\\n]\\n=\\nsum\\n;\\n}\\nIn\\nUnoptimized handling of strided accesses to global memory\\n, the\\nrow\\n-th,\\ncol\\n-th element of C is obtained by taking the dot product of the\\nrow\\n-th and\\ncol\\n-th rows of A. The effective bandwidth for this kernel is 12.8 GB/s on an NVIDIA Tesla V100. These results are substantially lower than the corresponding measurements for the C = AB kernel. The difference is in how threads in a half warp access elements of A in the second term,\\na[col*TILE_DIM+i]\\n, for each iteration\\ni\\n. For a warp of threads,\\ncol\\nrepresents sequential columns of the transpose of A, and therefore\\ncol*TILE_DIM\\nrepresents a strided access of global memory with a stride of w, resulting in plenty of wasted bandwidth.\\nThe way to avoid strided access is to use shared memory as before, except in this case a warp reads a row of A into a column of a shared memory tile, as shown in\\nAn optimized handling of strided accesses using coalesced reads from global memory\\n.\\nAn optimized handling of strided accesses using coalesced reads from global memory\\n__global__\\nvoid\\ncoalescedMultiply\\n(\\nfloat\\n*\\na\\n,\\nfloat\\n*\\nc\\n,\\nint\\nM\\n)\\n{\\n__shared__\\nfloat\\naTile\\n[\\nTILE_DIM\\n][\\nTILE_DIM\\n],\\ntransposedTile\\n[\\nTILE_DIM\\n][\\nTILE_DIM\\n];\\nint\\nrow\\n=\\nblockIdx\\n.\\ny\\n*\\nblockDim\\n.\\ny\\n+\\nthreadIdx\\n.\\ny\\n;\\nint\\ncol\\n=\\nblockIdx\\n.\\nx\\n*\\nblockDim\\n.\\nx\\n+\\nthreadIdx\\n.\\nx\\n;\\nfloat\\nsum\\n=\\n0.0f\\n;\\naTile\\n[\\nthreadIdx\\n.\\ny\\n][\\nthreadIdx\\n.\\nx\\n]\\n=\\na\\n[\\nrow\\n*\\nTILE_DIM\\n+\\nthreadIdx\\n.\\nx\\n];\\ntransposedTile\\n[\\nthreadIdx\\n.\\nx\\n][\\nthreadIdx\\n.\\ny\\n]\\n=\\na\\n[(\\nblockIdx\\n.\\nx\\n*\\nblockDim\\n.\\nx\\n+\\nthreadIdx\\n.\\ny\\n)\\n*\\nTILE_DIM\\n+\\nthreadIdx\\n.\\nx\\n];\\n__syncthreads\\n();\\nfor\\n(\\nint\\ni\\n=\\n0\\n;\\ni\\n<\\nTILE_DIM\\n;\\ni\\n++\\n)\\n{\\nsum\\n+=\\naTile\\n[\\nthreadIdx\\n.\\ny\\n][\\ni\\n]\\n*\\ntransposedTile\\n[\\ni\\n][\\nthreadIdx\\n.\\nx\\n];\\n}\\nc\\n[\\nrow\\n*\\nM\\n+\\ncol\\n]\\n=\\nsum\\n;\\n}\\nAn optimized handling of strided accesses using coalesced reads from global memory\\nuses the shared\\ntransposedTile\\nto avoid uncoalesced accesses in the second term in the dot product and the shared\\naTile\\ntechnique from the previous example to avoid uncoalesced accesses in the first term. The effective bandwidth of this kernel is 140.2 GB/s on an NVIDIA Tesla V100.These results are lower than those obtained by the final kernel for C = AB. The cause of the difference is shared memory bank conflicts.\\nThe reads of elements in\\ntransposedTile\\nwithin the for loop are free of conflicts, because threads of each half warp read across rows of the tile, resulting in unit stride across the banks. However, bank conflicts occur when copying the tile from global memory into shared memory. To enable the loads from global memory to be coalesced, data are read from global memory sequentially. However, this requires writing to shared memory in columns, and because of the use of wxw tiles in shared memory, this results in a stride between threads of w banks - every thread of the warp hits the same bank (Recall that w is selected as 32). These many-way bank conflicts are very expensive. The simple remedy is to pad the shared memory array so that it has an extra column, as in the following line of code.\\n__shared__\\nfloat\\ntransposedTile\\n[\\nTILE_DIM\\n][\\nTILE_DIM\\n+\\n1\\n];\\nThis padding eliminates the conflicts entirely, because now the stride between threads is w+1 banks (i.e., 33 for current devices), which, due to modulo arithmetic used to compute bank indices, is equivalent to a unit stride. After this change, the effective bandwidth is 199.4 GB/s on an NVIDIA Tesla V100, which is comparable to the results from the last C = AB kernel.\\nThe results of these optimizations are summarized in\\nTable 3\\n.\\nTable 3. Performance Improvements Optimizing C = AA\\nT\\nMatrix Multiplication\\n\\uf0c1\\nOptimization\\nNVIDIA Tesla V100\\nNo optimization\\n12.8 GB/s\\nUsing shared memory to coalesce global reads\\n140.2 GB/s\\nRemoving bank conflicts\\n199.4 GB/s\\nThese results should be compared with those in\\nTable 2\\n. As can be seen from these tables, judicious use of shared memory can dramatically improve performance.\\nThe examples in this section have illustrated three reasons to use shared memory:\\nTo enable coalesced accesses to global memory, especially to avoid large strides (for general matrices, strides are much larger than 32)\\nTo eliminate (or reduce) redundant loads from global memory\\nTo avoid wasted bandwidth\\n9.2.3.4.\\nAsynchronous Copy from Global Memory to Shared Memory\\n\\uf0c1\\nCUDA 11.0 introduces an\\nasync-copy\\nfeature that can be used within device code to explicitly manage the asynchronous copying of data from global memory to shared memory. This feature enables CUDA kernels to overlap copying data from global to shared memory with computation. It also avoids an intermediary register file access traditionally present between the global memory read and the shared memory write.\\nFor more details refer to the\\nmemcpy_async\\nsection in the\\nCUDA C++ Programming Guide\\n.\\nTo understand the performance difference between synchronous copy and asynchronous copy of data from global memory to shared memory, consider the following micro benchmark CUDA kernels for demonstrating the synchronous and asynchronous approaches. Asynchronous copies are hardware accelerated for NVIDIA A100 GPU.\\ntemplate\\n<\\ntypename\\nT\\n>\\n__global__\\nvoid\\npipeline_kernel_sync\\n(\\nT\\n*\\nglobal\\n,\\nuint64_t\\n*\\nclock\\n,\\nsize_t\\ncopy_count\\n)\\n{\\nextern\\n__shared__\\nchar\\ns\\n[];\\nT\\n*\\nshared\\n=\\nreinterpret_cast\\n<\\nT\\n*>\\n(\\ns\\n);\\nuint64_t\\nclock_start\\n=\\nclock64\\n();\\nfor\\n(\\nsize_t\\ni\\n=\\n0\\n;\\ni\\n<\\ncopy_count\\n;\\n++\\ni\\n)\\n{\\nshared\\n[\\nblockDim\\n.\\nx\\n*\\ni\\n+\\nthreadIdx\\n.\\nx\\n]\\n=\\nglobal\\n[\\nblockDim\\n.\\nx\\n*\\ni\\n+\\nthreadIdx\\n.\\nx\\n];\\n}\\nuint64_t\\nclock_end\\n=\\nclock64\\n();\\natomicAdd\\n(\\nreinterpret_cast\\n<\\nunsigned\\nlong\\nlong\\n*>\\n(\\nclock\\n),\\nclock_end\\n-\\nclock_start\\n);\\n}\\ntemplate\\n<\\ntypename\\nT\\n>\\n__global__\\nvoid\\npipeline_kernel_async\\n(\\nT\\n*\\nglobal\\n,\\nuint64_t\\n*\\nclock\\n,\\nsize_t\\ncopy_count\\n)\\n{\\nextern\\n__shared__\\nchar\\ns\\n[];\\nT\\n*\\nshared\\n=\\nreinterpret_cast\\n<\\nT\\n*>\\n(\\ns\\n);\\nuint64_t\\nclock_start\\n=\\nclock64\\n();\\n//pipeline pipe;\\nfor\\n(\\nsize_t\\ni\\n=\\n0\\n;\\ni\\n<\\ncopy_count\\n;\\n++\\ni\\n)\\n{\\n__pipeline_memcpy_async\\n(\\n&\\nshared\\n[\\nblockDim\\n.\\nx\\n*\\ni\\n+\\nthreadIdx\\n.\\nx\\n],\\n&\\nglobal\\n[\\nblockDim\\n.\\nx\\n*\\ni\\n+\\nthreadIdx\\n.\\nx\\n],\\nsizeof\\n(\\nT\\n));\\n}\\n__pipeline_commit\\n();\\n__pipeline_wait_prior\\n(\\n0\\n);\\nuint64_t\\nclock_end\\n=\\nclock64\\n();\\natomicAdd\\n(\\nreinterpret_cast\\n<\\nunsigned\\nlong\\nlong\\n*>\\n(\\nclock\\n),\\nclock_end\\n-\\nclock_start\\n);\\n}\\nThe synchronous version for the kernel loads an element from global memory to an intermediate register and then stores the intermediate register value to shared memory. In the asynchronous version of the kernel, instructions to load from global memory and store directly into shared memory are issued as soon as\\n__pipeline_memcpy_async()\\nfunction is called. The\\n__pipeline_wait_prior(0)\\nwill wait until all the instructions in the pipe object have been executed. Using asynchronous copies does not use any intermediate register. Not using intermediate registers can help reduce register pressure and can increase kernel occupancy. Data copied from global memory to shared memory using asynchronous copy instructions can be cached in the L1 cache or the L1 cache can be optionally bypassed. If individual CUDA threads are copying elements of 16 bytes, the L1 cache can be bypassed. This difference is illustrated in\\nFigure 13\\n.\\nComparing Synchronous vs Asynchronous Copy from Global Memory to Shared Memory\\n\\uf0c1\\nWe evaluate the performance of both kernels using elements of size 4B, 8B and 16B per thread i.e., using\\nint\\n,\\nint2\\nand\\nint4\\nfor the template parameter. We adjust the\\ncopy_count\\nin the kernels such that each thread block copies from 512 bytes up to 48 MB. The performance of the kernels is shown in\\nFigure 14\\n.\\nComparing Performance of Synchronous vs Asynchronous Copy from Global Memory to Shared Memory\\n\\uf0c1\\nFrom the performance chart, the following observations can be made for this experiment.\\nBest performance with synchronous copy is achieved when the\\ncopy_count\\nparameter is a multiple of 4 for all three element sizes. The compiler can optimize groups of 4 load and store instructions. This is evident from the saw tooth curves.\\nAsynchronous copy achieves better performance in nearly all cases.\\nThe async-copy does not require the\\ncopy_count\\nparameter to be a multiple of 4, to maximize performance through compiler optimizations.\\nOverall, best performance is achieved when using asynchronous copies with an element of size 8 or 16 bytes.\\nLocal memory is so named because its scope is local to the thread, not because of its physical location. In fact, local memory is off-chip. Hence, access to local memory is as expensive as access to global memory. In other words, the term\\nlocal\\nin the name does not imply faster access.\\nLocal memory is used only to hold automatic variables. This is done by the\\nnvcc\\ncompiler when it determines that there is insufficient register space to hold the variable. Automatic variables that are likely to be placed in local memory are large structures or arrays that would consume too much register space and arrays that the compiler determines may be indexed dynamically.\\nInspection of the PTX assembly code (obtained by compiling with\\n-ptx\\nor\\n-keep\\ncommand-line options to\\nnvcc\\n) reveals whether a variable has been placed in local memory during the first compilation phases. If it has, it will be declared using the\\n.local\\nmnemonic and accessed using the\\nld.local\\nand\\nst.local\\nmnemonics. If it has not, subsequent compilation phases might still decide otherwise, if they find the variable consumes too much register space for the targeted architecture. There is no way to check this for a specific variable, but the compiler reports total local memory usage per kernel (lmem) when run with the\\n--ptxas-options=-v\\noption.\\nThe read-only texture memory space is cached. Therefore, a texture fetch costs one device memory read only on a cache miss; otherwise, it just costs one read from the texture cache. The texture cache is optimized for 2D spatial locality, so threads of the same warp that read texture addresses that are close together will achieve best performance. Texture memory is also designed for streaming fetches with a constant latency; that is, a cache hit reduces DRAM bandwidth demand, but not fetch latency.\\nIn certain addressing situations, reading device memory through texture fetching can be an advantageous alternative to reading device memory from global or constant memory.\\n9.2.5.1.\\nAdditional Texture Capabilities\\n\\uf0c1\\nIf textures are fetched using\\ntex1D()\\n,\\ntex2D()\\n, or\\ntex3D()\\nrather than\\ntex1Dfetch()\\n, the hardware provides other capabilities that might be useful for some applications such as image processing, as shown in\\nTable 4\\n.\\nTable 4. Useful Features for tex1D(), tex2D(), and tex3D() Fetches\\n\\uf0c1\\nFeature\\nUse\\nCaveat\\nFiltering\\nFast, low-precision interpolation between texels\\nValid only if the texture reference returns floating-point data\\nNormalized texture coordinates\\nResolution-independent coding\\nNone\\nAddressing modes\\nAutomatic handling of boundary cases\\n1\\nCan be used only with normalized texture coordinates\\n1\\nThe automatic handling of boundary cases in the bottom row of\\nTable 4\\nrefers to how a texture coordinate is resolved when it falls outside the valid addressing range. There are two options:\\nclamp\\nand\\nwrap\\n. If\\nx\\nis the coordinate and\\nN\\nis the number of texels for a one-dimensional texture, then with clamp,\\nx\\nis replaced by\\n0\\nif\\nx\\n< 0 and by 1-1/\\nN\\nif 1\\n<\\nx\\n. With wrap,\\nx\\nis replaced by\\nfrac(x)\\nwhere\\nfrac(x) = x - floor(x)\\n. Floor returns the largest integer less than or equal to\\nx\\n. So, in clamp mode where\\nN\\n= 1, an\\nx\\nof 1.3 is clamped to 1.0; whereas in wrap mode, it is converted to 0.3\\nWithin a kernel call, the texture cache is not kept coherent with respect to global memory writes, so texture fetches from addresses that have been written via global stores in the same kernel call return undefined data. That is, a thread can safely read a memory location via texture if the location has been updated by a previous kernel call or memory copy, but not if it has been previously updated by the same thread or another thread within the same kernel call.\\nThere is a total of 64 KB constant memory on a device. The constant memory space is cached. As a result, a read from constant memory costs one memory read from device memory only on a cache miss; otherwise, it just costs one read from the constant cache. Accesses to different addresses by threads within a warp are serialized, thus the cost scales linearly with the number of unique addresses read by all threads within a warp. As such, the constant cache is best when threads in the same warp accesses only a few distinct locations. If all threads of a warp access the same location, then constant memory can be as fast as a register access.\\nGenerally, accessing a register consumes zero extra clock cycles per instruction, but delays may occur due to register read-after-write dependencies and register memory bank conflicts.\\nThe compiler and hardware thread scheduler will schedule instructions as optimally as possible to avoid register memory bank conflicts. An application has no direct control over these bank conflicts. In particular, there is no register-related reason to pack data into vector data types such as\\nfloat4\\nor\\nint4\\ntypes.\\n9.2.7.1.\\nRegister Pressure\\n\\uf0c1\\nRegister pressure occurs when there are not enough registers available for a given task. Even though each multiprocessor contains thousands of 32-bit registers (see Features and Technical Specifications of the CUDA C++ Programming Guide), these are partitioned among concurrent threads. To prevent the compiler from allocating too many registers, use the\\n-maxrregcount=N\\ncompiler command-line option (see\\nnvcc\\n) or the launch bounds kernel definition qualifier (see Execution Configuration of the CUDA C++ Programming Guide) to control the maximum number of registers to allocated per thread.\\nDevice memory allocation and de-allocation via\\ncudaMalloc()\\nand\\ncudaFree()\\nare expensive operations. It is recommended to use\\ncudaMallocAsync()\\nand\\ncudaFreeAsync()\\nwhich are stream ordered pool allocators to manage device memory.\\nSome recent Linux distributions enable automatic NUMA balancing (or “\\nAutoNUMA\\n”) by default. In some instances, operations performed by automatic NUMA balancing may degrade the performance of applications running on NVIDIA GPUs. For optimal performance, users should manually tune the NUMA characteristics of their application.\\nThe optimal NUMA tuning will depend on the characteristics and desired hardware affinities of each application and node, but in general applications computing on NVIDIA GPUs are advised to choose a policy that disables automatic NUMA balancing. For example, on IBM Newell POWER9 nodes (where the CPUs correspond to NUMA nodes 0 and 8), use:\\nnumactl --membind=0,8\\nto bind memory allocations to the CPUs.\\nOne of the keys to good performance is to keep the multiprocessors on the device as busy as possible. A device in which work is poorly balanced across the multiprocessors will deliver suboptimal performance. Hence, it’s important to design your application to use threads and blocks in a way that maximizes hardware utilization and to limit practices that impede the free distribution of work. A key concept in this effort is occupancy, which is explained in the following sections.\\nHardware utilization can also be improved in some cases by designing your application so that multiple, independent kernels can execute at the same time. Multiple kernels executing at the same time is known as concurrent kernel execution. Concurrent kernel execution is described below.\\nAnother important concept is the management of system resources allocated for a particular task. How to manage this resource utilization is discussed in the final sections of this chapter.\\nThread instructions are executed sequentially in CUDA, and, as a result, executing other warps when one warp is paused or stalled is the only way to hide latencies and keep the hardware busy. Some metric related to the number of active warps on a multiprocessor is therefore important in determining how effectively the hardware is kept busy. This metric is\\noccupancy\\n.\\nOccupancy is the ratio of the number of active warps per multiprocessor to the maximum number of possible active warps. (To determine the latter number, see the\\ndeviceQuery\\nCUDA Sample or refer to Compute Capabilities in the CUDA C++ Programming Guide.) Another way to view occupancy is the percentage of the hardware’s ability to process warps that is actively in use.\\nHigher occupancy does not always equate to higher performance-there is a point above which additional occupancy does not improve performance. However, low occupancy always interferes with the ability to hide memory latency, resulting in performance degradation.\\nPer thread resources required by a CUDA kernel might limit the maximum block size in an unwanted way. In order to maintain forward compatibility to future hardware and toolkits and to ensure that at least one thread block can run on an SM, developers should include the single argument\\n__launch_bounds__(maxThreadsPerBlock)\\nwhich specifies the largest block size that the kernel will be launched with. Failure to do so could lead to “too many resources requested for launch” errors. Providing the two argument version of\\n__launch_bounds__(maxThreadsPerBlock,minBlocksPerMultiprocessor)\\ncan improve performance in some cases. The right value for\\nminBlocksPerMultiprocessor\\nshould be determined using a detailed per kernel analysis.\\nOne of several factors that determine occupancy is register availability. Register storage enables threads to keep local variables nearby for low-latency access. However, the set of registers (known as the\\nregister file\\n) is a limited commodity that all threads resident on a multiprocessor must share. Registers are allocated to an entire block all at once. So, if each thread block uses many registers, the number of thread blocks that can be resident on a multiprocessor is reduced, thereby lowering the occupancy of the multiprocessor. The maximum number of registers per thread can be set manually at compilation time per-file using the\\n-maxrregcount\\noption or per-kernel using the\\n__launch_bounds__\\nqualifier (see\\nRegister Pressure\\n).\\nFor purposes of calculating occupancy, the number of registers used by each thread is one of the key factors. For example, on devices of\\ncompute capability\\n7.0 each multiprocessor has 65,536 32-bit registers and can have a maximum of 2048 simultaneous threads resident (64 warps x 32 threads per warp). This means that in one of these devices, for a multiprocessor to have 100% occupancy, each thread can use at most 32 registers. However, this approach of determining how register count affects occupancy does not take into account the register allocation granularity. For example, on a device of compute capability 7.0, a kernel with 128-thread blocks using 37 registers per thread results in an occupancy of 75% with 12 active 128-thread blocks per multi-processor, whereas a kernel with 320-thread blocks using the same 37 registers per thread results in an occupancy of 63% because only four 320-thread blocks can reside on a multiprocessor. Furthermore, register allocations are rounded up to the nearest 256 registers per warp.\\nThe number of registers available, the maximum number of simultaneous threads resident on each multiprocessor, and the register allocation granularity vary over different compute capabilities. Because of these nuances in register allocation and the fact that a multiprocessor’s shared memory is also partitioned between resident thread blocks, the exact relationship between register usage and occupancy can be difficult to determine. The\\n--ptxas\\noptions=v\\noption of\\nnvcc\\ndetails the number of registers used per thread for each kernel. See Hardware Multithreading of the CUDA C++ Programming Guide for the register allocation formulas for devices of various compute capabilities and Features and Technical Specifications of the CUDA C++ Programming Guide for the total number of registers available on those devices. Alternatively, NVIDIA provides an occupancy calculator in the form of an Excel spreadsheet that enables developers to hone in on the optimal balance and to test different possible scenarios more easily. This spreadsheet, shown in\\nFigure 15\\n, is called\\nCUDA_Occupancy_Calculator.xls\\nand is located in the tools subdirectory of the CUDA Toolkit installation.\\nUsing the CUDA Occupancy Calculator to project GPU multiprocessor occupancy\\n\\uf0c1\\nIn addition to the calculator spreadsheet, occupancy can be determined using the NVIDIA Nsight Compute Profiler. Details about occupancy are displayed in the Occupancy section.\\nAn application can also use the Occupancy API from the CUDA Runtime, e.g.\\ncudaOccupancyMaxActiveBlocksPerMultiprocessor\\n, to dynamically select launch configurations based on runtime parameters.\\nNote\\nMedium Priority:\\nTo hide latency arising from register dependencies, maintain sufficient numbers of active threads per multiprocessor (i.e., sufficient occupancy).\\nRegister dependencies arise when an instruction uses a result stored in a register written by an instruction before it. The latency of most arithmetic instructions is typically 4 cycles on devices of compute capability 7.0. So threads must wait approximatly 4 cycles before using an arithmetic result. However, this latency can be completely hidden by the execution of threads in other warps. See\\nRegisters\\nfor details.\\nNote\\nMedium Priority:\\nThe number of threads per block should be a multiple of 32 threads, because this provides optimal computing efficiency and facilitates coalescing.\\nThe dimension and size of blocks per grid and the dimension and size of threads per block are both important factors. The multidimensional aspect of these parameters allows easier mapping of multidimensional problems to CUDA and does not play a role in performance. As a result, this section discusses size but not dimension.\\nLatency hiding and occupancy depend on the number of active warps per multiprocessor, which is implicitly determined by the execution parameters along with resource (register and shared memory) constraints. Choosing execution parameters is a matter of striking a balance between latency hiding (occupancy) and resource utilization.\\nChoosing the execution configuration parameters should be done in tandem; however, there are certain heuristics that apply to each parameter individually. When choosing the first execution configuration parameter-the number of blocks per grid, or\\ngrid size\\n- the primary concern is keeping the entire GPU busy. The number of blocks in a grid should be larger than the number of multiprocessors so that all multiprocessors have at least one block to execute. Furthermore, there should be multiple active blocks per multiprocessor so that blocks that aren’t waiting for a\\n__syncthreads()\\ncan keep the hardware busy. This recommendation is subject to resource availability; therefore, it should be determined in the context of the second execution parameter - the number of threads per block, or\\nblock size\\n- as well as shared memory usage. To scale to future devices, the number of blocks per kernel launch should be in the thousands.\\nWhen choosing the block size, it is important to remember that multiple concurrent blocks can reside on a multiprocessor, so occupancy is not determined by block size alone. In particular, a larger block size does not imply a higher occupancy.\\nAs mentioned in\\nOccupancy\\n, higher occupancy does not always equate to better performance. For example, improving occupancy from 66 percent to 100 percent generally does not translate to a similar increase in performance. A lower occupancy kernel will have more registers available per thread than a higher occupancy kernel, which may result in less register spilling to local memory; in particular, with a high degree of exposed instruction-level parallelism (ILP) it is, in some cases, possible to fully cover latency with a low occupancy.\\nThere are many such factors involved in selecting block size, and inevitably some experimentation is required. However, a few rules of thumb should be followed:\\nThreads per block should be a multiple of warp size to avoid wasting computation on under-populated warps and to facilitate coalescing.\\nA minimum of 64 threads per block should be used, and only if there are multiple concurrent blocks per multiprocessor.\\nBetween 128 and 256 threads per block is a good initial range for experimentation with different block sizes.\\nUse several smaller thread blocks rather than one large thread block per multiprocessor if latency affects performance. This is particularly beneficial to kernels that frequently call\\n__syncthreads()\\n.\\nNote that when a thread block allocates more registers than are available on a multiprocessor, the kernel launch fails, as it will when too much shared memory or too many threads are requested.\\nShared memory can be helpful in several situations, such as helping to coalesce or eliminate redundant access to global memory. However, it also can act as a constraint on occupancy. In many cases, the amount of shared memory required by a kernel is related to the block size that was chosen, but the mapping of threads to shared memory elements does not need to be one-to-one. For example, it may be desirable to use a 64x64 element shared memory array in a kernel, but because the maximum number of threads per block is 1024, it is not possible to launch a kernel with 64x64 threads per block. In such cases, kernels with 32x32 or 64x16 threads can be launched with each thread processing four elements of the shared memory array. The approach of using a single thread to process multiple elements of a shared memory array can be beneficial even if limits such as threads per block are not an issue. This is because some operations common to each element can be performed by the thread once, amortizing the cost over the number of shared memory elements processed by the thread.\\nA useful technique to determine the sensitivity of performance to occupancy is through experimentation with the amount of dynamically allocated shared memory, as specified in the third parameter of the execution configuration. By simply increasing this parameter (without modifying the kernel), it is possible to effectively reduce the occupancy of the kernel and measure its effect on performance.\\nAs described in\\nAsynchronous and Overlapping Transfers with Computation\\n, CUDA streams can be used to overlap kernel execution with data transfers. On devices that are capable of concurrent kernel execution, streams can also be used to execute multiple kernels simultaneously to more fully take advantage of the device’s multiprocessors. Whether a device has this capability is indicated by the\\nconcurrentKernels\\nfield of the\\ncudaDeviceProp\\nstructure (or listed in the output of the\\ndeviceQuery\\nCUDA Sample). Non-default streams (streams other than stream 0) are required for concurrent execution because kernel calls that use the default stream begin only after all preceding calls on the device (in any stream) have completed, and no operation on the device (in any stream) commences until they are finished.\\nThe following example illustrates the basic technique. Because\\nkernel1\\nand\\nkernel2\\nare executed in different, non-default streams, a capable device can execute the kernels at the same time.\\ncudaStreamCreate\\n(\\n&\\nstream1\\n);\\ncudaStreamCreate\\n(\\n&\\nstream2\\n);\\nkernel1\\n<<<\\ngrid\\n,\\nblock\\n,\\n0\\n,\\nstream1\\n>>>\\n(\\ndata_1\\n);\\nkernel2\\n<<<\\ngrid\\n,\\nblock\\n,\\n0\\n,\\nstream2\\n>>>\\n(\\ndata_2\\n);\\nCUDA work occurs within a process space for a particular GPU known as a\\ncontext\\n. The context encapsulates kernel launches and memory allocations for that GPU as well as supporting constructs such as the page tables. The context is explicit in the CUDA Driver API but is entirely implicit in the CUDA Runtime API, which creates and manages contexts automatically.\\nWith the CUDA Driver API, a CUDA application process can potentially create more than one context for a given GPU. If multiple CUDA application processes access the same GPU concurrently, this almost always implies multiple contexts, since a context is tied to a particular host process unless\\nMulti-Process Service\\nis in use.\\nWhile multiple contexts (and their associated resources such as global memory allocations) can be allocated concurrently on a given GPU, only one of these contexts can execute work at any given moment on that GPU; contexts sharing the same GPU are time-sliced. Creating additional contexts incurs memory overhead for per-context data and time overhead for context switching. Furthermore, the need for context switching can reduce utilization when work from several contexts could otherwise execute concurrently (see also\\nConcurrent Kernel Execution\\n).\\nTherefore, it is best to avoid multiple contexts per GPU within the same CUDA application. To assist with this, the CUDA Driver API provides methods to access and manage a special context on each GPU called the\\nprimary context\\n. These are the same contexts used implicitly by the CUDA Runtime when there is not already a current context for a thread.\\n// When initializing the program/library\\nCUcontext\\nctx\\n;\\ncuDevicePrimaryCtxRetain\\n(\\n&\\nctx\\n,\\ndev\\n);\\n// When the program/library launches work\\ncuCtxPushCurrent\\n(\\nctx\\n);\\nkernel\\n<<<\\n...\\n>>>\\n(...);\\ncuCtxPopCurrent\\n(\\n&\\nctx\\n);\\n// When the program/library is finished with the context\\ncuDevicePrimaryCtxRelease\\n(\\ndev\\n);\\nNote\\nNVIDIA-SMI can be used to configure a GPU for\\nexclusive process mode\\n, which limits the number of contexts per GPU to one. This context can be current to as many threads as desired within the creating process, and\\ncuDevicePrimaryCtxRetain\\nwill fail if a non-primary context that was created with the CUDA driver API already exists on the device.\\nAwareness of how instructions are executed often permits low-level optimizations that can be useful, especially in code that is run frequently (the so-called hot spot in a program). Best practices suggest that this optimization be performed after all higher-level optimizations have been completed.\\nSingle-precision floats provide the best performance, and their use is highly encouraged. The throughput of individual arithmetic operations is detailed in the CUDA C++ Programming Guide.\\nNote\\nLow Priority:\\nUse shift operations to avoid expensive division and modulo calculations.\\nInteger division and modulo operations are particularly costly and should be avoided or replaced with bitwise operations whenever possible: If\\n\\\\(n\\\\)\\nis a power of 2, (\\n\\\\(i/n\\\\)\\n) is equivalent to (\\n\\\\(i \\\\gg {log2}(n)\\\\)\\n) and (\\n\\\\(i\\\\% n\\\\)\\n) is equivalent to (\\n\\\\(i\\\\&\\\\left( {n - 1} \\\\right)\\\\)\\n).\\nThe compiler will perform these conversions if n is literal. (For further information, refer to Performance Guidelines in the CUDA C++ Programming Guide).\\nNote\\nLow Medium Priority:\\nUse signed integers rather than unsigned integers as loop counters.\\nIn the C language standard, unsigned integer overflow semantics are well defined, whereas signed integer overflow causes undefined results. Therefore, the compiler can optimize more aggressively with signed arithmetic than it can with unsigned arithmetic. This is of particular note with loop counters: since it is common for loop counters to have values that are always positive, it may be tempting to declare the counters as unsigned. For slightly better performance, however, they should instead be declared as signed.\\nFor example, consider the following code:\\nfor\\n(\\ni\\n=\\n0\\n;\\ni\\n<\\nn\\n;\\ni\\n++\\n)\\n{\\nout\\n[\\ni\\n]\\n=\\nin\\n[\\noffset\\n+\\nstride\\n*\\ni\\n];\\n}\\nHere, the sub-expression\\nstride*i\\ncould overflow a 32-bit integer, so if\\ni\\nis declared as unsigned, the overflow semantics prevent the compiler from using some optimizations that might otherwise have applied, such as strength reduction. If instead\\ni\\nis declared as signed, where the overflow semantics are undefined, the compiler has more leeway to use these optimizations.\\nThe reciprocal square root should always be invoked explicitly as\\nrsqrtf()\\nfor single precision and\\nrsqrt()\\nfor double precision. The compiler optimizes\\n1.0f/sqrtf(x)\\ninto\\nrsqrtf()\\nonly when this does not violate IEEE-754 semantics.\\nNote\\nLow Priority:\\nAvoid automatic conversion of doubles to floats.\\nThe compiler must on occasion insert conversion instructions, introducing additional execution cycles. This is the case for:\\nFunctions operating on\\nchar\\nor\\nshort\\nwhose operands generally need to be converted to an\\nint\\nDouble-precision floating-point constants (defined without any type suffix) used as input to single-precision floating-point computations\\nThe latter case can be avoided by using single-precision floating-point constants, defined with an\\nf\\nsuffix such as\\n3.141592653589793f\\n,\\n1.0f\\n,\\n0.5f\\n.\\nFor single-precision code, use of the float type and the single-precision math functions are highly recommended.\\nIt should also be noted that the CUDA math library’s complementary error function,\\nerfcf()\\n, is particularly fast with full single-precision accuracy.\\nFor some fractional exponents, exponentiation can be accelerated significantly compared to the use of\\npow()\\nby using square roots, cube roots, and their inverses. For those exponentiations where the exponent is not exactly representable as a floating-point number, such as 1/3, this can also provide much more accurate results, as use of\\npow()\\nmagnifies the initial representational error.\\nThe formulas in the table below are valid for\\nx\\n>=\\n0,\\nx\\n!=\\n-0\\n, that is,\\nsignbit(x)\\n==\\n0\\n.\\nTable 5. Formulae for exponentiation by small fractions\\n\\uf0c1\\nComputation\\nFormula\\nx\\n1/9\\nr\\n=\\nrcbrt(rcbrt(x))\\nx\\n-1/9\\nr\\n=\\ncbrt(rcbrt(x))\\nx\\n1/6\\nr\\n=\\nrcbrt(rsqrt(x))\\nx\\n-1/6\\nr\\n=\\nrcbrt(sqrt(x))\\nx\\n1/4\\nr\\n=\\nrsqrt(rsqrt(x))\\nx\\n-1/4\\nr\\n=\\nsqrt(rsqrt(x))\\nx\\n1/3\\nr\\n=\\ncbrt(x)\\nx\\n-1/3\\nr\\n=\\nrcbrt(x)\\nx\\n1/2\\nr\\n=\\nsqrt(x)\\nx\\n-1/2\\nr\\n=\\nrsqrt(x)\\nx\\n2/3\\nr\\n=\\ncbrt(x);\\nr\\n=\\nr*r\\nx\\n-2/3\\nr\\n=\\nrcbrt(x);\\nr\\n=\\nr*r\\nx\\n3/4\\nr\\n=\\nsqrt(x);\\nr\\n=\\nr*sqrt(r)\\nx\\n-3/4\\nr\\n=\\nrsqrt(x);\\nr\\n=\\nr*sqrt(r)\\nx\\n7/6\\nr\\n=\\nx*rcbrt(rsqrt(x))\\nx\\n-7/6\\nr\\n=\\n(1/x)\\n*\\nrcbrt(sqrt(x))\\nx\\n5/4\\nr\\n=\\nx*rsqrt(rsqrt(x))\\nx\\n-5/4\\nr\\n=\\n(1/x)*sqrt(rsqrt(x))\\nx\\n4/3\\nr\\n=\\nx*cbrt(x)\\nx\\n-4/3\\nr\\n=\\n(1/x)*rcbrt(x)\\nx\\n3/2\\nr\\n=\\nx*sqrt(x)\\nx\\n-3/2\\nr\\n=\\n(1/x)*rsqrt(x)\\nNote\\nMedium Priority:\\nUse the fast math library whenever speed trumps precision.\\nTwo types of runtime math operations are supported. They can be distinguished by their names: some have names with prepended underscores, whereas others do not (e.g.,\\n__functionName()\\nversus\\nfunctionName()\\n). Functions following the\\n__functionName()\\nnaming convention map directly to the hardware level. They are faster but provide somewhat lower accuracy (e.g.,\\n__sinf(x)\\nand\\n__expf(x)\\n). Functions following\\nfunctionName()\\nnaming convention are slower but have higher accuracy (e.g.,\\nsinf(x)\\nand\\nexpf(x)\\n). The throughput of\\n__sinf(x)\\n,\\n__cosf(x)\\n, and\\n__expf(x)\\nis much greater than that of\\nsinf(x)\\n,\\ncosf(x)\\n, and\\nexpf(x)\\n. The latter become even more expensive (about an order of magnitude slower) if the magnitude of the argument\\nx\\nneeds to be reduced. Moreover, in such cases, the argument-reduction code uses local memory, which can affect performance even more because of the high latency of local memory. More details are available in the\\nCUDA C++ Programming Guide\\n.\\nNote also that whenever sine and cosine of the same argument are computed, the\\nsincos\\nfamily of instructions should be used to optimize performance:\\n__sincosf()\\nfor single-precision fast math (see next paragraph)\\nsincosf()\\nfor regular single-precision\\nsincos()\\nfor double precision\\nThe\\n-use_fast_math\\ncompiler option of\\nnvcc\\ncoerces every\\nfunctionName()\\ncall to the equivalent\\n__functionName()\\ncall. It also disables single-precision denormal support and lowers the precision of single-precision division in general. This is an aggressive optimization that can both reduce numerical accuracy and alter special case handling. A more robust approach is to selectively introduce calls to fast intrinsic functions only if merited by performance gains and where altered behavior can be tolerated. Note this switch is effective only on single-precision floating point.\\nNote\\nMedium Priority:\\nPrefer faster, more specialized math functions over slower, more general ones when possible.\\nFor small integer powers (e.g.,\\nx2\\nor\\nx3\\n), explicit multiplication is almost certainly faster than the use of general exponentiation routines such as\\npow()\\n. While compiler optimization improvements continually seek to narrow this gap, explicit multiplication (or the use of an equivalent purpose-built inline function or macro) can have a significant advantage. This advantage is increased when several powers of the same base are needed (e.g., where both\\nx2\\nand\\nx5\\nare calculated in close proximity), as this aids the compiler in its common sub-expression elimination (CSE) optimization.\\nFor exponentiation using base 2 or 10, use the functions\\nexp2()\\nor\\nexpf2()\\nand\\nexp10()\\nor\\nexpf10()\\nrather than the functions\\npow()\\nor\\npowf()\\n. Both\\npow()\\nand\\npowf()\\nare heavy-weight functions in terms of register pressure and instruction count due to the numerous special cases arising in general exponentiation and the difficulty of achieving good accuracy across the entire ranges of the base and the exponent. The functions\\nexp2()\\n,\\nexp2f()\\n,\\nexp10()\\n, and\\nexp10f()\\n, on the other hand, are similar to\\nexp()\\nand\\nexpf()\\nin terms of performance, and can be as much as ten times faster than their\\npow()\\n/\\npowf()\\nequivalents.\\nFor exponentiation with an exponent of 1/3, use the\\ncbrt()\\nor\\ncbrtf()\\nfunction rather than the generic exponentiation functions\\npow()\\nor\\npowf()\\n, as the former are significantly faster than the latter. Likewise, for exponentation with an exponent of -1/3, use\\nrcbrt()\\nor\\nrcbrtf()\\n.\\nReplace\\nsin(π*<expr>)\\nwith\\nsinpi(<expr>)\\n,\\ncos(π*<expr>)\\nwith\\ncospi(<expr>)\\n, and\\nsincos(π*<expr>)\\nwith\\nsincospi(<expr>)\\n. This is advantageous with regard to both accuracy and performance. As a particular example, to evaluate the sine function in degrees instead of radians, use\\nsinpi(x/180.0)\\n. Similarly, the single-precision functions\\nsinpif()\\n,\\ncospif()\\n, and\\nsincospif()\\nshould replace calls to\\nsinf()\\n,\\ncosf()\\n, and\\nsincosf()\\nwhen the function argument is of the form\\nπ*<expr>\\n. (The performance advantage\\nsinpi()\\nhas over\\nsin()\\nis due to simplified argument reduction; the accuracy advantage is because\\nsinpi()\\nmultiplies by\\nπ\\nonly implicitly, effectively using an infinitely precise mathematical\\nπ\\nrather than a single- or double-precision approximation thereof.)\\nBy default, the\\nnvcc\\ncompiler generates IEEE-compliant code, but it also provides options to generate code that somewhat less accurate but faster:\\n-ftz=true\\n(denormalized numbers are flushed to zero)\\n-prec-div=false\\n(less precise division)\\n-prec-sqrt=false\\n(less precise square root)\\nAnother, more aggressive, option is\\n-use_fast_math\\n, which coerces every\\nfunctionName()\\ncall to the equivalent\\n__functionName()\\ncall. This makes the code run faster at the cost of diminished precision and accuracy. See\\nMath Libraries\\n.\\nNote\\nHigh Priority:\\nMinimize the use of global memory. Prefer shared memory access where possible.\\nMemory instructions include any instruction that reads from or writes to shared, local, or global memory. When accessing uncached local or global memory, there are hundreds of clock cycles of memory latency.\\nAs an example, the assignment operator in the following sample code has a high throughput, but, crucially, there is a latency of hundreds of clock cycles to read data from global memory:\\n__shared__\\nfloat\\nshared\\n[\\n32\\n];\\n__device__\\nfloat\\ndevice\\n[\\n32\\n];\\nshared\\n[\\nthreadIdx\\n.\\nx\\n]\\n=\\ndevice\\n[\\nthreadIdx\\n.\\nx\\n];\\nMuch of this global memory latency can be hidden by the thread scheduler if there are sufficient independent arithmetic instructions that can be issued while waiting for the global memory access to complete. However, it is best to avoid accessing global memory whenever possible.\\nNote\\nHigh Priority:\\nAvoid different execution paths within the same warp.\\nFlow control instructions (\\nif\\n,\\nswitch\\n,\\ndo\\n,\\nfor\\n,\\nwhile\\n) can significantly affect the instruction throughput by causing threads of the same warp to diverge; that is, to follow different execution paths. If this happens, the different execution paths must be executed separately; this increases the total number of instructions executed for this warp.\\nTo obtain best performance in cases where the control flow depends on the thread ID, the controlling condition should be written so as to minimize the number of divergent warps.\\nThis is possible because the distribution of the warps across the block is deterministic as mentioned in SIMT Architecture of the CUDA C++ Programming Guide. A trivial example is when the controlling condition depends only on (\\nthreadIdx\\n/\\nWSIZE\\n) where\\nWSIZE\\nis the warp size.\\nIn this case, no warp diverges because the controlling condition is perfectly aligned with the warps.\\nFor branches including just a few instructions, warp divergence generally results in marginal performance losses. For example, the compiler may use predication to avoid an actual branch. Instead, all instructions are scheduled, but a per-thread condition code or predicate controls which threads execute the instructions. Threads with a false predicate do not write results, and also do not evaluate addresses or read operands.\\nStarting with the Volta architecture, Independent Thread Scheduling allows a warp to remain diverged outside of the data-dependent conditional block. An explicit\\n__syncwarp()\\ncan be used to guarantee that the warp has reconverged for subsequent instructions.\\nNote\\nLow Priority:\\nMake it easy for the compiler to use branch predication in lieu of loops or control statements.\\nSometimes, the compiler may unroll loops or optimize out\\nif\\nor\\nswitch\\nstatements by using branch predication instead. In these cases, no warp can ever diverge. The programmer can also control loop unrolling using\\n#pragma unroll\\nFor more information on this pragma, refer to the CUDA C++ Programming Guide.\\nWhen using branch predication, none of the instructions whose execution depends on the controlling condition is skipped. Instead, each such instruction is associated with a per-thread condition code or predicate that is set to true or false according to the controlling condition. Although each of these instructions is scheduled for execution, only the instructions with a true predicate are actually executed. Instructions with a false predicate do not write results, and they also do not evaluate addresses or read operands.\\nThe compiler replaces a branch instruction with predicated instructions only if the number of instructions controlled by the branch condition is less than or equal to a certain threshold.\\nHaving completed the GPU acceleration of one or more components of the application it is possible to compare the outcome with the original expectation. Recall that the initial\\nassess\\nstep allowed the developer to determine an upper bound for the potential speedup attainable by accelerating given hotspots.\\nBefore tackling other hotspots to improve the total speedup, the developer should consider taking the partially parallelized implementation and carry it through to production. This is important for a number of reasons; for example, it allows the user to profit from their investment as early as possible (the speedup may be partial but is still valuable), and it minimizes risk for the developer and the user by providing an evolutionary rather than revolutionary set of changes to the application.\\nWith each generation of NVIDIA processors, new features are added to the GPU that CUDA can leverage. Consequently, it’s important to understand the characteristics of the architecture.\\nProgrammers should be aware of two version numbers. The first is the\\ncompute capability\\n, and the second is the version number of the CUDA Runtime and CUDA Driver APIs.\\nThe\\ncompute capability\\ndescribes the features of the hardware and reflects the set of instructions supported by the device as well as other specifications, such as the maximum number of threads per block and the number of registers per multiprocessor. Higher compute capability versions are supersets of lower (that is, earlier) versions, so they are backward compatible.\\nThe compute capability of the GPU in the device can be queried programmatically as illustrated in the\\ndeviceQuery\\nCUDA Sample. The output for that program is shown in\\nFigure 16\\n. This information is obtained by calling\\ncudaGetDeviceProperties()\\nand accessing the information in the structure it returns.\\nSample CUDA configuration data reported by deviceQuery\\n\\uf0c1\\nThe major and minor revision numbers of the compute capability are shown on the seventh line of\\nFigure 16\\n. Device 0 of this system has compute capability 7.0.\\nMore details about the compute capabilities of various GPUs are in CUDA-Enabled GPUs and Compute Capabilities of the CUDA C++ Programming Guide. In particular, developers should note the number of multiprocessors on the device, the number of registers and the amount of memory available, and any special capabilities of the device.\\nCertain hardware features are not described by the compute capability. For example, the ability to overlap kernel execution with asynchronous data transfers between the host and the device is available on most but not all GPUs irrespective of the compute capability. In such cases, call\\ncudaGetDeviceProperties()\\nto determine whether the device is capable of a certain feature. For example, the\\nasyncEngineCount\\nfield of the device property structure indicates whether overlapping kernel execution and data transfers is possible (and, if so, how many concurrent transfers are possible); likewise, the\\ncanMapHostMemory\\nfield indicates whether zero-copy data transfers can be performed.\\nTo target specific versions of NVIDIA hardware and CUDA software, use the\\n-arch\\n,\\n-code\\n, and\\n-gencode\\noptions of\\nnvcc\\n. Code that uses the warp shuffle operation, for example, must be compiled with\\n-arch=sm_30\\n(or higher compute capability).\\nSee\\nBuilding for Maximum Compatibility\\nfor further discussion of the flags used for building code for multiple generations of CUDA-capable device simultaneously.\\nThe host runtime component of the CUDA software environment can be used only by host functions. It provides functions to handle the following:\\nDevice management\\nContext management\\nMemory management\\nCode module management\\nExecution control\\nTexture reference management\\nInteroperability with OpenGL and Direct3D\\nAs compared to the lower-level CUDA Driver API, the CUDA Runtime greatly eases device management by providing implicit initialization, context management, and device code module management. The C++ host code generated by\\nnvcc\\nutilizes the CUDA Runtime, so applications that link to this code will depend on the CUDA Runtime; similarly, any code that uses the\\ncuBLAS\\n,\\ncuFFT\\n, and other CUDA Toolkit libraries will also depend on the CUDA Runtime, which is used internally by these libraries.\\nThe functions that make up the CUDA Runtime API are explained in the CUDA Toolkit Reference Manual.\\nThe CUDA Runtime handles kernel loading and setting up kernel parameters and launch configuration before the kernel is launched. The implicit driver version checking, code initialization, CUDA context management, CUDA module management (cubin to function mapping), kernel configuration, and parameter passing are all performed by the CUDA Runtime.\\nIt comprises two principal parts:\\nA C-style function interface (\\ncuda_runtime_api.h\\n).\\nC++-style convenience wrappers (\\ncuda_runtime.h\\n) built on top of the C-style functions.\\nFor more information on the Runtime API, refer to CUDA Runtime of the CUDA C++ Programming Guide.\\nCUDA Toolkit is released on a monthly release cadence to deliver new features, performance improvements, and critical bug fixes. CUDA compatibility allows users to update the latest CUDA Toolkit software (including the compiler, libraries, and tools) without requiring update to the entire driver stack.\\nThe CUDA software environment consists of three parts:\\nCUDA Toolkit (libraries, CUDA runtime and developer tools) - SDK for developers to build CUDA applications.\\nCUDA driver - User-mode driver component used to run CUDA applications (e.g. libcuda.so on Linux systems).\\nNVIDIA GPU device driver - Kernel-mode driver component for NVIDIA GPUs.\\nOn Linux systems, the CUDA driver and kernel mode components are delivered together in the NVIDIA display driver package. This is shown in Figure 1.\\nComponents of CUDA\\n\\uf0c1\\nThe CUDA compiler (nvcc), provides a way to handle CUDA and non-CUDA code (by splitting and steering compilation), along with the CUDA runtime, is part of the CUDA compiler toolchain. The CUDA Runtime API provides developers with high-level C++ interface for simplified management of devices, kernel executions etc., While the CUDA driver API provides (\\nCUDA Driver API\\n) a low-level programming interface for applications to target NVIDIA hardware.\\nBuilt on top of these technologies are CUDA libraries, some of which are included in the CUDA Toolkit, while others such as cuDNN may be released independently of the CUDA Toolkit.\\nStarting with CUDA 11, the toolkit versions are based on an industry-standard semantic versioning scheme: .X.Y.Z, where:\\n.X stands for the major version - APIs have changed and binary compatibility is broken.\\n.Y stands for the minor version - Introduction of new APIs, deprecation of old APIs, and source compatibility might be broken but binary compatibility is maintained.\\n.Z stands for the release/patch version - new updates and patches will increment this.\\nEach component in the toolkit is recommended to be semantically versioned. From CUDA 11.3 NVRTC is also semantically versioned. We will note some of them later on in the document. The versions of the components in the toolkit are available in this\\ntable\\n.\\nCompatibility of the CUDA platform is thus intended to address a few scenarios:\\nNVIDIA driver upgrades to systems with GPUs running in production for enterprises or datacenters can be complex and may need advance planning. Delays in rolling out new NVIDIA drivers could mean that users of such systems may not have access to new features available in CUDA releases. Not requiring driver updates for new CUDA releases can mean that new versions of the software can be made available faster to users.\\nMany software libraries and applications built on top of CUDA (e.g. math libraries or deep learning frameworks) do not have a direct dependency on the CUDA runtime, compiler or driver. In such cases, users or developers can still benefit from not having to upgrade the entire CUDA Toolkit or driver to use these libraries or frameworks.\\nUpgrading dependencies is error-prone and time consuming, and in some corner cases, can even change the semantics of a program. Constantly recompiling with the latest CUDA Toolkit means forcing upgrades on the end-customers of an application product. Package managers facilitate this process but unexpected issues can still arise and if a bug is found, it necessitates a repeat of the above upgrade process.\\nCUDA supports several compatibility choices:\\nFirst introduced in CUDA 10, the\\nCUDA Forward Compatible Upgrade\\nis designed to allow users to get access to new CUDA features and run applications built with new CUDA releases on systems with older installations of the NVIDIA datacenter driver.\\nFirst introduced in CUDA 11.1,\\nCUDA Enhanced Compatibility\\nprovides two benefits:\\nBy leveraging semantic versioning across components in the CUDA Toolkit, an application can be built for one CUDA minor release (for example 11.1) and work across all future minor releases within the major family (i.e. 11.x).\\nThe CUDA runtime has relaxed the minimum driver version check and thus no longer requires a driver upgrade when moving to a new minor release.\\nThe CUDA driver ensures backward Binary Compatibility is maintained for compiled CUDA applications. Applications compiled with CUDA toolkit versions as old as 3.2 will run on newer drivers.\\nWe define source compatibility as a set of guarantees provided by the library, where a well-formed application built against a specific version of the library (using the SDK) will continue to build and run without errors when a newer version of the SDK is installed.\\nBoth the CUDA driver and the CUDA runtime are not source compatible across the different SDK releases. APIs can be deprecated and removed. Therefore, an application that compiled successfully on an older version of the toolkit may require changes in order to compile against a newer version of the toolkit.\\nDevelopers are notified through deprecation and documentation mechanisms of any current or upcoming changes. This does not mean that application binaries compiled using an older toolkit will not be supported anymore. Application binaries rely on CUDA Driver API interface and even though the CUDA Driver API itself may also have changed across toolkit versions, CUDA guarantees Binary Compatibility of the CUDA Driver API interface.\\nWe define binary compatibility as a set of guarantees provided by the library, where an application targeting the said library will continue to work when dynamically linked against a different version of the library.\\nThe CUDA Driver API has a versioned C-style ABI, which guarantees that applications that were running against an older driver (for example CUDA 3.2) will still run and function correctly against a modern driver (for example one shipped with CUDA 11.0). This means that even though an application source might need to be changed if it has to be recompiled against a newer CUDA Toolkit in order to use the newer features, replacing the driver components installed in a system with a newer version will always support existing applications and its functions.\\nThe CUDA Driver API thus is binary-compatible (the OS loader can pick up a newer version and the application continues to work) but not source-compatible (rebuilding your application against a newer SDK might require source changes).\\nCUDA Toolkit and Minimum Driver Versions\\n\\uf0c1\\nBefore we proceed further on this topic, it’s important for developers to understand the concept of Minimum Driver Version and how that may affect them.\\nEach version of the CUDA Toolkit (and runtime) requires a minimum version of the NVIDIA driver. Applications compiled against a CUDA Toolkit version will only run on systems with the specified minimum driver version for that toolkit version. Prior to CUDA 11.0, the minimum driver version for a toolkit was the same as the driver shipped with that version of the CUDA Toolkit.\\nSo, when an application is built with CUDA 11.0, it can only run on a system with an R450 or later driver. If such an application is run on a system with the R418 driver installed, CUDA initialization will return an error as can be seen in the example below.\\nIn this example, the deviceQuery sample is compiled with CUDA 11.1 and is run on a system with R418. In this scenario, CUDA initialization returns an error due to the minimum driver requirement.\\nubuntu@:~/samples/1_Utilities/deviceQuery\\n$ make\\n/usr/local/cuda-11.1/bin/nvcc -ccbin g++ -I../../common/inc  -m64    -gencode arch=compute_35,code=sm_35 -gencode arch=compute_37,code=sm_37 -gencode arch=compute_50,code=sm_50 -gencode arch=compute_52,code=sm_52 -gencode arch=compute_60,code=sm_60 -gencode arch=compute_61,code=sm_61 -gencode arch=compute_70,code=sm_70 -gencode arch=compute_75,code=sm_75 -gencode arch=compute_80,code=sm_80 -gencode arch=compute_86,code=sm_86 -gencode arch=compute_86,code=compute_86 -o deviceQuery.o -c deviceQuery.cpp\\n\\n/usr/local/cuda-11.1/bin/nvcc -ccbin g++   -m64      -gencode arch=compute_35,code=sm_35 -gencode arch=compute_37,code=sm_37 -gencode arch=compute_50,code=sm_50 -gencode arch=compute_52,code=sm_52 -gencode arch=compute_60,code=sm_60 -gencode arch=compute_61,code=sm_61 -gencode arch=compute_70,code=sm_70 -gencode arch=compute_75,code=sm_75 -gencode arch=compute_80,code=sm_80 -gencode arch=compute_86,code=sm_86 -gencode arch=compute_86,code=compute_86 -o deviceQuery deviceQuery.o\\n\\n$ nvidia-smi\\n\\n+-----------------------------------------------------------------------------+\\n| NVIDIA-SMI 418.165.02   Driver Version: 418.165.02   CUDA Version: 10.1     |\\n|-------------------------------+----------------------+----------------------+\\n| GPU  Name        Persistence-M| Bus-Id        Disp.A | Volatile Uncorr. ECC |\\n| Fan  Temp  Perf  Pwr:Usage/Cap|         Memory-Usage | GPU-Util  Compute M. |\\n|===============================+======================+======================|\\n|   0  Tesla T4            On   | 00000000:00:1E.0 Off |                    0 |\\n| N/A   42C    P0    28W /  70W |      0MiB / 15079MiB |      0%      Default |\\n+-------------------------------+----------------------+----------------------+\\n\\n+-----------------------------------------------------------------------------+\\n| Processes:                                                       GPU Memory |\\n|  GPU       PID   Type   Process name                             Usage      |\\n|=============================================================================|\\n|  No running processes found                                                 |\\n+-----------------------------------------------------------------------------+\\n\\n\\n$ samples/bin/x86_64/linux/release/deviceQuery\\nsamples/bin/x86_64/linux/release/deviceQuery Starting...\\n\\n CUDA Device Query (Runtime API) version (CUDART static linking)\\n\\ncudaGetDeviceCount returned 3\\n-> initialization error\\nResult = FAIL\\nRefer to the\\nCUDA Toolkit Release Notes\\nfor details for the minimum driver version and the version of the driver shipped with the toolkit.\\nA slightly related but important topic is one of application binary compatibility across GPU architectures in CUDA.\\nCUDA C++ provides a simple path for users familiar with the C++ programming language to easily write programs for execution by the device. Kernels can be written using the CUDA instruction set architecture, called PTX, which is described in the PTX reference manual. It is however usually more effective to use a high-level programming language such as C++. In both cases, kernels must be compiled into binary code by nvcc (called cubins) to execute on the device.\\nThe cubins are architecture-specific. Binary compatibility for cubins is guaranteed from one compute capability minor revision to the next one, but not from one compute capability minor revision to the previous one or across major compute capability revisions. In other words, a cubin object generated for compute capability\\nX.y\\nwill only execute on devices of compute capability\\nX.z\\nwhere\\nz≥y\\n.\\nTo execute code on devices of specific compute capability, an application must load binary or PTX code that is compatible with this compute capability. For portability, that is, to be able to execute code on future GPU architectures with higher compute capability (for which no binary code can be generated yet), an application must load PTX code that will be just-in-time compiled by the NVIDIA driver for these future devices.\\nMore information on cubins, PTX and application compatibility can be found in the\\nCUDA C++ Programming Guide\\n.\\nBy leveraging the semantic versioning, starting with CUDA 11, components in the CUDA Toolkit will remain binary compatible across the minor versions of the toolkit. In order to maintain binary compatibility across minor versions, the CUDA runtime no longer bumps up the minimum driver version required for every minor release - this only happens when a major release is shipped.\\nOne of the main reasons a new toolchain requires a new minimum driver is to handle the JIT compilation of PTX code and the JIT linking of binary code.\\nIn this section, we will review the usage patterns that may require new user workflows when taking advantage of the compatibility features of the CUDA platform.\\n$\\nnvidia\\n-\\nsmi\\n+-----------------------------------------------------------------------------+\\n|\\nNVIDIA\\n-\\nSMI\\n450.80.02\\nDriver\\nVersion\\n:\\n450.80.02\\nCUDA\\nVersion\\n:\\n11.0\\n|\\n|-------------------------------+----------------------+----------------------+\\n|\\nGPU\\nName\\nPersistence\\n-\\nM\\n|\\nBus\\n-\\nId\\nDisp\\n.\\nA\\n|\\nVolatile\\nUncorr\\n.\\nECC\\n|\\n|\\nFan\\nTemp\\nPerf\\nPwr\\n:\\nUsage\\n/\\nCap\\n|\\nMemory\\n-\\nUsage\\n|\\nGPU\\n-\\nUtil\\nCompute\\nM\\n.\\n|\\n|\\n|\\n|\\nMIG\\nM\\n.\\n|\\n|===============================+======================+======================|\\n|\\n0\\nTesla\\nT4\\nOn\\n|\\n00000000\\n:\\n00\\n:\\n1\\nE\\n.0\\nOff\\n|\\n0\\n|\\n|\\nN\\n/\\nA\\n39\\nC\\nP8\\n9\\nW\\n/\\n70\\nW\\n|\\n0\\nMiB\\n/\\n15109\\nMiB\\n|\\n0\\n%\\nDefault\\n|\\n|\\n|\\n|\\nN\\n/\\nA\\n|\\n+-------------------------------+----------------------+----------------------+\\n+-----------------------------------------------------------------------------+\\n|\\nProcesses\\n:\\n|\\n|\\nGPU\\nGI\\nCI\\nPID\\nType\\nProcess\\nname\\nGPU\\nMemory\\n|\\n|\\nID\\nID\\nUsage\\n|\\n|=============================================================================|\\n|\\nNo\\nrunning\\nprocesses\\nfound\\n|\\n+-----------------------------------------------------------------------------+\\nWhen our CUDA 11.1 application (i.e. cudart 11.1 is statically linked) is run on the system, we see that it runs successfully even when the driver reports a 11.0 version - that is, without requiring the driver or other toolkit components to be updated on the system.\\n$\\nsamples\\n/\\nbin\\n/\\nx86_64\\n/\\nlinux\\n/\\nrelease\\n/\\ndeviceQuery\\nsamples\\n/\\nbin\\n/\\nx86_64\\n/\\nlinux\\n/\\nrelease\\n/\\ndeviceQuery\\nStarting\\n...\\nCUDA\\nDevice\\nQuery\\n(\\nRuntime\\nAPI\\n)\\nversion\\n(\\nCUDART\\nstatic\\nlinking\\n)\\nDetected\\n1\\nCUDA\\nCapable\\ndevice\\n(\\ns\\n)\\nDevice\\n0\\n:\\n\"Tesla T4\"\\nCUDA\\nDriver\\nVersion\\n/\\nRuntime\\nVersion\\n11.0\\n/\\n11.1\\nCUDA\\nCapability\\nMajor\\n/\\nMinor\\nversion\\nnumber\\n:\\n7.5\\n...\\n<\\nsnip\\n>\\n...\\ndeviceQuery\\n,\\nCUDA\\nDriver\\n=\\nCUDART\\n,\\nCUDA\\nDriver\\nVersion\\n=\\n11.0\\n,\\nCUDA\\nRuntime\\nVersion\\n=\\n11.1\\n,\\nNumDevs\\n=\\n1\\nResult\\n=\\nPASS\\nBy using new CUDA versions, users can benefit from new CUDA programming model APIs, compiler optimizations and math library features.\\nThe following sections discuss some caveats and considerations.\\n15.4.1.1.\\nHandling New CUDA Features and Driver APIs\\n\\uf0c1\\nA subset of CUDA APIs don’t need a new driver and they can all be used without any driver dependencies. For example,\\ncuMemMap\\nAPIs or any of APIs introduced prior to CUDA 11.0, such as\\ncudaDeviceSynchronize\\n, do not require a driver upgrade. To use other CUDA APIs introduced in a minor release (that require a new driver), one would have to implement fallbacks or fail gracefully. This situation is not different from what is available today where developers use macros to compile out features based on CUDA versions. Users should refer to the CUDA headers and documentation for new CUDA APIs introduced in a release.\\nWhen working with a feature exposed in a minor version of the toolkit, the feature might not be available at runtime if the application is running against an older CUDA driver. Users wishing to take advantage of such a feature should query its availability with a dynamic check in the code:\\nstatic\\nbool\\nhostRegisterFeatureSupported\\n=\\nfalse\\n;\\nstatic\\nbool\\nhostRegisterIsDeviceAddress\\n=\\nfalse\\n;\\nstatic\\nerror_t\\ncuFooFunction\\n(\\nint\\n*\\nptr\\n)\\n{\\nint\\n*\\ndptr\\n=\\nnull\\n;\\nif\\n(\\nhostRegisterFeatureSupported\\n)\\n{\\ncudaHostRegister\\n(\\nptr\\n,\\nsize\\n,\\nflags\\n);\\nif\\n(\\nhostRegisterIsDeviceAddress\\n)\\n{\\nqptr\\n=\\nptr\\n;\\n}\\nelse\\n{\\ncudaHostGetDevicePointer\\n(\\n&\\nqptr\\n,\\nptr\\n,\\n0\\n);\\n}\\n}\\nelse\\n{\\n// cudaMalloc();\\n// cudaMemcpy();\\n}\\ngemm\\n<<<\\n1\\n,\\n1\\n>>>\\n(\\ndptr\\n);\\ncudaDeviceSynchronize\\n();\\n}\\nint\\nmain\\n()\\n{\\n// rest of code here\\ncudaDeviceGetAttribute\\n(\\n&\\nhostRegisterFeatureSupported\\n,\\ncudaDevAttrHostRegisterSupported\\n,\\n0\\n);\\ncudaDeviceGetAttribute\\n(\\n&\\nhostRegisterIsDeviceAddress\\n,\\ncudaDevAttrCanUseHostPointerForRegisteredMem\\n,\\n0\\n);\\ncuFooFunction\\n(\\n/* malloced pointer */\\n);\\n}\\nAlternatively the application’s interface might not work at all without a new CUDA driver and then its best to return an error right away:\\n#define MIN_VERSION 11010\\ncudaError_t\\nfoo\\n()\\n{\\nint\\nversion\\n=\\n0\\n;\\ncudaGetDriverVersion\\n(\\n&\\nversion\\n);\\nif\\n(\\nversion\\n<\\nMIN_VERSION\\n)\\n{\\nreturn\\nCUDA_ERROR_INSUFFICIENT_DRIVER\\n;\\n}\\n// proceed as normal\\n}\\nA new error code is added to indicate that the functionality is missing from the driver you are running against:\\ncudaErrorCallRequiresNewerDriver\\n.\\n15.4.1.2.\\nUsing PTX\\n\\uf0c1\\nPTX defines a virtual machine and ISA for general purpose parallel thread execution. PTX programs are translated at load time to the target hardware instruction set via the JIT Compiler which is part of the CUDA driver. As PTX is compiled by the CUDA driver, new toolchains will generate PTX that is not compatible with the older CUDA driver. This is not a problem when PTX is used for future device compatibility (the most common case), but can lead to issues when used for runtime compilation.\\nFor codes continuing to make use of PTX, in order to support compiling on an older driver, your code must be first transformed into device code via the static ptxjitcompiler library or NVRTC with the option of generating code for a specific architecture (e.g. sm_80) rather than a virtual architecture (e.g. compute_80). For this workflow, a new nvptxcompiler_static library is shipped with the CUDA Toolkit.\\nWe can see this usage in the following example:\\nchar\\n*\\ncompilePTXToNVElf\\n()\\n{\\nnvPTXCompilerHandle\\ncompiler\\n=\\nNULL\\n;\\nnvPTXCompileResult\\nstatus\\n;\\nsize_t\\nelfSize\\n,\\ninfoSize\\n,\\nerrorSize\\n;\\nchar\\n*\\nelf\\n,\\n*\\ninfoLog\\n,\\n*\\nerrorLog\\n;\\nint\\nminorVer\\n,\\nmajorVer\\n;\\nconst\\nchar\\n*\\ncompile_options\\n[]\\n=\\n{\\n\"--gpu-name=sm_80\"\\n,\\n\"--device-debug\"\\n};\\nnvPTXCompilerGetVersion\\n(\\n&\\nmajorVer\\n,\\n&\\nminorVer\\n);\\nnvPTXCompilerCreate\\n(\\n&\\ncompiler\\n,\\n(\\nsize_t\\n)\\nstrlen\\n(\\nptxCode\\n),\\nptxCode\\n);\\nstatus\\n=\\nnvPTXCompilerCompile\\n(\\ncompiler\\n,\\n2\\n,\\ncompile_options\\n);\\nif\\n(\\nstatus\\n!=\\nNVPTXCOMPILE_SUCCESS\\n)\\n{\\nnvPTXCompilerGetErrorLogSize\\n(\\ncompiler\\n,\\n(\\nvoid\\n*\\n)\\n&\\nerrorSize\\n);\\nif\\n(\\nerrorSize\\n!=\\n0\\n)\\n{\\nerrorLog\\n=\\n(\\nchar\\n*\\n)\\nmalloc\\n(\\nerrorSize\\n+\\n1\\n);\\nnvPTXCompilerGetErrorLog\\n(\\ncompiler\\n,\\n(\\nvoid\\n*\\n)\\nerrorLog\\n);\\nprintf\\n(\\n\"Error log: %s\\n\\\\n\\n\"\\n,\\nerrorLog\\n);\\nfree\\n(\\nerrorLog\\n);\\n}\\nexit\\n(\\n1\\n);\\n}\\nnvPTXCompilerGetCompiledProgramSize\\n(\\ncompiler\\n,\\n&\\nelfSize\\n));\\nelf\\n=\\n(\\nchar\\n*\\n)\\nmalloc\\n(\\nelfSize\\n);\\nnvPTXCompilerGetCompiledProgram\\n(\\ncompiler\\n,\\n(\\nvoid\\n*\\n)\\nelf\\n);\\nnvPTXCompilerGetInfoLogSize\\n(\\ncompiler\\n,\\n(\\nvoid\\n*\\n)\\n&\\ninfoSize\\n);\\nif\\n(\\ninfoSize\\n!=\\n0\\n)\\n{\\ninfoLog\\n=\\n(\\nchar\\n*\\n)\\nmalloc\\n(\\ninfoSize\\n+\\n1\\n);\\nnvPTXCompilerGetInfoLog\\n(\\ncompiler\\n,\\n(\\nvoid\\n*\\n)\\ninfoLog\\n);\\nprintf\\n(\\n\"Info log: %s\\n\\\\n\\n\"\\n,\\ninfoLog\\n);\\nfree\\n(\\ninfoLog\\n);\\n}\\nnvPTXCompilerDestroy\\n(\\n&\\ncompiler\\n);\\nreturn\\nelf\\n;\\n}\\n15.4.1.3.\\nDynamic Code Generation\\n\\uf0c1\\nNVRTC is a runtime compilation library for CUDA C++. It accepts CUDA C++ source code in character string form and creates handles that can be used to obtain the PTX. The PTX string generated by NVRTC can be loaded by cuModuleLoadData and cuModuleLoadDataEx.\\nDealing with relocatable objects is not yet supported, therefore the\\ncuLink\\n* set of APIs in the CUDA driver will not work with enhanced compatibility. An upgraded driver matching the CUDA runtime version is currently required for those APIs.\\nAs mentioned in the PTX section, the compilation of PTX to device code lives along with the CUDA driver, hence the generated PTX might be newer than what is supported by the driver on the deployment system. When using NVRTC, it is recommended that the resulting PTX code is first transformed to the final device code via the steps outlined by the PTX user workflow. This ensures your code is compatible. Alternatively, NVRTC can generate cubins directly starting with CUDA 11.1. Applications using the new API can load the final device code directly using driver APIs\\ncuModuleLoadData\\nand\\ncuModuleLoadDataEx\\n.\\nNVRTC used to support only virtual architectures through the option -arch, since it was only emitting PTX. It will now support actual architectures as well to emit SASS. The interface is augmented to retrieve either the PTX or cubin if an actual architecture is specified.\\nThe example below shows how an existing example can be adapted to use the new features, guarded by the\\nUSE_CUBIN\\nmacro in this case:\\n#include\\n<nvrtc.h>\\n#include\\n<cuda.h>\\n#include\\n<iostream>\\nvoid\\nNVRTC_SAFE_CALL\\n(\\nnvrtcResult\\nresult\\n)\\n{\\nif\\n(\\nresult\\n!=\\nNVRTC_SUCCESS\\n)\\n{\\nstd\\n::\\ncerr\\n<<\\n\"\\n\\\\n\\nnvrtc error: \"\\n<<\\nnvrtcGetErrorString\\n(\\nresult\\n)\\n<<\\n\\'\\\\n\\'\\n;\\nstd\\n::\\nexit\\n(\\n1\\n);\\n}\\n}\\nvoid\\nCUDA_SAFE_CALL\\n(\\nCUresult\\nresult\\n)\\n{\\nif\\n(\\nresult\\n!=\\nCUDA_SUCCESS\\n)\\n{\\nconst\\nchar\\n*\\nmsg\\n;\\ncuGetErrorName\\n(\\nresult\\n,\\n&\\nmsg\\n);\\nstd\\n::\\ncerr\\n<<\\n\"\\n\\\\n\\ncuda error: \"\\n<<\\nmsg\\n<<\\n\\'\\\\n\\'\\n;\\nstd\\n::\\nexit\\n(\\n1\\n);\\n}\\n}\\nconst\\nchar\\n*\\nhello\\n=\\n\"\\n\\\\n\\n\\\\\\nextern\\n\\\\\"\\nC\\n\\\\\"\\n__global__ void hello() {\\n\\\\n\\n\\\\\\nprintf(\\n\\\\\"\\nhello world\\n\\\\\\\\\\nn\\n\\\\\"\\n);\\n\\\\n\\n\\\\\\n}\\n\\\\n\\n\"\\n;\\nint\\nmain\\n()\\n{\\nnvrtcProgram\\nprog\\n;\\nNVRTC_SAFE_CALL\\n(\\nnvrtcCreateProgram\\n(\\n&\\nprog\\n,\\nhello\\n,\\n\"hello.cu\"\\n,\\n0\\n,\\nNULL\\n,\\nNULL\\n));\\n#ifdef USE_CUBIN\\nconst\\nchar\\n*\\nopts\\n[]\\n=\\n{\\n\"-arch=sm_70\"\\n};\\n#else\\nconst\\nchar\\n*\\nopts\\n[]\\n=\\n{\\n\"-arch=compute_70\"\\n};\\n#endif\\nnvrtcResult\\ncompileResult\\n=\\nnvrtcCompileProgram\\n(\\nprog\\n,\\n1\\n,\\nopts\\n);\\nsize_t\\nlogSize\\n;\\nNVRTC_SAFE_CALL\\n(\\nnvrtcGetProgramLogSize\\n(\\nprog\\n,\\n&\\nlogSize\\n));\\nchar\\n*\\nlog\\n=\\nnew\\nchar\\n[\\nlogSize\\n];\\nNVRTC_SAFE_CALL\\n(\\nnvrtcGetProgramLog\\n(\\nprog\\n,\\nlog\\n));\\nstd\\n::\\ncout\\n<<\\nlog\\n<<\\n\\'\\\\n\\'\\n;\\ndelete\\n[]\\nlog\\n;\\nif\\n(\\ncompileResult\\n!=\\nNVRTC_SUCCESS\\n)\\nexit\\n(\\n1\\n);\\nsize_t\\ncodeSize\\n;\\n#ifdef USE_CUBIN\\nNVRTC_SAFE_CALL\\n(\\nnvrtcGetCUBINSize\\n(\\nprog\\n,\\n&\\ncodeSize\\n));\\nchar\\n*\\ncode\\n=\\nnew\\nchar\\n[\\ncodeSize\\n];\\nNVRTC_SAFE_CALL\\n(\\nnvrtcGetCUBIN\\n(\\nprog\\n,\\ncode\\n));\\n#else\\nNVRTC_SAFE_CALL\\n(\\nnvrtcGetPTXSize\\n(\\nprog\\n,\\n&\\ncodeSize\\n));\\nchar\\n*\\ncode\\n=\\nnew\\nchar\\n[\\ncodeSize\\n];\\nNVRTC_SAFE_CALL\\n(\\nnvrtcGetPTX\\n(\\nprog\\n,\\ncode\\n));\\n#endif\\nNVRTC_SAFE_CALL\\n(\\nnvrtcDestroyProgram\\n(\\n&\\nprog\\n));\\nCUdevice\\ncuDevice\\n;\\nCUcontext\\ncontext\\n;\\nCUmodule\\nmodule\\n;\\nCUfunction\\nkernel\\n;\\nCUDA_SAFE_CALL\\n(\\ncuInit\\n(\\n0\\n));\\nCUDA_SAFE_CALL\\n(\\ncuDeviceGet\\n(\\n&\\ncuDevice\\n,\\n0\\n));\\nCUDA_SAFE_CALL\\n(\\ncuCtxCreate\\n(\\n&\\ncontext\\n,\\n0\\n,\\ncuDevice\\n));\\nCUDA_SAFE_CALL\\n(\\ncuModuleLoadDataEx\\n(\\n&\\nmodule\\n,\\ncode\\n,\\n0\\n,\\n0\\n,\\n0\\n));\\nCUDA_SAFE_CALL\\n(\\ncuModuleGetFunction\\n(\\n&\\nkernel\\n,\\nmodule\\n,\\n\"hello\"\\n));\\nCUDA_SAFE_CALL\\n(\\ncuLaunchKernel\\n(\\nkernel\\n,\\n1\\n,\\n1\\n,\\n1\\n,\\n1\\n,\\n1\\n,\\n1\\n,\\n0\\n,\\nNULL\\n,\\nNULL\\n,\\n0\\n));\\nCUDA_SAFE_CALL\\n(\\ncuCtxSynchronize\\n());\\nCUDA_SAFE_CALL\\n(\\ncuModuleUnload\\n(\\nmodule\\n));\\nCUDA_SAFE_CALL\\n(\\ncuCtxDestroy\\n(\\ncontext\\n));\\ndelete\\n[]\\ncode\\n;\\n}\\n15.4.1.4.\\nRecommendations for building a minor-version compatible library\\n\\uf0c1\\nWe recommend that the CUDA runtime be statically linked to minimize dependencies. Verify that your library doesn’t leak dependencies, breakages, namespaces, etc. outside your established ABI contract.\\nFollow semantic versioning for your library’s soname. Having a semantically versioned ABI means the interfaces need to be maintained and versioned. The library should follow semantic rules and increment the version number when a change is made that affects this ABI contract. Missing dependencies is also a binary compatibility break, hence you should provide fallbacks or guards for functionality that depends on those interfaces. Increment major versions when there are ABI breaking changes such as API deprecation and modifications. New APIs can be added in minor versions.\\nConditionally use features to remain compatible against older drivers. If no new features are used (or if they are used conditionally with fallbacks provided) you’ll be able to remain compatible.\\nDon’t expose ABI structures that can change. A pointer to a structure with a size embedded is a better solution.\\nWhen linking with dynamic libraries from the toolkit, the library must be equal to or newer than what is needed by any one of the components involved in the linking of your application. For example, if you link against the CUDA 11.1 dynamic runtime, and use functionality from 11.1, as well as a separate shared library that was linked against the CUDA 11.2 dynamic runtime that requires 11.2 functionality, the final link step must include a CUDA 11.2 or newer dynamic runtime.\\n15.4.1.5.\\nRecommendations for taking advantage of minor version compatibility in your application\\n\\uf0c1\\nCertain functionality might not be available so you should query where applicable. This is common for building applications that are GPU architecture, platform and compiler agnostic. However we now add “the underlying driver” to that mix.\\nAs with the previous section on library building recommendations, if using the CUDA runtime, we recommend linking to the CUDA runtime statically when building your application. When using the driver APIs directly, we recommend using the new driver entry point access API (\\ncuGetProcAddress\\n) documented here:\\nCUDA Driver API :: CUDA Toolkit Documentation\\n.\\nWhen using a shared or static library, follow the release notes of said library to determine if the library supports minor version compatibility.\\nWhen deploying a CUDA application, it is often desirable to ensure that the application will continue to function properly even if the target machine does not have a CUDA-capable GPU and/or a sufficient version of the NVIDIA Driver installed. (Developers targeting a single machine with known configuration may choose to skip this section.)\\nDetecting a CUDA-Capable GPU\\nWhen an application will be deployed to target machines of arbitrary/unknown configuration, the application should explicitly test for the existence of a CUDA-capable GPU in order to take appropriate action when no such device is available. The\\ncudaGetDeviceCount()\\nfunction can be used to query for the number of available devices. Like all CUDA Runtime API functions, this function will fail gracefully and return\\ncudaErrorNoDevice\\nto the application if there is no CUDA-capable GPU or\\ncudaErrorInsufficientDriver\\nif there is not an appropriate version of the NVIDIA Driver installed. If\\ncudaGetDeviceCount()\\nreports an error, the application should fall back to an alternative code path.\\nA system with multiple GPUs may contain GPUs of different hardware versions and capabilities. When using multiple GPUs from the same application, it is recommended to use GPUs of the same type, rather than mixing hardware generations. The\\ncudaChooseDevice()\\nfunction can be used to select the device that most closely matches a desired set of features.\\nDetecting Hardware and Software Configuration\\nWhen an application depends on the availability of certain hardware or software capabilities to enable certain functionality, the CUDA API can be queried for details about the configuration of the available device and for the installed software versions.\\nThe\\ncudaGetDeviceProperties()\\nfunction reports various features of the available devices, including the\\nCUDA Compute Capability\\nof the device (see also the Compute Capabilities section of the CUDA C++ Programming Guide). See\\nVersion Management\\nfor details on how to query the available CUDA software API versions.\\nAll CUDA Runtime API calls return an error code of type\\ncudaError_t\\n; the return value will be equal to\\ncudaSuccess\\nif no errors have occurred. (The exceptions to this are kernel launches, which return void, and\\ncudaGetErrorString()\\n, which returns a character string describing the\\ncudaError_t\\ncode that was passed into it.) The CUDA Toolkit libraries (\\ncuBLAS\\n,\\ncuFFT\\n, etc.) likewise return their own sets of error codes.\\nSince some CUDA API calls and all kernel launches are asynchronous with respect to the host code, errors may be reported to the host asynchronously as well; often this occurs the next time the host and device synchronize with each other, such as during a call to\\ncudaMemcpy()\\nor to\\ncudaDeviceSynchronize()\\n.\\nAlways check the error return values on all CUDA API functions, even for functions that are not expected to fail, as this will allow the application to detect and recover from errors as soon as possible should they occur. To check for errors occurring during kernel launches using the\\n<<<...>>>\\nsyntax, which does not return any error code, the return code of\\ncudaGetLastError()\\nshould be checked immediately after the kernel launch. Applications that do not check for CUDA API errors could at times run to completion without having noticed that the data calculated by the GPU is incomplete, invalid, or uninitialized.\\nNote\\nThe CUDA Toolkit Samples provide several helper functions for error checking with the various CUDA APIs; these helper functions are located in the\\nsamples/common/inc/helper_cuda.h\\nfile in the CUDA Toolkit.\\nEach generation of CUDA-capable device has an associated\\ncompute capability\\nversion that indicates the feature set supported by the device (see\\nCUDA Compute Capability\\n). One or more\\ncompute capability\\nversions can be specified to the nvcc compiler while building a file; compiling for the native compute capability for the target GPU(s) of the application is important to ensure that application kernels achieve the best possible performance and are able to use the features that are available on a given generation of GPU.\\nWhen an application is built for multiple compute capabilities simultaneously (using several instances of the\\n-gencode\\nflag to nvcc), the binaries for the specified compute capabilities are combined into the executable, and the CUDA Driver selects the most appropriate binary at runtime according to the compute capability of the present device. If an appropriate native binary (\\ncubin\\n) is not available, but the intermediate\\nPTX\\ncode (which targets an abstract virtual instruction set and is used for forward-compatibility) is available, then the kernel will be compiled\\nJust In Time\\n(JIT) (see\\nCompiler JIT Cache Management Tools\\n) from the PTX to the native cubin for the device. If the PTX is also not available, then the kernel launch will fail.\\nWindows\\nnvcc.exe -ccbin \"C:\\\\vs2008\\\\VC\\\\bin\"\\n  -Xcompiler \"/EHsc /W3 /nologo /O2 /Zi /MT\"\\n  -gencode=arch=compute_30,code=sm_30\\n  -gencode=arch=compute_35,code=sm_35\\n  -gencode=arch=compute_50,code=sm_50\\n  -gencode=arch=compute_60,code=sm_60\\n  -gencode=arch=compute_70,code=sm_70\\n  -gencode=arch=compute_75,code=sm_75\\n  -gencode=arch=compute_75,code=compute_75\\n  --compile -o \"Release\\\\mykernel.cu.obj\" \"mykernel.cu\"\\nMac/Linux\\n/usr/local/cuda/bin/nvcc\\n  -gencode=arch=compute_30,code=sm_30\\n  -gencode=arch=compute_35,code=sm_35\\n  -gencode=arch=compute_50,code=sm_50\\n  -gencode=arch=compute_60,code=sm_60\\n  -gencode=arch=compute_70,code=sm_70\\n  -gencode=arch=compute_75,code=sm_75\\n  -gencode=arch=compute_75,code=compute_75\\n  -O2 -o mykernel.o -c mykernel.cu\\nAlternatively, the\\nnvcc\\ncommand-line option\\n-arch=sm_XX\\ncan be used as a shorthand equivalent to the following more explicit\\n-gencode=\\ncommand-line options described above:\\n-gencode=arch=compute_XX,code=sm_XX\\n-gencode=arch=compute_XX,code=compute_XX\\nHowever, while the\\n-arch=sm_XX\\ncommand-line option does result in inclusion of a PTX back-end target by default (due to the\\ncode=compute_XX\\ntarget it implies), it can only specify a single target\\ncubin\\narchitecture at a time, and it is not possible to use multiple\\n-arch=\\noptions on the same\\nnvcc\\ncommand line, which is why the examples above use\\n-gencode=\\nexplicitly.\\nCUDA applications are built against the CUDA Runtime library, which handles device, memory, and kernel management. Unlike the CUDA Driver, the CUDA Runtime guarantees neither forward nor backward binary compatibility across versions. It is therefore best to\\nredistribute\\nthe CUDA Runtime library with the application when using dynamic linking or else to statically link against the CUDA Runtime. This will ensure that the executable will be able to run even if the user does not have the same CUDA Toolkit installed that the application was built against.\\nNote\\nWhen statically linking to the CUDA Runtime, multiple versions of the runtime can peacably coexist in the same application process simultaneously; for example, if an application uses one version of the CUDA Runtime, and a plugin to that application is statically linked to a different version, that is perfectly acceptable, as long as the installed NVIDIA Driver is sufficient for both.\\nStatically-linked CUDA Runtime\\nThe easiest option is to statically link against the CUDA Runtime. This is the default if using\\nnvcc\\nto link in CUDA 5.5 and later. Static linking makes the executable slightly larger, but it ensures that the correct version of runtime library functions are included in the application binary without requiring separate redistribution of the CUDA Runtime library.\\nDynamically-linked CUDA Runtime\\nIf static linking against the CUDA Runtime is impractical for some reason, then a dynamically-linked version of the CUDA Runtime library is also available. (This was the default and only option provided in CUDA versions 5.0 and earlier.)\\nTo use dynamic linking with the CUDA Runtime when using the\\nnvcc\\nfrom CUDA 5.5 or later to link the application, add the\\n--cudart=shared\\nflag to the link command line; otherwise the\\nstatically-linked CUDA Runtime library\\nis used by default.\\nAfter the application is dynamically linked against the CUDA Runtime, this version of the runtime library should be\\nbundled with\\nthe application. It can be copied into the same directory as the application executable or into a subdirectory of that installation path.\\nOther CUDA Libraries\\nAlthough the CUDA Runtime provides the option of static linking, some libraries included in the CUDA Toolkit are available only in dynamically-linked form. As with the\\ndynamically-linked version of the CUDA Runtime library\\n, these libraries should be\\nbundled with\\nthe application executable when distributing that application.\\nThe CUDA Toolkit’s End-User License Agreement (EULA) allows for redistribution of many of the CUDA libraries under certain terms and conditions. This allows applications that depend on these libraries\\nto redistribute the exact versions\\nof the libraries against which they were built and tested, thereby avoiding any trouble for end users who might have a different version of the CUDA Toolkit (or perhaps none at all) installed on their machines. Please refer to the EULA for details.\\nNote\\nThis does\\nnot\\napply to the NVIDIA Driver; the end user must still download and install an NVIDIA Driver appropriate to their GPU(s) and operating system.\\n16.4.1.1.\\nWhich Files to Redistribute\\n\\uf0c1\\nWhen redistributing the dynamically-linked versions of one or more CUDA libraries, it is important to identify the exact files that need to be redistributed. The following examples use the cuBLAS library from CUDA Toolkit 5.5 as an illustration:\\nLinux\\nIn a shared library on Linux, there is a string field called the\\nSONAME\\nthat indicates the binary compatibility level of the library. The\\nSONAME\\nof the library against which the application was built must match the filename of the library that is redistributed with the application.\\nFor example, in the standard CUDA Toolkit installation, the files\\nlibcublas.so\\nand\\nlibcublas.so.5.5\\nare both symlinks pointing to a specific build of cuBLAS, which is named like\\nlibcublas.so.5.5.x\\n, where\\nx\\nis the build number (e.g.,\\nlibcublas.so.5.5.17\\n). However, the\\nSONAME\\nof this library is given as “\\nlibcublas.so.5.5\\n”:\\n$ objdump -p /usr/local/cuda/lib64/libcublas.so | grep SONAME\\n   SONAME               libcublas.so.5.5\\nBecause of this, even if\\n-lcublas\\n(with no version number specified) is used when linking the application, the\\nSONAME\\nfound at link time implies that “\\nlibcublas.so.5.5\\n” is the name of the file that the dynamic loader will look for when loading the application and therefore must be the name of the file (or a symlink to the same) that is redistributed with the application.\\nThe\\nldd\\ntool is useful for identifying the exact filenames of the libraries that the application expects to find at runtime as well as the path, if any, of the copy of that library that the dynamic loader would select when loading the application given the current library search path:\\n$ ldd a.out | grep libcublas\\n   libcublas.so.5.5 => /usr/local/cuda/lib64/libcublas.so.5.5\\nMac\\nIn a shared library on Mac OS X, there is a field called the\\ninstall\\nname\\nthat indicates the expected installation path and filename the library; the CUDA libraries also use this filename to indicate binary compatibility. The value of this field is propagated into an application built against the library and is used to locate the library of the correct version at runtime.\\nFor example, if the install name of the cuBLAS library is given as\\n@rpath/libcublas.5.5.dylib\\n, then the library is version 5.5 and the copy of this library redistributed with the application must be named\\nlibcublas.5.5.dylib\\n, even though only\\n-lcublas\\n(with no version number specified) is used at link time. Furthermore, this file should be installed into the\\n@rpath\\nof the application; see\\nWhere to Install Redistributed CUDA Libraries\\n.\\nTo view a library’s install name, use the\\notool\\n-L\\ncommand:\\n$ otool -L a.out\\na.out:\\n        @rpath/libcublas.5.5.dylib (...)\\nWindows\\nThe binary compatibility version of the CUDA libraries on Windows is indicated as part of the filename.\\nFor example, a 64-bit application linked to cuBLAS 5.5 will look for\\ncublas64_55.dll\\nat runtime, so this is the file that should be redistributed with that application, even though\\ncublas.lib\\nis the file that the application is linked against. For 32-bit applications, the file would be\\ncublas32_55.dll\\n.\\nTo verify the exact DLL filename that the application expects to find at runtime, use the\\ndumpbin\\ntool from the Visual Studio command prompt:\\n$ dumpbin /IMPORTS a.exe\\nMicrosoft (R) COFF/PE Dumper Version 10.00.40219.01\\nCopyright (C) Microsoft Corporation.  All rights reserved.\\n\\n\\nDump of file a.exe\\n\\nFile Type: EXECUTABLE IMAGE\\n\\n  Section contains the following imports:\\n\\n    ...\\n    cublas64_55.dll\\n    ...\\n16.4.1.2.\\nWhere to Install Redistributed CUDA Libraries\\n\\uf0c1\\nOnce the correct library files are identified for redistribution, they must be configured for installation into a location where the application will be able to find them.\\nOn Windows, if the CUDA Runtime or other dynamically-linked CUDA Toolkit library is placed in the same directory as the executable, Windows will locate it automatically. On Linux and Mac, the\\n-rpath\\nlinker option should be used to instruct the executable to search its local path for these libraries before searching the system paths:\\nLinux/Mac\\nnvcc -I $(CUDA_HOME)/include\\n  -Xlinker \"-rpath \\'$ORIGIN\\'\" --cudart=shared\\n  -o myprogram myprogram.cu\\nWindows\\nnvcc.exe -ccbin \"C:\\\\vs2008\\\\VC\\\\bin\"\\n  -Xcompiler \"/EHsc /W3 /nologo /O2 /Zi /MT\" --cudart=shared\\n  -o \"Release\\\\myprogram.exe\" \"myprogram.cu\"\\nNote\\nIt may be necessary to adjust the value of\\n-ccbin\\nto reflect the location of your Visual Studio installation.\\nTo specify an alternate path where the libraries will be distributed, use linker options similar to those below:\\nLinux/Mac\\nnvcc -I $(CUDA_HOME)/include\\n  -Xlinker \"-rpath \\'$ORIGIN/lib\\'\" --cudart=shared\\n  -o myprogram myprogram.cu\\nWindows\\nnvcc.exe -ccbin \"C:\\\\vs2008\\\\VC\\\\bin\"\\n  -Xcompiler \"/EHsc /W3 /nologo /O2 /Zi /MT /DELAY\" --cudart=shared\\n  -o \"Release\\\\myprogram.exe\" \"myprogram.cu\"\\nFor Linux and Mac, the\\n-rpath\\noption is used as before. For Windows, the\\n/DELAY\\noption is used; this requires that the application call\\nSetDllDirectory()\\nbefore the first call to any CUDA API function in order to specify the directory containing the CUDA DLLs.\\nNote\\nFor Windows 8,\\nSetDefaultDLLDirectories()\\nand\\nAddDllDirectory()\\nshould be used instead of\\nSetDllDirectory()\\n. Please see the MSDN documentation for these routines for more information.\\nThe NVIDIA System Management Interface (\\nnvidia-smi\\n) is a command line utility that aids in the management and monitoring of NVIDIA GPU devices. This utility allows administrators to query GPU device state and, with the appropriate privileges, permits administrators to modify GPU device state.\\nnvidia-smi\\nis targeted at Tesla and certain Quadro GPUs, though limited support is also available on other NVIDIA GPUs.\\nnvidia-smi\\nships with NVIDIA GPU display drivers on Linux, and with 64-bit Windows Server 2008 R2 and Windows 7.\\nnvidia-smi\\ncan output queried information as XML or as human-readable plain text either to standard output or to a file. See the nvidia-smi documenation for details. Please note that new versions of nvidia-smi are not guaranteed to be backward-compatible with previous versions.\\nECC error counts\\nBoth correctable single-bit and detectable double-bit errors are reported. Error counts are provided for both the current boot cycle and the lifetime of the GPU.\\nGPU utilization\\nCurrent utilization rates are reported for both the compute resources of the GPU and the memory interface.\\nActive compute process\\nThe list of active processes running on the GPU is reported, along with the corresponding process name/ID and allocated GPU memory.\\nClocks and performance state\\nMax and current clock rates are reported for several important clock domains, as well as the current GPU performance state (\\npstate\\n).\\nTemperature and fan speed\\nThe current GPU core temperature is reported, along with fan speeds for products with active cooling.\\nPower management\\nThe current board power draw and power limits are reported for products that report these measurements.\\nIdentification\\nVarious dynamic and static information is reported, including board serial numbers, PCI device IDs, VBIOS/Inforom version numbers and product names.\\nECC mode\\nEnable and disable ECC reporting.\\nECC reset\\nClear single-bit and double-bit ECC error counts.\\nCompute mode\\nIndicate whether compute processes can run on the GPU and whether they run exclusively or concurrently with other compute processes.\\nPersistence mode\\nIndicate whether the NVIDIA driver stays loaded when no applications are connected to the GPU. It is best to enable this option in most circumstances.\\nGPU reset\\nReinitialize the GPU hardware and software state via a secondary bus reset.\\nThe NVIDIA Management Library (NVML) is a C-based interface that provides direct access to the queries and commands exposed via\\nnvidia-smi\\nintended as a platform for building 3rd-party system management applications. The NVML API is shipped with the CUDA Toolkit (since version 8.0) and is also available standalone on the NVIDIA developer website as part of the GPU Deployment Kit through a single header file accompanied by PDF documentation, stub libraries, and sample applications; see\\nhttps://developer.nvidia.com/gpu-deployment-kit\\n. Each new version of NVML is backward-compatible.\\nAn additional set of Perl and Python bindings are provided for the NVML API. These bindings expose the same features as the C-based interface and also provide backwards compatibility. The Perl bindings are provided via CPAN and the Python bindings via PyPI.\\nAll of these products (\\nnvidia-smi\\n, NVML, and the NVML language bindings) are updated with each new CUDA release and provide roughly the same functionality.\\nSee\\nhttps://developer.nvidia.com/nvidia-management-library-nvml\\nfor additional information.\\nManaging your GPU cluster will help achieve maximum GPU utilization and help you and your users extract the best possible performance. Many of the industry’s most popular cluster management tools support CUDA GPUs via NVML. For a listing of some of these tools, see\\nhttps://developer.nvidia.com/cluster-management\\n.\\nAny PTX device code loaded by an application at runtime is compiled further to binary code by the device driver. This is called\\njust-in-time compilation\\n(\\nJIT\\n). Just-in-time compilation increases application load time but allows applications to benefit from latest compiler improvements. It is also the only way for applications to run on devices that did not exist at the time the application was compiled.\\nWhen JIT compilation of PTX device code is used, the NVIDIA driver caches the resulting binary code on disk. Some aspects of this behavior such as cache location and maximum cache size can be controlled via the use of environment variables; see Just in Time Compilation of the CUDA C++ Programming Guide.\\nIt is possible to rearrange the collection of installed CUDA devices that will be visible to and enumerated by a CUDA application prior to the start of that application by way of the\\nCUDA_VISIBLE_DEVICES\\nenvironment variable.\\nDevices to be made visible to the application should be included as a comma-separated list in terms of the system-wide list of enumerable devices. For example, to use only devices 0 and 2 from the system-wide list of devices, set\\nCUDA_VISIBLE_DEVICES=0,2\\nbefore launching the application. The application will then enumerate these devices as device 0 and device 1, respectively.\\nThis chapter contains a summary of the recommendations for optimization that are explained in this document.\\nPerformance optimization revolves around three basic strategies:\\nMaximizing parallel execution\\nOptimizing memory usage to achieve maximum memory bandwidth\\nOptimizing instruction usage to achieve maximum instruction throughput\\nMaximizing parallel execution starts with structuring the algorithm in a way that exposes as much parallelism as possible. Once the parallelism of the algorithm has been exposed, it needs to be mapped to the hardware as efficiently as possible. This is done by carefully choosing the execution configuration of each kernel launch. The application should also maximize parallel execution at a higher level by explicitly exposing concurrent execution on the device through streams, as well as maximizing concurrent execution between the host and the device.\\nOptimizing memory usage starts with minimizing data transfers between the host and the device because those transfers have much lower bandwidth than internal device data transfers. Kernel access to global memory also should be minimized by maximizing the use of shared memory on the device. Sometimes, the best optimization might even be to avoid any data transfer in the first place by simply recomputing the data whenever it is needed.\\nThe effective bandwidth can vary by an order of magnitude depending on the access pattern for each type of memory. The next step in optimizing memory usage is therefore to organize memory accesses according to the optimal memory access patterns. This optimization is especially important for global memory accesses, because latency of access costs hundreds of clock cycles. Shared memory accesses, in counterpoint, are usually worth optimizing only when there exists a high degree of bank conflicts.\\nAs for optimizing instruction usage, the use of arithmetic instructions that have low throughput should be avoided. This suggests trading precision for speed when it does not affect the end result, such as using intrinsics instead of regular functions or single precision instead of double precision. Finally, particular attention must be paid to control flow instructions due to the SIMT (single instruction multiple thread) nature of the device.\\nThe NVIDIA\\nnvcc\\ncompiler driver converts\\n.cu\\nfiles into C++ for the host system and CUDA assembly or binary instructions for the device. It supports a number of command-line parameters, of which the following are especially useful for optimization and related best practices:\\n-maxrregcount=N\\nspecifies the maximum number of registers kernels can use at a per-file level. See\\nRegister Pressure\\n. (See also the\\n__launch_bounds__\\nqualifier discussed in Execution Configuration of the CUDA C++ Programming Guide to control the number of registers used on a per-kernel basis.)\\n--ptxas-options=-v\\nor\\n-Xptxas=-v\\nlists per-kernel register, shared, and constant memory usage.\\n-ftz=true\\n(denormalized numbers are flushed to zero)\\n-prec-div=false\\n(less precise division)\\n-prec-sqrt=false\\n(less precise square root)\\n-use_fast_math\\ncompiler option of\\nnvcc\\ncoerces every\\nfunctionName()\\ncall to the equivalent\\n__functionName()\\ncall. This makes the code run faster at the cost of diminished precision and accuracy. See\\nMath Libraries\\n.\\nThis document is provided for information purposes only and shall not be regarded as a warranty of a certain functionality, condition, or quality of a product. NVIDIA Corporation (“NVIDIA”) makes no representations or warranties, expressed or implied, as to the accuracy or completeness of the information contained in this document and assumes no responsibility for any errors contained herein. NVIDIA shall have no liability for the consequences or use of such information or for any infringement of patents or other rights of third parties that may result from its use. This document is not a commitment to develop, release, or deliver any Material (defined below), code, or functionality.\\nNVIDIA reserves the right to make corrections, modifications, enhancements, improvements, and any other changes to this document, at any time without notice.\\nCustomer should obtain the latest relevant information before placing orders and should verify that such information is current and complete.\\nNVIDIA products are sold subject to the NVIDIA standard terms and conditions of sale supplied at the time of order acknowledgement, unless otherwise agreed in an individual sales agreement signed by authorized representatives of NVIDIA and customer (“Terms of Sale”). NVIDIA hereby expressly objects to applying any customer general terms and conditions with regards to the purchase of the NVIDIA product referenced in this document. No contractual obligations are formed either directly or indirectly by this document.\\nNVIDIA products are not designed, authorized, or warranted to be suitable for use in medical, military, aircraft, space, or life support equipment, nor in applications where failure or malfunction of the NVIDIA product can reasonably be expected to result in personal injury, death, or property or environmental damage. NVIDIA accepts no liability for inclusion and/or use of NVIDIA products in such equipment or applications and therefore such inclusion and/or use is at customer’s own risk.\\nNVIDIA makes no representation or warranty that products based on this document will be suitable for any specified use. Testing of all parameters of each product is not necessarily performed by NVIDIA. It is customer’s sole responsibility to evaluate and determine the applicability of any information contained in this document, ensure the product is suitable and fit for the application planned by customer, and perform the necessary testing for the application in order to avoid a default of the application or the product. Weaknesses in customer’s product designs may affect the quality and reliability of the NVIDIA product and may result in additional or different conditions and/or requirements beyond those contained in this document. NVIDIA accepts no liability related to any default, damage, costs, or problem which may be based on or attributable to: (i) the use of the NVIDIA product in any manner that is contrary to this document or (ii) customer product designs.\\nNo license, either expressed or implied, is granted under any NVIDIA patent right, copyright, or other NVIDIA intellectual property right under this document. Information published by NVIDIA regarding third-party products or services does not constitute a license from NVIDIA to use such products or services or a warranty or endorsement thereof. Use of such information may require a license from a third party under the patents or other intellectual property rights of the third party, or a license from NVIDIA under the patents or other intellectual property rights of NVIDIA.\\nReproduction of information in this document is permissible only if approved in advance by NVIDIA in writing, reproduced without alteration and in full compliance with all applicable export laws and regulations, and accompanied by all associated conditions, limitations, and notices.\\nTHIS DOCUMENT AND ALL NVIDIA DESIGN SPECIFICATIONS, REFERENCE BOARDS, FILES, DRAWINGS, DIAGNOSTICS, LISTS, AND OTHER DOCUMENTS (TOGETHER AND SEPARATELY, “MATERIALS”) ARE BEING PROVIDED “AS IS.” NVIDIA MAKES NO WARRANTIES, EXPRESSED, IMPLIED, STATUTORY, OR OTHERWISE WITH RESPECT TO THE MATERIALS, AND EXPRESSLY DISCLAIMS ALL IMPLIED WARRANTIES OF NONINFRINGEMENT, MERCHANTABILITY, AND FITNESS FOR A PARTICULAR PURPOSE. TO THE EXTENT NOT PROHIBITED BY LAW, IN NO EVENT WILL NVIDIA BE LIABLE FOR ANY DAMAGES, INCLUDING WITHOUT LIMITATION ANY DIRECT, INDIRECT, SPECIAL, INCIDENTAL, PUNITIVE, OR CONSEQUENTIAL DAMAGES, HOWEVER CAUSED AND REGARDLESS OF THE THEORY OF LIABILITY, ARISING OUT OF ANY USE OF THIS DOCUMENT, EVEN IF NVIDIA HAS BEEN ADVISED OF THE POSSIBILITY OF SUCH DAMAGES. Notwithstanding any damages that customer might incur for any reason whatsoever, NVIDIA’s aggregate and cumulative liability towards customer for the products described herein shall be limited in accordance with the Terms of Sale for the product.\\nOpenCL is a trademark of Apple Inc. used under license to the Khronos Group Inc.\\nNVIDIA and the NVIDIA logo are trademarks or registered trademarks of NVIDIA Corporation in the U.S. and other countries. Other company and product names may be trademarks of the respective companies with which they are associated.'"
            ],
            "application/vnd.google.colaboratory.intrinsic+json": {
              "type": "string"
            }
          },
          "metadata": {},
          "execution_count": 11
        }
      ],
      "source": [
        "text1"
      ]
    },
    {
      "cell_type": "markdown",
      "source": [
        "This function processes the extracted data by splitting into chunks, filtering based on length and content criteria, and preparing it for further processing."
      ],
      "metadata": {
        "id": "_TXLYNM10Ge_"
      }
    },
    {
      "cell_type": "code",
      "execution_count": 12,
      "metadata": {
        "id": "Je6ybOLXQp9N"
      },
      "outputs": [],
      "source": [
        "def chunk_data(data):\n",
        "  scraped_data = []\n",
        "  c=0\n",
        "  for i in range(len(data)):\n",
        "    text1 = data[i]['text']\n",
        "    # text1 = data[i]\n",
        "    text1 = text1.split('\\uf0c1')\n",
        "    text1 = [item.split('.\\n') for item in text1]\n",
        "    text1 = [item for sublist in text1 for item in sublist]\n",
        "    text1 = [item.replace('\\n',\" \") for item in text1]\n",
        "    text1 = [re.sub(r'\\s+', ' ', item) for item in text1]\n",
        "    for text in text1:\n",
        "      if text!='' and len(text.split())>10:\n",
        "        scraped_data.append(text)\n",
        "\n",
        "  scraped_data = [s for s in scraped_data if len(s) <= 2000 and len(s)>100]\n",
        "  return scraped_data\n"
      ]
    },
    {
      "cell_type": "code",
      "execution_count": 13,
      "metadata": {
        "id": "FOKSLSnmoXfe"
      },
      "outputs": [],
      "source": [
        "scraped_data = chunk_data(data)"
      ]
    },
    {
      "cell_type": "code",
      "source": [
        "len(scraped_data)"
      ],
      "metadata": {
        "colab": {
          "base_uri": "https://localhost:8080/"
        },
        "id": "qC827hh3MiUK",
        "outputId": "72b6d415-8a9e-4730-c0d4-0303e55655b7"
      },
      "execution_count": 14,
      "outputs": [
        {
          "output_type": "execute_result",
          "data": {
            "text/plain": [
              "53395"
            ]
          },
          "metadata": {},
          "execution_count": 14
        }
      ]
    },
    {
      "cell_type": "code",
      "execution_count": 15,
      "metadata": {
        "id": "8rc4YHKrbo6l"
      },
      "outputs": [],
      "source": [
        "scraped_data = list(set(scraped_data))"
      ]
    },
    {
      "cell_type": "code",
      "execution_count": 16,
      "metadata": {
        "colab": {
          "base_uri": "https://localhost:8080/"
        },
        "id": "2UVVCS2eqrXw",
        "outputId": "25061754-a16f-4514-b5c1-2fd38f0bed1f"
      },
      "outputs": [
        {
          "output_type": "execute_result",
          "data": {
            "text/plain": [
              "36033"
            ]
          },
          "metadata": {},
          "execution_count": 16
        }
      ],
      "source": [
        "len(scraped_data)"
      ]
    },
    {
      "cell_type": "code",
      "execution_count": 17,
      "metadata": {
        "id": "Isi0sk8T1ovc"
      },
      "outputs": [],
      "source": [
        "stop_words = set(stopwords.words('english'))\n",
        "punctuation = set(string.punctuation)\n",
        "stemmer = PorterStemmer()"
      ]
    },
    {
      "cell_type": "markdown",
      "source": [
        "This function preprocesses text data by tokenizing, converting to lowercase, removing stopwords and punctuation, and stemming using NLTK."
      ],
      "metadata": {
        "id": "VbVboO5S2Uod"
      }
    },
    {
      "cell_type": "code",
      "execution_count": 18,
      "metadata": {
        "id": "LLNx216hRyjB"
      },
      "outputs": [],
      "source": [
        "def preprocess_text(data):\n",
        "  p_data = []\n",
        "  for text in data:\n",
        "    tokens = word_tokenize(text)\n",
        "    tokens = [token.lower() for token in tokens if token.lower() not in punctuation]\n",
        "    tokens = [token for token in tokens if token.lower() not in stop_words]\n",
        "    tokens = [stemmer.stem(token) for token in tokens]\n",
        "    p_data.append(\" \".join(tokens))\n",
        "\n",
        "  return p_data\n"
      ]
    },
    {
      "cell_type": "code",
      "execution_count": 19,
      "metadata": {
        "id": "czuHNOTHvqjJ"
      },
      "outputs": [],
      "source": [
        "preprocessed_sentences = preprocess_text(scraped_data)"
      ]
    },
    {
      "cell_type": "code",
      "execution_count": 20,
      "metadata": {
        "colab": {
          "base_uri": "https://localhost:8080/"
        },
        "id": "4ym2W8wm4VIS",
        "outputId": "b9685193-4ff1-46be-b821-78ec3a8e2a72"
      },
      "outputs": [
        {
          "output_type": "execute_result",
          "data": {
            "text/plain": [
              "36033"
            ]
          },
          "metadata": {},
          "execution_count": 20
        }
      ],
      "source": [
        "len(preprocessed_sentences)"
      ]
    },
    {
      "cell_type": "code",
      "execution_count": 102,
      "metadata": {
        "colab": {
          "base_uri": "https://localhost:8080/"
        },
        "id": "eQYscz0a3mJ9",
        "outputId": "600c023a-e759-44db-d2c6-eba737fb9497"
      },
      "outputs": [
        {
          "output_type": "execute_result",
          "data": {
            "text/plain": [
              "SentenceTransformer(\n",
              "  (0): Transformer({'max_seq_length': 128, 'do_lower_case': False}) with Transformer model: BertModel \n",
              "  (1): Pooling({'word_embedding_dimension': 384, 'pooling_mode_cls_token': False, 'pooling_mode_mean_tokens': True, 'pooling_mode_max_tokens': False, 'pooling_mode_mean_sqrt_len_tokens': False, 'pooling_mode_weightedmean_tokens': False, 'pooling_mode_lasttoken': False, 'include_prompt': True})\n",
              ")"
            ]
          },
          "metadata": {},
          "execution_count": 102
        }
      ],
      "source": [
        "model = SentenceTransformer('paraphrase-multilingual-MiniLM-L12-v2')\n",
        "device = torch.device(\"cuda\" if torch.cuda.is_available() else \"cpu\")\n",
        "model.to(device)"
      ]
    },
    {
      "cell_type": "code",
      "execution_count": 22,
      "metadata": {
        "colab": {
          "base_uri": "https://localhost:8080/"
        },
        "id": "cKY2vZNC-RfK",
        "outputId": "d0f02c38-d122-432b-cd41-09a0d263acbc"
      },
      "outputs": [
        {
          "output_type": "execute_result",
          "data": {
            "text/plain": [
              "(36033, 384)"
            ]
          },
          "metadata": {},
          "execution_count": 22
        }
      ],
      "source": [
        "embeddings1 = model.encode(preprocessed_sentences, convert_to_tensor=False)\n",
        "embeddings1.shape"
      ]
    },
    {
      "cell_type": "code",
      "execution_count": 23,
      "metadata": {
        "colab": {
          "base_uri": "https://localhost:8080/"
        },
        "id": "r5so5T4k_okv",
        "outputId": "7fcd9f2d-a293-4e62-e7a4-d264e167003c"
      },
      "outputs": [
        {
          "output_type": "execute_result",
          "data": {
            "text/plain": [
              "array([ 0.11409242, -0.10919255, -0.10852886,  0.01782113, -0.0309688 ,\n",
              "        0.00673167,  0.13329148,  0.12780659, -0.07151479,  0.09632704],\n",
              "      dtype=float32)"
            ]
          },
          "metadata": {},
          "execution_count": 23
        }
      ],
      "source": [
        "embeddings1[0][:10]"
      ]
    },
    {
      "cell_type": "code",
      "execution_count": 24,
      "metadata": {
        "id": "RjKZ15_DAP4T"
      },
      "outputs": [],
      "source": [
        "np.save('embeddings.npy',embeddings1)"
      ]
    },
    {
      "cell_type": "code",
      "execution_count": 25,
      "metadata": {
        "id": "JOG_0OGbAwl6"
      },
      "outputs": [],
      "source": [
        "embeddings1 = np.load('embeddings.npy')"
      ]
    },
    {
      "cell_type": "markdown",
      "source": [
        "Checks if a server is running on a specified host and port using a socket connection."
      ],
      "metadata": {
        "id": "Uv_gUu9W2Z5z"
      }
    },
    {
      "cell_type": "code",
      "source": [
        "def is_server_running(host, port):\n",
        "  sock = socket.socket(socket.AF_INET, socket.SOCK_STREAM)\n",
        "  result = sock.connect_ex((host, port))\n",
        "  sock.close()\n",
        "  return result == 0"
      ],
      "metadata": {
        "id": "r9twpuBm0yz3"
      },
      "execution_count": 26,
      "outputs": []
    },
    {
      "cell_type": "markdown",
      "source": [
        "Connects to a Milvus server, starting it if necessary, and establishes a connection named \"default\"."
      ],
      "metadata": {
        "id": "bJJMA8px2eIi"
      }
    },
    {
      "cell_type": "code",
      "execution_count": 27,
      "metadata": {
        "id": "hTns1aqziY91"
      },
      "outputs": [],
      "source": [
        "def connect_to_milvus():\n",
        "  # connections.disconnect(\"default\")\n",
        "  if not is_server_running(host=\"127.0.0.1\",port=default_server.listen_port):\n",
        "    default_server.start()\n",
        "    connections.connect(\"default\",host=\"127.0.0.1\",port=default_server.listen_port)\n",
        "  print(\"Connected to Milvus.\")"
      ]
    },
    {
      "cell_type": "code",
      "execution_count": 28,
      "metadata": {
        "id": "DlfDzgBPiah3",
        "colab": {
          "base_uri": "https://localhost:8080/"
        },
        "outputId": "4a384fe3-ab1d-4e57-eab2-087630334513"
      },
      "outputs": [
        {
          "output_type": "stream",
          "name": "stdout",
          "text": [
            "Connected to Milvus.\n"
          ]
        }
      ],
      "source": [
        "connect_to_milvus()"
      ]
    },
    {
      "cell_type": "markdown",
      "source": [
        "Creates a Milvus collection with specific fields (id, index, text, embedding) and a defined schema."
      ],
      "metadata": {
        "id": "4FmOEMot2iwq"
      }
    },
    {
      "cell_type": "code",
      "execution_count": 29,
      "metadata": {
        "id": "vMzRNc-vNHtr"
      },
      "outputs": [],
      "source": [
        "def create_collection(collection_name, dim=384):\n",
        "\n",
        "  fields = [\n",
        "      FieldSchema(name=\"id\", dtype=DataType.INT64, is_primary=True, auto_id=True),\n",
        "      FieldSchema(name=\"index\", dtype=DataType.INT64),\n",
        "      FieldSchema(name=\"text\", dtype=DataType.VARCHAR, max_length=2048),\n",
        "      FieldSchema(name=\"embedding\", dtype=DataType.FLOAT_VECTOR, dim=dim)\n",
        "  ]\n",
        "  schema = CollectionSchema(fields, \"CUDA documentation collection\")\n",
        "  collection = Collection(collection_name, schema)\n",
        "  print(f\"Collection schema: {collection.schema}\")\n",
        "  return collection"
      ]
    },
    {
      "cell_type": "code",
      "execution_count": 30,
      "metadata": {
        "colab": {
          "base_uri": "https://localhost:8080/"
        },
        "id": "9ygclvidEwxd",
        "outputId": "b3713f5b-2cba-4738-8ccd-62391be008d6"
      },
      "outputs": [
        {
          "output_type": "stream",
          "name": "stdout",
          "text": [
            "Collection schema: {'auto_id': True, 'description': 'CUDA documentation collection', 'fields': [{'name': 'id', 'description': '', 'type': <DataType.INT64: 5>, 'is_primary': True, 'auto_id': True}, {'name': 'index', 'description': '', 'type': <DataType.INT64: 5>}, {'name': 'text', 'description': '', 'type': <DataType.VARCHAR: 21>, 'params': {'max_length': 2048}}, {'name': 'embedding', 'description': '', 'type': <DataType.FLOAT_VECTOR: 101>, 'params': {'dim': 384}}], 'enable_dynamic_field': False}\n"
          ]
        }
      ],
      "source": [
        "if not utility.has_collection(\"cuda_docs_collection\"):\n",
        "  collection = create_collection(\"cuda_docs_collection\")\n",
        "# collection.drop()"
      ]
    },
    {
      "cell_type": "markdown",
      "source": [
        "Inserts scraped data and corresponding embeddings into the Milvus collection in batches, flushing data afterward."
      ],
      "metadata": {
        "id": "b46Fhzhs2p_L"
      }
    },
    {
      "cell_type": "code",
      "execution_count": 31,
      "metadata": {
        "id": "ymAo6s27NnrU"
      },
      "outputs": [],
      "source": [
        "def create_index(collection, field_name=\"embedding\"):\n",
        "  index= {\"metric_type\": \"COSINE\", \"index_type\": \"IVF_FLAT\", \"params\": {\"nlist\": 128}}\n",
        "  collection.create_index(field_name, index)\n",
        "  print(f\"Index created on field '{field_name}' successfully!\")"
      ]
    },
    {
      "cell_type": "code",
      "execution_count": 32,
      "metadata": {
        "id": "yiMpcD-_Nzfr",
        "colab": {
          "base_uri": "https://localhost:8080/"
        },
        "outputId": "91d49acb-34bf-4ef6-f005-0288bd7bd847"
      },
      "outputs": [
        {
          "output_type": "stream",
          "name": "stdout",
          "text": [
            "Index created on field 'embedding' successfully!\n"
          ]
        }
      ],
      "source": [
        "create_index(collection)"
      ]
    },
    {
      "cell_type": "markdown",
      "source": [
        "Inserts scraped data and corresponding embeddings into the Milvus collection in batches, flushing data afterward."
      ],
      "metadata": {
        "id": "Iclf6c2w2vN1"
      }
    },
    {
      "cell_type": "code",
      "execution_count": 33,
      "metadata": {
        "id": "ef1_dH_gN_LG"
      },
      "outputs": [],
      "source": [
        "def insert_data(collection,scraped_data,embeddings):\n",
        "  batch_size = 1000\n",
        "  for i in range(0, len(scraped_data), batch_size):\n",
        "    end = min(i + batch_size, len(scraped_data))\n",
        "    batch_entities = [\n",
        "      list(range(i,end)),\n",
        "      [text for text in scraped_data[i:end]],\n",
        "      [embedding for embedding in embeddings[i:end]]\n",
        "      ]\n",
        "    collection.insert(batch_entities)\n",
        "  collection.flush()\n",
        "  print(\"Data inserted successfully!\")"
      ]
    },
    {
      "cell_type": "code",
      "execution_count": 34,
      "metadata": {
        "id": "nKTG5XF4ODKv",
        "colab": {
          "base_uri": "https://localhost:8080/"
        },
        "outputId": "720285df-0fa0-40b4-c13c-a77f9cc2732d"
      },
      "outputs": [
        {
          "output_type": "stream",
          "name": "stdout",
          "text": [
            "Data inserted successfully!\n"
          ]
        }
      ],
      "source": [
        "if collection.is_empty:\n",
        "  insert_data(collection,scraped_data,embeddings1)"
      ]
    },
    {
      "cell_type": "code",
      "execution_count": 35,
      "metadata": {
        "id": "Rwpd5w8RMdwa",
        "colab": {
          "base_uri": "https://localhost:8080/"
        },
        "outputId": "76dbc4f9-615d-45a9-db55-ca1fad176b39"
      },
      "outputs": [
        {
          "output_type": "execute_result",
          "data": {
            "text/plain": [
              "36033"
            ]
          },
          "metadata": {},
          "execution_count": 35
        }
      ],
      "source": [
        "collection.num_entities"
      ]
    },
    {
      "cell_type": "markdown",
      "source": [
        "Normalizes distances and scores of entities retrieved from Milvus to a common scale.\n",
        "\n"
      ],
      "metadata": {
        "id": "4LD7aH7J21hy"
      }
    },
    {
      "cell_type": "code",
      "execution_count": 36,
      "metadata": {
        "id": "z0Mv9MDYzgvs"
      },
      "outputs": [],
      "source": [
        "def normalize_distances(entities):\n",
        "  distances = [entity[1].distance for entity in entities]\n",
        "  scores = [entity[0] for entity in entities]\n",
        "  min_dist = min(distances)\n",
        "  max_dist = max(distances)\n",
        "\n",
        "  min_score = min(scores)\n",
        "  max_score = max(scores)\n",
        "\n",
        "  normalized_distances = [(dist - min_dist) / (max_dist - min_dist) for dist in distances]\n",
        "  normalized_scores = [(score - min_score) / (max_score - min_score) for score in scores]\n",
        "\n",
        "  for i, entity in enumerate(entities):\n",
        "    entity[1].distance = normalized_distances[i]\n",
        "    entity[0] = normalized_scores[i]\n",
        "\n",
        "  return entities"
      ]
    },
    {
      "cell_type": "markdown",
      "source": [
        "Performs hybrid retrieval combining BM25 scoring and BERT-based embedding search. It ranks results based on a weighted combination of BM25 scores and normalized distances from Milvus"
      ],
      "metadata": {
        "id": "DLxQdSvR29dg"
      }
    },
    {
      "cell_type": "code",
      "execution_count": 37,
      "metadata": {
        "id": "JDWaQ_z8X4zO"
      },
      "outputs": [],
      "source": [
        "def hybrid_retrieval(query_inp,collection,model,preprocessed_sentences,scraped_data,alpha=0.5):\n",
        "  tokenized_corpus = [text.split() for text in preprocessed_sentences]\n",
        "  bm25 = BM25Okapi(tokenized_corpus)\n",
        "\n",
        "  tokenized_query = query_inp[0].split()\n",
        "  doc_scores = bm25.get_scores(tokenized_query)\n",
        "\n",
        "  doc_scores1 = []\n",
        "  dict_scores = {}\n",
        "  for i,v in enumerate(doc_scores):\n",
        "    doc_scores1.append((i,v))\n",
        "    dict_scores[i]=v\n",
        "\n",
        "  doc_scores1_sorted = sorted(doc_scores1, key=lambda x: x[1],reverse=True)[:300]\n",
        "\n",
        "  # docs = bm25.get_top_n(tokenized_query, list(scraped_data), n=100)\n",
        "  # print(docs)\n",
        "  query_embedding = model.encode(query_inp, convert_to_tensor=False)\n",
        "  collection.load()\n",
        "  bert_result = collection.search(query_embedding,\"embedding\",param={\"metric_type\":\"COSINE\", \"params\":{\"nprobe\":128}},limit=1500,output_fields=[\"index\",\"text\",\"embedding\"])\n",
        "\n",
        "  bert_results_final = [r.entity.get('index') for r in bert_result[0]]\n",
        "  scores_final = []\n",
        "  for i in doc_scores1_sorted:\n",
        "    if(i[0] in bert_results_final):\n",
        "      scores_final.append(i[0])\n",
        "\n",
        "  bert_results1 = []\n",
        "  for r in bert_result[0]:\n",
        "    if r.entity.get('index') in scores_final:\n",
        "      bert_results1.append([dict_scores[r.entity.get('index')],r])\n",
        "\n",
        "  bert_results1 = normalize_distances(bert_results1)\n",
        "  for i in range(len(bert_results1)):\n",
        "    bert_results1[i][0] = alpha*bert_results1[i][0]+(1-alpha)*bert_results1[i][1].distance\n",
        "\n",
        "  bert_results_final = sorted(bert_results1,key=lambda x: x[0],reverse=True)\n",
        "  bert_results_final = [(r[0],r[1].entity.get('text')) for r in bert_results_final]\n",
        "  return bert_results_final"
      ]
    },
    {
      "cell_type": "code",
      "execution_count": 103,
      "metadata": {
        "id": "O2CMIBvhfxkl"
      },
      "outputs": [],
      "source": [
        "user_query = \"What is libdevice library?\"\n",
        "query_inp = preprocess_text([user_query])\n",
        "retrieved_docs = hybrid_retrieval(query_inp,collection,model,preprocessed_sentences,scraped_data,alpha=0.6)"
      ]
    },
    {
      "cell_type": "code",
      "execution_count": 104,
      "metadata": {
        "id": "75oyQVOlfynO",
        "colab": {
          "base_uri": "https://localhost:8080/"
        },
        "outputId": "912fcde3-c58b-4cc2-ef3c-5adc6db71fc8"
      },
      "outputs": [
        {
          "output_type": "execute_result",
          "data": {
            "text/plain": [
              "[(0.8351091601880062,\n",
              "  \"This guide documents both the functions available in libdevice and the basic usage of the library from a compiler writer's perspective.\"),\n",
              " (0.6986700025528929,\n",
              "  'libdevice User’s Guide The libdevice library is an LLVM bitcode library that implements common functions for GPU kernels'),\n",
              " (0.5952769102537547,\n",
              "  'The libdevice library ships as an LLVM bitcode library and is meant to be linked with the target module early in the compilation process. The standard process for linking with libdevice is to first link it with the target module, then run the standard LLVM optimization and code generation passes. This allows the optimizers to inline and perform analyses on the used library functions, and eliminate any used functions as dead code'),\n",
              " (0.40148803680612105,\n",
              "  'cusolver library provides dynamic library libcusolver.so and static library libcusolver_static.a . If the user links the application with libcusolver.so , libcublas.so , libcublasLt.so and libcusparse.so are also required. If the user links the application with libcusolver_static.a , the following libraries are also needed, libcudart_static.a , libculibos.a , libcusolver_lapack_static.a , libcusolver_metis_static.a , libcublas_static.a and libcusparse_static.a '),\n",
              " (0.3211944952768774,\n",
              "  'The libdevice library is a collection of NVVM bitcode functions that implement common functions for NVIDIA GPU devices, including math primitives and bit-manipulation functions. These functions are optimized for particular GPU architectures, and are intended to be linked with an NVVM IR module during compilation to PTX')]"
            ]
          },
          "metadata": {},
          "execution_count": 104
        }
      ],
      "source": [
        "retrieved_docs[:5]"
      ]
    },
    {
      "cell_type": "code",
      "execution_count": 105,
      "metadata": {
        "colab": {
          "base_uri": "https://localhost:8080/"
        },
        "id": "iWfc798kdnJV",
        "outputId": "6f3bf7a7-779e-42ce-c5e1-4fcca01df153"
      },
      "outputs": [
        {
          "output_type": "stream",
          "name": "stdout",
          "text": [
            "This guide documents both the functions available in libdevice and the basic usage of the library from a compiler writer's perspective.\n",
            "\n",
            "libdevice User’s Guide The libdevice library is an LLVM bitcode library that implements common functions for GPU kernels\n",
            "\n",
            "The libdevice library ships as an LLVM bitcode library and is meant to be linked with the target module early in the compilation process. The standard process for linking with libdevice is to first link it with the target module, then run the standard LLVM optimization and code generation passes. This allows the optimizers to inline and perform analyses on the used library functions, and eliminate any used functions as dead code\n",
            "\n",
            "cusolver library provides dynamic library libcusolver.so and static library libcusolver_static.a . If the user links the application with libcusolver.so , libcublas.so , libcublasLt.so and libcusparse.so are also required. If the user links the application with libcusolver_static.a , the following libraries are also needed, libcudart_static.a , libculibos.a , libcusolver_lapack_static.a , libcusolver_metis_static.a , libcublas_static.a and libcusparse_static.a \n",
            "\n",
            "The libdevice library is a collection of NVVM bitcode functions that implement common functions for NVIDIA GPU devices, including math primitives and bit-manipulation functions. These functions are optimized for particular GPU architectures, and are intended to be linked with an NVVM IR module during compilation to PTX\n",
            "\n"
          ]
        }
      ],
      "source": [
        "for i in retrieved_docs[:5]:\n",
        "  print(i[1],end=\"\\n\\n\")"
      ]
    },
    {
      "cell_type": "markdown",
      "source": [
        "Merging the retrieved con"
      ],
      "metadata": {
        "id": "xKcmZDrWEY_N"
      }
    },
    {
      "cell_type": "code",
      "source": [
        "context = [doc[1] for doc in retrieved_docs[:5]]\n",
        "context = \"\\n\".join(context)"
      ],
      "metadata": {
        "id": "BSvTmSVx-Cjf"
      },
      "execution_count": 106,
      "outputs": []
    },
    {
      "cell_type": "code",
      "source": [
        "context"
      ],
      "metadata": {
        "colab": {
          "base_uri": "https://localhost:8080/",
          "height": 122
        },
        "id": "ZE5ouuRB_bXN",
        "outputId": "971c8ef8-197e-4b4d-988c-8aab4a440daf"
      },
      "execution_count": 107,
      "outputs": [
        {
          "output_type": "execute_result",
          "data": {
            "text/plain": [
              "\"This guide documents both the functions available in libdevice and the basic usage of the library from a compiler writer's perspective.\\nlibdevice User’s Guide The libdevice library is an LLVM bitcode library that implements common functions for GPU kernels\\nThe libdevice library ships as an LLVM bitcode library and is meant to be linked with the target module early in the compilation process. The standard process for linking with libdevice is to first link it with the target module, then run the standard LLVM optimization and code generation passes. This allows the optimizers to inline and perform analyses on the used library functions, and eliminate any used functions as dead code\\ncusolver library provides dynamic library libcusolver.so and static library libcusolver_static.a . If the user links the application with libcusolver.so , libcublas.so , libcublasLt.so and libcusparse.so are also required. If the user links the application with libcusolver_static.a , the following libraries are also needed, libcudart_static.a , libculibos.a , libcusolver_lapack_static.a , libcusolver_metis_static.a , libcublas_static.a and libcusparse_static.a \\nThe libdevice library is a collection of NVVM bitcode functions that implement common functions for NVIDIA GPU devices, including math primitives and bit-manipulation functions. These functions are optimized for particular GPU architectures, and are intended to be linked with an NVVM IR module during compilation to PTX\""
            ],
            "application/vnd.google.colaboratory.intrinsic+json": {
              "type": "string"
            }
          },
          "metadata": {},
          "execution_count": 107
        }
      ]
    },
    {
      "cell_type": "code",
      "source": [
        "model2 = BertForQuestionAnswering.from_pretrained('bert-large-uncased-whole-word-masking-finetuned-squad')\n",
        "tokenizer2 = BertTokenizer.from_pretrained('bert-large-uncased-whole-word-masking-finetuned-squad')"
      ],
      "metadata": {
        "colab": {
          "base_uri": "https://localhost:8080/"
        },
        "id": "5hrXxSbg8Hsg",
        "outputId": "4e84151a-dc5e-4ac0-f609-ac3a9ef482a4"
      },
      "execution_count": 108,
      "outputs": [
        {
          "output_type": "stream",
          "name": "stderr",
          "text": [
            "Some weights of the model checkpoint at bert-large-uncased-whole-word-masking-finetuned-squad were not used when initializing BertForQuestionAnswering: ['bert.pooler.dense.bias', 'bert.pooler.dense.weight']\n",
            "- This IS expected if you are initializing BertForQuestionAnswering from the checkpoint of a model trained on another task or with another architecture (e.g. initializing a BertForSequenceClassification model from a BertForPreTraining model).\n",
            "- This IS NOT expected if you are initializing BertForQuestionAnswering from the checkpoint of a model that you expect to be exactly identical (initializing a BertForSequenceClassification model from a BertForSequenceClassification model).\n"
          ]
        }
      ]
    },
    {
      "cell_type": "markdown",
      "source": [
        "This functions takes the user_query, ranked output and bert model to produce the relevant answer for the query"
      ],
      "metadata": {
        "id": "eu4W0yv-KO_6"
      }
    },
    {
      "cell_type": "code",
      "source": [
        "def question_answer(user_query, context, model, tokenizer):\n",
        "\n",
        "    inputs = tokenizer.encode_plus(user_query, context, return_tensors='pt', add_special_tokens=True)\n",
        "    input_ids = inputs['input_ids']\n",
        "    token_type_ids = inputs['token_type_ids']\n",
        "\n",
        "    outputs = model(input_ids, token_type_ids=token_type_ids)\n",
        "    start_logits = outputs.start_logits\n",
        "    end_logits = outputs.end_logits\n",
        "\n",
        "    answer_start = torch.argmax(start_logits)\n",
        "    answer_end = torch.argmax(end_logits)\n",
        "\n",
        "    answer_tokens = input_ids[0][answer_start:answer_end + 1]\n",
        "    answer = tokenizer.decode(answer_tokens, skip_special_tokens=True)\n",
        "\n",
        "    corrected_answer = answer.capitalize()\n",
        "\n",
        "    return corrected_answer"
      ],
      "metadata": {
        "id": "odE8IlyoHJ_r"
      },
      "execution_count": 121,
      "outputs": []
    },
    {
      "cell_type": "code",
      "source": [
        "answer = question_answer(user_query,context,model2,tokenizer2)\n",
        "answer"
      ],
      "metadata": {
        "colab": {
          "base_uri": "https://localhost:8080/",
          "height": 35
        },
        "id": "DWxYxlI17aSb",
        "outputId": "3ca4a104-644b-4bee-ca1c-09ebd0d7eb52"
      },
      "execution_count": 122,
      "outputs": [
        {
          "output_type": "execute_result",
          "data": {
            "text/plain": [
              "'A collection of nvvm bitcode functions that implement common functions for nvidia gpu devices'"
            ],
            "application/vnd.google.colaboratory.intrinsic+json": {
              "type": "string"
            }
          },
          "metadata": {},
          "execution_count": 122
        }
      ]
    },
    {
      "cell_type": "code",
      "source": [],
      "metadata": {
        "id": "3Qxde8b6Gev4"
      },
      "execution_count": null,
      "outputs": []
    }
  ],
  "metadata": {
    "accelerator": "GPU",
    "colab": {
      "gpuType": "T4",
      "provenance": []
    },
    "kernelspec": {
      "display_name": "Python 3",
      "name": "python3"
    },
    "language_info": {
      "name": "python"
    }
  },
  "nbformat": 4,
  "nbformat_minor": 0
}